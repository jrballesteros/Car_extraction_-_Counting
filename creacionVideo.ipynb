{
 "cells": [
  {
   "cell_type": "code",
   "execution_count": 12,
   "metadata": {
    "ExecuteTime": {
     "end_time": "2020-04-25T01:43:23.289726Z",
     "start_time": "2020-04-25T01:43:18.825159Z"
    }
   },
   "outputs": [],
   "source": [
    "import imageio\n",
    "import os\n",
    "\n",
    "mypath = r'C://Users//john//Downloads//coronavirus//images//'\n",
    "\n",
    "image_folder = os.fsencode(mypath)\n",
    "\n",
    "filenames = []\n",
    "\n",
    "for file in os.listdir(image_folder):\n",
    "    filename = os.fsdecode(file)\n",
    "    if filename.endswith( ('.jpg', '.jpeg', '.png', '.gif') ):\n",
    "        filenames.append(filename)\n",
    "\n",
    "filenames.sort() # this iteration technique has no built in order, so sort the frames,i.e. nombres 1,2,3,4,5 es lo mas facil\n",
    "\n",
    "images = list(map(lambda filename: imageio.imread(filename), filenames))\n",
    "\n",
    "imageio.mimsave(os.path.join('Coronavirus40dias.gif'), images, duration = 0.5) # modify duration as needed"
   ]
  },
  {
   "cell_type": "markdown",
   "metadata": {
    "ExecuteTime": {
     "end_time": "2020-04-25T01:43:51.776019Z",
     "start_time": "2020-04-25T01:43:51.771031Z"
    }
   },
   "source": [
    "# a function in Python that allows you to set a hold on the final frame. I use this function for scientific animations where looping is useful but immediate restart isn't. Here is the link and the function:"
   ]
  },
  {
   "cell_type": "code",
   "execution_count": null,
   "metadata": {},
   "outputs": [],
   "source": [
    "import matplotlib.pyplot as plt\n",
    "import os\n",
    "import imageio\n",
    "\n",
    "def gif_maker(gif_name,png_dir,gif_indx,num_gifs,dpi=90):\n",
    "    # make png path if it doesn't exist already\n",
    "    if not os.path.exists(png_dir):\n",
    "        os.makedirs(png_dir)\n",
    "\n",
    "    # save each .png for GIF\n",
    "    # lower dpi gives a smaller, grainier GIF; higher dpi gives larger, clearer GIF\n",
    "    plt.savefig(png_dir+'frame_'+str(gif_indx)+'_.png',dpi=dpi)\n",
    "    plt.close('all') # comment this out if you're just updating the x,y data\n",
    "\n",
    "    if gif_indx==num_gifs-1:\n",
    "        # sort the .png files based on index used above\n",
    "        images,image_file_names = [],[]\n",
    "        for file_name in os.listdir(png_dir):\n",
    "            if file_name.endswith('.png'):\n",
    "                image_file_names.append(file_name)       \n",
    "        sorted_files = sorted(image_file_names, key=lambda y: int(y.split('_')[1]))\n",
    "\n",
    "        # define some GIF parameters\n",
    "\n",
    "        frame_length = 0.5 # seconds between frames\n",
    "        end_pause = 4 # seconds to stay on last frame\n",
    "        # loop through files, join them to image array, and write to GIF called 'wind_turbine_dist.gif'\n",
    "        for ii in range(0,len(sorted_files)):       \n",
    "            file_path = os.path.join(png_dir, sorted_files[ii])\n",
    "            if ii==len(sorted_files)-1:\n",
    "                for jj in range(0,int(end_pause/frame_length)):\n",
    "                    images.append(imageio.imread(file_path))\n",
    "            else:\n",
    "                images.append(imageio.imread(file_path))\n",
    "        # the duration is the time spent on each image (1/duration is frame rate)\n",
    "        imageio.mimsave(gif_name, images,'GIF',duration=frame_length)\n",
    "        "
   ]
  }
 ],
 "metadata": {
  "kernelspec": {
   "display_name": "Python 3",
   "language": "python",
   "name": "python3"
  },
  "language_info": {
   "codemirror_mode": {
    "name": "ipython",
    "version": 3
   },
   "file_extension": ".py",
   "mimetype": "text/x-python",
   "name": "python",
   "nbconvert_exporter": "python",
   "pygments_lexer": "ipython3",
   "version": "3.7.4"
  },
  "latex_envs": {
   "LaTeX_envs_menu_present": true,
   "autoclose": false,
   "autocomplete": true,
   "bibliofile": "biblio.bib",
   "cite_by": "apalike",
   "current_citInitial": 1,
   "eqLabelWithNumbers": true,
   "eqNumInitial": 1,
   "hotkeys": {
    "equation": "Ctrl-E",
    "itemize": "Ctrl-I"
   },
   "labels_anchors": false,
   "latex_user_defs": false,
   "report_style_numbering": false,
   "user_envs_cfg": false
  },
  "toc": {
   "base_numbering": 1,
   "nav_menu": {},
   "number_sections": true,
   "sideBar": true,
   "skip_h1_title": false,
   "title_cell": "Table of Contents",
   "title_sidebar": "Contents",
   "toc_cell": false,
   "toc_position": {},
   "toc_section_display": true,
   "toc_window_display": false
  },
  "varInspector": {
   "cols": {
    "lenName": 16,
    "lenType": 16,
    "lenVar": 40
   },
   "kernels_config": {
    "python": {
     "delete_cmd_postfix": "",
     "delete_cmd_prefix": "del ",
     "library": "var_list.py",
     "varRefreshCmd": "print(var_dic_list())"
    },
    "r": {
     "delete_cmd_postfix": ") ",
     "delete_cmd_prefix": "rm(",
     "library": "var_list.r",
     "varRefreshCmd": "cat(var_dic_list()) "
    }
   },
   "types_to_exclude": [
    "module",
    "function",
    "builtin_function_or_method",
    "instance",
    "_Feature"
   ],
   "window_display": false
  }
 },
 "nbformat": 4,
 "nbformat_minor": 4
}
