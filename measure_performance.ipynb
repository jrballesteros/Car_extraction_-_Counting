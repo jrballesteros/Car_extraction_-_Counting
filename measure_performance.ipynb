{
 "cells": [
  {
   "cell_type": "code",
   "execution_count": null,
   "metadata": {},
   "outputs": [],
   "source": [
    "# example of loading a pix2pix model and using it for one-off image translation\n",
    "from keras.models import load_model\n",
    "from keras.preprocessing.image import img_to_array\n",
    "from keras.preprocessing.image import load_img\n",
    "from numpy import load\n",
    "from numpy import expand_dims\n",
    "from matplotlib import pyplot\n",
    "\n",
    "# load an image\n",
    "def load_image(filename, size=(256,256)):\n",
    "\t# load image with the preferred size\n",
    "\tpixels = load_img(filename, target_size=size)\n",
    "\t# convert to numpy array\n",
    "\tpixels = img_to_array(pixels)\n",
    "\t# scale from [0,255] to [-1,1]\n",
    "\tpixels = (pixels - 127.5) / 127.5\n",
    "\t# reshape to 1 sample\n",
    "\tpixels = expand_dims(pixels, 0)\n",
    "\treturn pixels\n",
    "\n",
    "# load source image\n",
    "src_image = load_image(os.path.join(base_dir + 'test', 'test2.tif'))\n",
    "print('Loaded', src_image.shape)\n",
    "# load model\n",
    "modelname = 'model_157400.h5'\n",
    "model = load_model(base_dir + modelname)\n",
    "# generate image from source\n",
    "gen_image = model.predict(src_image)\n",
    "# scale from [-1,1] to [0,1]\n",
    "gen_image = (gen_image + 1) / 2.0\n",
    "\n",
    "# Load \n",
    "size=(256,256)\n",
    "myimg = load_img(os.path.join(base_dir + 'test', 'test2.tif'), target_size=size, color_mode='rgb')\n",
    "\n",
    "# plot the image\n",
    "#pyplot.imshow(gen_image[0])\n",
    "#pyplot.axis('off')\n",
    "#pyplot.show()\n",
    "\n",
    "fig, ax = pyplot.subplots(1,2)\n",
    "ax[0].imshow(myimg);\n",
    "pyplot.axis('off')\n",
    "ax[1].imshow(gen_image[0])\n",
    "pyplot.axis('off')"
   ]
  }
 ],
 "metadata": {
  "kernelspec": {
   "display_name": "Python 3",
   "language": "python",
   "name": "python3"
  },
  "language_info": {
   "codemirror_mode": {
    "name": "ipython",
    "version": 3
   },
   "file_extension": ".py",
   "mimetype": "text/x-python",
   "name": "python",
   "nbconvert_exporter": "python",
   "pygments_lexer": "ipython3",
   "version": "3.7.4"
  },
  "latex_envs": {
   "LaTeX_envs_menu_present": true,
   "autoclose": false,
   "autocomplete": true,
   "bibliofile": "biblio.bib",
   "cite_by": "apalike",
   "current_citInitial": 1,
   "eqLabelWithNumbers": true,
   "eqNumInitial": 1,
   "hotkeys": {
    "equation": "Ctrl-E",
    "itemize": "Ctrl-I"
   },
   "labels_anchors": false,
   "latex_user_defs": false,
   "report_style_numbering": false,
   "user_envs_cfg": false
  },
  "toc": {
   "base_numbering": 1,
   "nav_menu": {},
   "number_sections": true,
   "sideBar": true,
   "skip_h1_title": false,
   "title_cell": "Table of Contents",
   "title_sidebar": "Contents",
   "toc_cell": false,
   "toc_position": {},
   "toc_section_display": true,
   "toc_window_display": false
  },
  "varInspector": {
   "cols": {
    "lenName": 16,
    "lenType": 16,
    "lenVar": 40
   },
   "kernels_config": {
    "python": {
     "delete_cmd_postfix": "",
     "delete_cmd_prefix": "del ",
     "library": "var_list.py",
     "varRefreshCmd": "print(var_dic_list())"
    },
    "r": {
     "delete_cmd_postfix": ") ",
     "delete_cmd_prefix": "rm(",
     "library": "var_list.r",
     "varRefreshCmd": "cat(var_dic_list()) "
    }
   },
   "types_to_exclude": [
    "module",
    "function",
    "builtin_function_or_method",
    "instance",
    "_Feature"
   ],
   "window_display": false
  }
 },
 "nbformat": 4,
 "nbformat_minor": 4
}
