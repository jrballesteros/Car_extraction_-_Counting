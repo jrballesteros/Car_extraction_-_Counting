{
 "cells": [
  {
   "cell_type": "code",
   "execution_count": null,
   "metadata": {},
   "outputs": [],
   "source": [
    "# Script to rename images and masks\n",
    "\n",
    "import os\n",
    "\n",
    "mysource = \"path to images\"\n",
    "mysource2 = \"path to masks\"\n",
    "\n",
    "i = 1\n",
    "for item in os.listdir(mysource):\n",
    "    os.rename(os.path.join(mysource,item),os.path.join(mysource,(str(i)+'.tif')))\n",
    "    #os.rename(os.path.join(mysource,item),os.path.join(mysource,(str(i)+'w'+'.tif')))\n",
    "    i += 1\n",
    "print(\"number of renamed images is:\", i-1)\n",
    "\n",
    "j = 1\n",
    "for item in os.listdir(mysource2):\n",
    "    os.rename(os.path.join(mysource2,item),os.path.join(mysource2,(str(j)+'.tif')))\n",
    "    #os.rename(os.path.join(mysource2,item),os.path.join(mysource2,(str(j)+'w'+'.tif')))\n",
    "    j += 1\n",
    "print(\"number of renamed masks is:\", j-1)"
   ]
  }
 ],
 "metadata": {
  "kernelspec": {
   "display_name": "Python 3",
   "language": "python",
   "name": "python3"
  },
  "language_info": {
   "codemirror_mode": {
    "name": "ipython",
    "version": 3
   },
   "file_extension": ".py",
   "mimetype": "text/x-python",
   "name": "python",
   "nbconvert_exporter": "python",
   "pygments_lexer": "ipython3",
   "version": "3.7.4"
  },
  "latex_envs": {
   "LaTeX_envs_menu_present": true,
   "autoclose": false,
   "autocomplete": true,
   "bibliofile": "biblio.bib",
   "cite_by": "apalike",
   "current_citInitial": 1,
   "eqLabelWithNumbers": true,
   "eqNumInitial": 1,
   "hotkeys": {
    "equation": "Ctrl-E",
    "itemize": "Ctrl-I"
   },
   "labels_anchors": false,
   "latex_user_defs": false,
   "report_style_numbering": false,
   "user_envs_cfg": false
  },
  "toc": {
   "base_numbering": 1,
   "nav_menu": {},
   "number_sections": true,
   "sideBar": true,
   "skip_h1_title": false,
   "title_cell": "Table of Contents",
   "title_sidebar": "Contents",
   "toc_cell": false,
   "toc_position": {},
   "toc_section_display": true,
   "toc_window_display": false
  },
  "varInspector": {
   "cols": {
    "lenName": 16,
    "lenType": 16,
    "lenVar": 40
   },
   "kernels_config": {
    "python": {
     "delete_cmd_postfix": "",
     "delete_cmd_prefix": "del ",
     "library": "var_list.py",
     "varRefreshCmd": "print(var_dic_list())"
    },
    "r": {
     "delete_cmd_postfix": ") ",
     "delete_cmd_prefix": "rm(",
     "library": "var_list.r",
     "varRefreshCmd": "cat(var_dic_list()) "
    }
   },
   "types_to_exclude": [
    "module",
    "function",
    "builtin_function_or_method",
    "instance",
    "_Feature"
   ],
   "window_display": false
  }
 },
 "nbformat": 4,
 "nbformat_minor": 4
}
