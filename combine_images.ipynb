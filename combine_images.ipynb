{
 "cells": [
  {
   "cell_type": "code",
   "execution_count": 10,
   "metadata": {
    "ExecuteTime": {
     "end_time": "2020-09-19T00:03:59.916355Z",
     "start_time": "2020-09-19T00:03:59.902147Z"
    }
   },
   "outputs": [],
   "source": [
    "import sys\n",
    "import os\n",
    "from PIL import Image"
   ]
  },
  {
   "cell_type": "code",
   "execution_count": 1,
   "metadata": {
    "ExecuteTime": {
     "end_time": "2020-10-02T04:02:21.914923Z",
     "start_time": "2020-10-02T04:01:41.013568Z"
    }
   },
   "outputs": [
    {
     "name": "stdout",
     "output_type": "stream",
     "text": [
      "Se combinaron en total 2116 imagenes .jpg\n"
     ]
    }
   ],
   "source": [
    "import sys\n",
    "import os\n",
    "from PIL import Image\n",
    "\n",
    "myfolder1 = \"C:/Users/john/Downloads/PythonCourseUN/software/datasets/imge_bg/\"\n",
    "myfolder2 = \"C:/Users/john/Downloads/PythonCourseUN/software/datasets/mask_bg/\"\n",
    "myoutfolder = \"C:/Users/john/Downloads/PythonCourseUN/software/datasets/combined_bg/\"\n",
    "\n",
    "total_width = 512 \n",
    "max_height = 256\n",
    "lst1 = []\n",
    "lst2 = []\n",
    "\n",
    "new_im = Image.new('RGB', (total_width, max_height), color=(0,0,0))\n",
    "\n",
    "for count, filename in enumerate(os.listdir(myfolder1)):\n",
    "    #print(count, filename) \n",
    "    (lst1.append(filename))\n",
    "#print(lst1)\n",
    "\n",
    "for count2, filename2 in enumerate(os.listdir(myfolder2)):\n",
    "    (lst2.append(filename2))\n",
    "#print(lst2)\n",
    "#print(len(lst1))\n",
    "#for elem in lst1:\n",
    "for i in range(0,len(lst1)):\n",
    "    im=Image.open(myfolder1+str(lst1[i])).convert(\"RGB\")\n",
    "    img=Image.open(myfolder2+str(lst2[i])).convert(\"RGB\")\n",
    "    #new_im.paste(img, im)\n",
    "    new_im.paste(im, (0,0))\n",
    "    new_im.paste(img, (256,0))\n",
    "    new_im.save(myoutfolder + str(i+1) + '.jpg')\n",
    "\n",
    "print('Se combinaron en total ' + str(len(lst1)) + ' imagenes .jpg')"
   ]
  },
  {
   "cell_type": "code",
   "execution_count": 14,
   "metadata": {
    "ExecuteTime": {
     "end_time": "2020-09-19T02:48:30.385611Z",
     "start_time": "2020-09-19T02:48:26.248531Z"
    }
   },
   "outputs": [
    {
     "ename": "PermissionError",
     "evalue": "[Errno 13] Permission denied: 'C:/Users/john/Documents/Masks/green/combined'",
     "output_type": "error",
     "traceback": [
      "\u001b[1;31m---------------------------------------------------------------------------\u001b[0m",
      "\u001b[1;31mPermissionError\u001b[0m                           Traceback (most recent call last)",
      "\u001b[1;32m<ipython-input-14-d0e8bda2d816>\u001b[0m in \u001b[0;36m<module>\u001b[1;34m\u001b[0m\n\u001b[0;32m     21\u001b[0m \u001b[1;31m#for elem in lst1:\u001b[0m\u001b[1;33m\u001b[0m\u001b[1;33m\u001b[0m\u001b[1;33m\u001b[0m\u001b[0m\n\u001b[0;32m     22\u001b[0m \u001b[1;32mfor\u001b[0m \u001b[0mi\u001b[0m \u001b[1;32min\u001b[0m \u001b[0mrange\u001b[0m\u001b[1;33m(\u001b[0m\u001b[1;36m0\u001b[0m\u001b[1;33m,\u001b[0m\u001b[0mlen\u001b[0m\u001b[1;33m(\u001b[0m\u001b[0mlst1\u001b[0m\u001b[1;33m)\u001b[0m\u001b[1;33m)\u001b[0m\u001b[1;33m:\u001b[0m\u001b[1;33m\u001b[0m\u001b[1;33m\u001b[0m\u001b[0m\n\u001b[1;32m---> 23\u001b[1;33m     \u001b[0mim\u001b[0m\u001b[1;33m=\u001b[0m\u001b[0mImage\u001b[0m\u001b[1;33m.\u001b[0m\u001b[0mopen\u001b[0m\u001b[1;33m(\u001b[0m\u001b[0mmyfolder1\u001b[0m\u001b[1;33m+\u001b[0m\u001b[0mstr\u001b[0m\u001b[1;33m(\u001b[0m\u001b[0mlst1\u001b[0m\u001b[1;33m[\u001b[0m\u001b[0mi\u001b[0m\u001b[1;33m]\u001b[0m\u001b[1;33m)\u001b[0m\u001b[1;33m)\u001b[0m\u001b[1;33m.\u001b[0m\u001b[0mconvert\u001b[0m\u001b[1;33m(\u001b[0m\u001b[1;34m\"RGB\"\u001b[0m\u001b[1;33m)\u001b[0m\u001b[1;33m\u001b[0m\u001b[1;33m\u001b[0m\u001b[0m\n\u001b[0m\u001b[0;32m     24\u001b[0m     \u001b[0mimg\u001b[0m\u001b[1;33m=\u001b[0m\u001b[0mImage\u001b[0m\u001b[1;33m.\u001b[0m\u001b[0mopen\u001b[0m\u001b[1;33m(\u001b[0m\u001b[0mmyfolder2\u001b[0m\u001b[1;33m+\u001b[0m\u001b[0mstr\u001b[0m\u001b[1;33m(\u001b[0m\u001b[0mlst2\u001b[0m\u001b[1;33m[\u001b[0m\u001b[0mi\u001b[0m\u001b[1;33m]\u001b[0m\u001b[1;33m)\u001b[0m\u001b[1;33m)\u001b[0m\u001b[1;33m.\u001b[0m\u001b[0mconvert\u001b[0m\u001b[1;33m(\u001b[0m\u001b[1;34m\"RGB\"\u001b[0m\u001b[1;33m)\u001b[0m\u001b[1;33m\u001b[0m\u001b[1;33m\u001b[0m\u001b[0m\n\u001b[0;32m     25\u001b[0m     \u001b[1;31m#new_im.paste(img, im)\u001b[0m\u001b[1;33m\u001b[0m\u001b[1;33m\u001b[0m\u001b[1;33m\u001b[0m\u001b[0m\n",
      "\u001b[1;32m~\\AppData\\Roaming\\Python\\Python37\\site-packages\\PIL\\Image.py\u001b[0m in \u001b[0;36mopen\u001b[1;34m(fp, mode)\u001b[0m\n\u001b[0;32m   2807\u001b[0m \u001b[1;33m\u001b[0m\u001b[0m\n\u001b[0;32m   2808\u001b[0m     \u001b[1;32mif\u001b[0m \u001b[0mfilename\u001b[0m\u001b[1;33m:\u001b[0m\u001b[1;33m\u001b[0m\u001b[1;33m\u001b[0m\u001b[0m\n\u001b[1;32m-> 2809\u001b[1;33m         \u001b[0mfp\u001b[0m \u001b[1;33m=\u001b[0m \u001b[0mbuiltins\u001b[0m\u001b[1;33m.\u001b[0m\u001b[0mopen\u001b[0m\u001b[1;33m(\u001b[0m\u001b[0mfilename\u001b[0m\u001b[1;33m,\u001b[0m \u001b[1;34m\"rb\"\u001b[0m\u001b[1;33m)\u001b[0m\u001b[1;33m\u001b[0m\u001b[1;33m\u001b[0m\u001b[0m\n\u001b[0m\u001b[0;32m   2810\u001b[0m         \u001b[0mexclusive_fp\u001b[0m \u001b[1;33m=\u001b[0m \u001b[1;32mTrue\u001b[0m\u001b[1;33m\u001b[0m\u001b[1;33m\u001b[0m\u001b[0m\n\u001b[0;32m   2811\u001b[0m \u001b[1;33m\u001b[0m\u001b[0m\n",
      "\u001b[1;31mPermissionError\u001b[0m: [Errno 13] Permission denied: 'C:/Users/john/Documents/Masks/green/combined'"
     ]
    }
   ],
   "source": [
    "myfolder1 = 'C:/Users/john/Documents/Masks/green/'\n",
    "myfolder2 = 'C:/Users/john/Documents/Masks/green/msk/'\n",
    "myoutfolder = 'C:/Users/john/Documents/Masks/green/combined/'\n",
    "\n",
    "total_width = 512 \n",
    "max_height = 256\n",
    "lst1 = []\n",
    "lst2 = []\n",
    "\n",
    "new_im = Image.new('RGB', (total_width, max_height), color=(0,0,0))\n",
    "\n",
    "for count, filename in enumerate(os.listdir(myfolder1)):\n",
    "    #print(count, filename) \n",
    "    (lst1.append(filename))\n",
    "#print(lst1)\n",
    "\n",
    "for count2, filename2 in enumerate(os.listdir(myfolder2)):\n",
    "    (lst2.append(filename2))\n",
    "#print(lst2)\n",
    "#print(len(lst1))\n",
    "#for elem in lst1:\n",
    "for i in range(0,len(lst1)):\n",
    "    im=Image.open(myfolder1+str(lst1[i])).convert(\"RGB\")\n",
    "    img=Image.open(myfolder2+str(lst2[i])).convert(\"RGB\")\n",
    "    #new_im.paste(img, im)\n",
    "    new_im.paste(im, (0,0))\n",
    "    new_im.paste(img, (256,0))\n",
    "    new_im.save(myoutfolder + str(i+1) + '.tif')"
   ]
  }
 ],
 "metadata": {
  "kernelspec": {
   "display_name": "Python 3",
   "language": "python",
   "name": "python3"
  },
  "language_info": {
   "codemirror_mode": {
    "name": "ipython",
    "version": 3
   },
   "file_extension": ".py",
   "mimetype": "text/x-python",
   "name": "python",
   "nbconvert_exporter": "python",
   "pygments_lexer": "ipython3",
   "version": "3.7.4"
  },
  "toc": {
   "base_numbering": 1,
   "nav_menu": {},
   "number_sections": true,
   "sideBar": true,
   "skip_h1_title": false,
   "title_cell": "Table of Contents",
   "title_sidebar": "Contents",
   "toc_cell": false,
   "toc_position": {},
   "toc_section_display": true,
   "toc_window_display": false
  },
  "varInspector": {
   "cols": {
    "lenName": 16,
    "lenType": 16,
    "lenVar": 40
   },
   "kernels_config": {
    "python": {
     "delete_cmd_postfix": "",
     "delete_cmd_prefix": "del ",
     "library": "var_list.py",
     "varRefreshCmd": "print(var_dic_list())"
    },
    "r": {
     "delete_cmd_postfix": ") ",
     "delete_cmd_prefix": "rm(",
     "library": "var_list.r",
     "varRefreshCmd": "cat(var_dic_list()) "
    }
   },
   "types_to_exclude": [
    "module",
    "function",
    "builtin_function_or_method",
    "instance",
    "_Feature"
   ],
   "window_display": false
  }
 },
 "nbformat": 4,
 "nbformat_minor": 4
}
