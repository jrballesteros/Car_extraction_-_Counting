{
 "cells": [
  {
   "cell_type": "code",
   "execution_count": 2,
   "metadata": {
    "ExecuteTime": {
     "end_time": "2020-11-04T14:33:36.380806Z",
     "start_time": "2020-11-04T14:33:36.356896Z"
    }
   },
   "outputs": [],
   "source": [
    "import os, shutil, pathlib, fnmatch\n",
    "\n",
    "def move_files(src: str, dst: str, pattern: str = '*'):\n",
    "    if not os.path.isdir(dst):\n",
    "        pathlib.Path(dst).mkdir(parents=True, exist_ok=True)\n",
    "    for f in fnmatch.filter(os.listdir(src), pattern):\n",
    "        shutil.move(os.path.join(src, f), os.path.join(dst, f))"
   ]
  },
  {
   "cell_type": "code",
   "execution_count": 9,
   "metadata": {
    "ExecuteTime": {
     "end_time": "2020-11-04T14:51:14.543968Z",
     "start_time": "2020-11-04T14:51:14.532143Z"
    }
   },
   "outputs": [],
   "source": [
    "src = r\"C:\\Users\\john\\Downloads\\LandCoverData\"\n",
    "dst = r\"C:\\Users\\john\\Downloads\\LandCoverData\\images\"\n",
    "dst2 = r\"C:\\Users\\john\\Downloads\\LandCoverData\\labels\"\n",
    "pattern = 'M*.jpg'\n",
    "pattern2 = 'N*.jpg'\n",
    "pattern3 = 'M*.png'\n",
    "pattern4 = 'N*.png'"
   ]
  },
  {
   "cell_type": "code",
   "execution_count": 4,
   "metadata": {
    "ExecuteTime": {
     "end_time": "2020-11-04T14:37:56.807826Z",
     "start_time": "2020-11-04T14:37:47.643241Z"
    }
   },
   "outputs": [],
   "source": [
    "move_files(src,dst,pattern)\n",
    "move_files(src,dst,pattern2)\n",
    "move_files(src,dst2,pattern3)\n",
    "move_files(src,dst2,pattern4)"
   ]
  }
 ],
 "metadata": {
  "kernelspec": {
   "display_name": "Python 3",
   "language": "python",
   "name": "python3"
  },
  "language_info": {
   "codemirror_mode": {
    "name": "ipython",
    "version": 3
   },
   "file_extension": ".py",
   "mimetype": "text/x-python",
   "name": "python",
   "nbconvert_exporter": "python",
   "pygments_lexer": "ipython3",
   "version": "3.7.4"
  },
  "latex_envs": {
   "LaTeX_envs_menu_present": true,
   "autoclose": false,
   "autocomplete": true,
   "bibliofile": "biblio.bib",
   "cite_by": "apalike",
   "current_citInitial": 1,
   "eqLabelWithNumbers": true,
   "eqNumInitial": 1,
   "hotkeys": {
    "equation": "Ctrl-E",
    "itemize": "Ctrl-I"
   },
   "labels_anchors": false,
   "latex_user_defs": false,
   "report_style_numbering": false,
   "user_envs_cfg": false
  },
  "toc": {
   "base_numbering": 1,
   "nav_menu": {},
   "number_sections": true,
   "sideBar": true,
   "skip_h1_title": false,
   "title_cell": "Table of Contents",
   "title_sidebar": "Contents",
   "toc_cell": false,
   "toc_position": {},
   "toc_section_display": true,
   "toc_window_display": false
  },
  "varInspector": {
   "cols": {
    "lenName": 16,
    "lenType": 16,
    "lenVar": 40
   },
   "kernels_config": {
    "python": {
     "delete_cmd_postfix": "",
     "delete_cmd_prefix": "del ",
     "library": "var_list.py",
     "varRefreshCmd": "print(var_dic_list())"
    },
    "r": {
     "delete_cmd_postfix": ") ",
     "delete_cmd_prefix": "rm(",
     "library": "var_list.r",
     "varRefreshCmd": "cat(var_dic_list()) "
    }
   },
   "types_to_exclude": [
    "module",
    "function",
    "builtin_function_or_method",
    "instance",
    "_Feature"
   ],
   "window_display": false
  }
 },
 "nbformat": 4,
 "nbformat_minor": 4
}
