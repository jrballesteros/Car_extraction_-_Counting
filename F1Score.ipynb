{
 "cells": [
  {
   "cell_type": "code",
   "execution_count": null,
   "metadata": {},
   "outputs": [],
   "source": [
    "from PIL import Image\n",
    "from IPython.display import display\n",
    "from sklearn.preprocessing import binarize\n",
    "from sklearn.metrics import classification_report\n",
    "from sklearn.metrics import confusion_matrix\n",
    "from sklearn.metrics import f1_score\n",
    "import matplotlib.pyplot as plt\n",
    "import numpy as np\n",
    "from matplotlib import pyplot\n",
    "import os\n",
    "import datetime\n",
    "from keras.preprocessing.image import img_to_array\n",
    "from keras.preprocessing.image import load_img\n",
    "from keras import backend as K\n",
    "from keras.models import load_model\n",
    "import tensorflow as tf\n",
    "import tensorflow_addons as tfa\n"
   ]
  },
  {
   "cell_type": "code",
   "execution_count": 3,
   "metadata": {
    "ExecuteTime": {
     "end_time": "2021-11-12T13:23:32.166201Z",
     "start_time": "2021-11-12T13:23:32.158222Z"
    }
   },
   "outputs": [
    {
     "data": {
      "text/plain": [
       "65536"
      ]
     },
     "execution_count": 3,
     "metadata": {},
     "output_type": "execute_result"
    }
   ],
   "source": [
    "2**16"
   ]
  },
  {
   "cell_type": "code",
   "execution_count": null,
   "metadata": {},
   "outputs": [],
   "source": [
    "\n",
    "modelname = 'model_epoc_100.h5'\n",
    "model = load_model(modelname)\n",
    "\n",
    "path = 'images/'\n",
    "result = {'precision': 0.0, 'recall': 0, 'f1-score': 0, 'accuracy': 0}\n",
    "n = 0\n",
    "files = 0\n",
    "\n",
    "for image in os.listdir(path):\n",
    "    print('Processing image ' + image)\n",
    "    files += 1\n",
    "    pixels = load_img(path + image, target_size=(256, 512))\n",
    "\n",
    "    pixels = img_to_array(pixels)\n",
    "\n",
    "    sat_img, map_img = (pixels[:256, :256], pixels[:256, 256:])\n",
    "    sat_img = (sat_img - 127.5) / 127.5\n",
    "\n",
    "    sat_img = K.expand_dims(sat_img, 0)\n",
    "    map_img = K.expand_dims(map_img, 0)\n",
    "\n",
    "    y_pred = model.predict(sat_img)\n",
    "    y_pred = np.array(y_pred, dtype=np.float32)\n",
    "    y_pred = (y_pred + 1) / 2.0\n",
    "    y_pred = np.where((y_pred != 1), 0, y_pred)\n",
    "#'uint8'\n",
    "#tf.uint8\n",
    "    y_pred = tf.convert_to_tensor(y_pred, dtype=tf.float32)\n",
    "    map_img = tf.convert_to_tensor(map_img.numpy()/255, dtype=tf.float32)\n",
    "\n",
    "    for x in range(256):\n",
    "        for y in range(256):\n",
    "            print(x, y, end=\"\\r\")\n",
    "            report = classification_report(map_img.numpy()[0][x][y], y_pred.numpy()[\n",
    "                0][x][y], zero_division=0, output_dict=True)\n",
    "            try:\n",
    "                if report['1.0'] != None:\n",
    "                    n += 1\n",
    "                    result['precision'] = result['precision'] + \\\n",
    "                        report['1.0']['precision']\n",
    "                    result['recall'] = result['recall'] + \\\n",
    "                        report['1.0']['recall']\n",
    "                    result['f1-score'] = result['f1-score'] + \\\n",
    "                        report['1.0']['f1-score']\n",
    "                    result['accuracy'] = result['accuracy'] + \\\n",
    "                        report['accuracy']\n",
    "            except:\n",
    "                None\n",
    "\n",
    "result['precision'] = result['precision'] / n\n",
    "result['recall'] = result['recall'] / n\n",
    "result['f1-score'] = result['f1-score'] / n\n",
    "result['accuracy'] = result['accuracy'] / n\n",
    "\n",
    "print(result, \"Pixels:\",n)\n",
    "print(datetime.datetime.now())\n"
   ]
  }
 ],
 "metadata": {
  "kernelspec": {
   "display_name": "Python 3",
   "language": "python",
   "name": "python3"
  },
  "language_info": {
   "codemirror_mode": {
    "name": "ipython",
    "version": 3
   },
   "file_extension": ".py",
   "mimetype": "text/x-python",
   "name": "python",
   "nbconvert_exporter": "python",
   "pygments_lexer": "ipython3",
   "version": "3.7.4"
  },
  "latex_envs": {
   "LaTeX_envs_menu_present": true,
   "autoclose": false,
   "autocomplete": true,
   "bibliofile": "biblio.bib",
   "cite_by": "apalike",
   "current_citInitial": 1,
   "eqLabelWithNumbers": true,
   "eqNumInitial": 1,
   "hotkeys": {
    "equation": "Ctrl-E",
    "itemize": "Ctrl-I"
   },
   "labels_anchors": false,
   "latex_user_defs": false,
   "report_style_numbering": false,
   "user_envs_cfg": false
  },
  "toc": {
   "base_numbering": 1,
   "nav_menu": {},
   "number_sections": true,
   "sideBar": true,
   "skip_h1_title": false,
   "title_cell": "Table of Contents",
   "title_sidebar": "Contents",
   "toc_cell": false,
   "toc_position": {},
   "toc_section_display": true,
   "toc_window_display": false
  },
  "varInspector": {
   "cols": {
    "lenName": 16,
    "lenType": 16,
    "lenVar": 40
   },
   "kernels_config": {
    "python": {
     "delete_cmd_postfix": "",
     "delete_cmd_prefix": "del ",
     "library": "var_list.py",
     "varRefreshCmd": "print(var_dic_list())"
    },
    "r": {
     "delete_cmd_postfix": ") ",
     "delete_cmd_prefix": "rm(",
     "library": "var_list.r",
     "varRefreshCmd": "cat(var_dic_list()) "
    }
   },
   "types_to_exclude": [
    "module",
    "function",
    "builtin_function_or_method",
    "instance",
    "_Feature"
   ],
   "window_display": false
  }
 },
 "nbformat": 4,
 "nbformat_minor": 4
}
