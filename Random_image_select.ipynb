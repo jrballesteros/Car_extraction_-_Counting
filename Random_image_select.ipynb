{
 "cells": [
  {
   "cell_type": "code",
   "execution_count": null,
   "metadata": {},
   "outputs": [],
   "source": [
    "# This script takes a crop of every image from the center and few random locations and then reshape\n",
    "# all of the images to a unique square size.\n",
    "\n",
    "from PIL import Image\n",
    "import random\n",
    "import os, sys\n",
    "\n",
    "path = \"/path_to_your_images/\"\n",
    "dirs = os.listdir( path )\n",
    "\n",
    "def resize():\n",
    "    i = 0\n",
    "    for item in dirs:\n",
    "        if os.path.isfile(path+item):\n",
    "            try:\n",
    "                print(item)\n",
    "                im = Image.open(path+item)\n",
    "                f, e = os.path.splitext(path+item)\n",
    "                i = i + 1\n",
    "                width, height = im.size\n",
    "                for crops in range (5):\n",
    "                    rand1 = random.randint(-2000,2000)\n",
    "                    left = (width - 1024 + rand1)/2\n",
    "                    top = (height - 1024 + rand1)/2\n",
    "                    right = (width + 1024 + rand1)/2\n",
    "                    bottom = (height + 1024 + rand1)/2\n",
    "                    pil_imagecrp = im.crop((left, top, right, bottom))\n",
    "                    pil_imagecrp.save('/' + str(i) + '_' +  str(crops) + '_map_cntr.jpeg', format='JPEG', quality=90)\n",
    "imResize = im.resize((1024,1024), Image.ANTIALIAS)\n",
    "                imResize.save('/' + str(i)  + ' _map_rsizd.jpg', 'JPEG', quality=90)\n",
    "            except:\n",
    "               pass\n",
    "resize()\n"
   ]
  }
 ],
 "metadata": {
  "kernelspec": {
   "display_name": "Python 3",
   "language": "python",
   "name": "python3"
  },
  "language_info": {
   "codemirror_mode": {
    "name": "ipython",
    "version": 3
   },
   "file_extension": ".py",
   "mimetype": "text/x-python",
   "name": "python",
   "nbconvert_exporter": "python",
   "pygments_lexer": "ipython3",
   "version": "3.7.4"
  },
  "latex_envs": {
   "LaTeX_envs_menu_present": true,
   "autoclose": false,
   "autocomplete": true,
   "bibliofile": "biblio.bib",
   "cite_by": "apalike",
   "current_citInitial": 1,
   "eqLabelWithNumbers": true,
   "eqNumInitial": 1,
   "hotkeys": {
    "equation": "Ctrl-E",
    "itemize": "Ctrl-I"
   },
   "labels_anchors": false,
   "latex_user_defs": false,
   "report_style_numbering": false,
   "user_envs_cfg": false
  },
  "toc": {
   "base_numbering": 1,
   "nav_menu": {},
   "number_sections": true,
   "sideBar": true,
   "skip_h1_title": false,
   "title_cell": "Table of Contents",
   "title_sidebar": "Contents",
   "toc_cell": false,
   "toc_position": {},
   "toc_section_display": true,
   "toc_window_display": false
  },
  "varInspector": {
   "cols": {
    "lenName": 16,
    "lenType": 16,
    "lenVar": 40
   },
   "kernels_config": {
    "python": {
     "delete_cmd_postfix": "",
     "delete_cmd_prefix": "del ",
     "library": "var_list.py",
     "varRefreshCmd": "print(var_dic_list())"
    },
    "r": {
     "delete_cmd_postfix": ") ",
     "delete_cmd_prefix": "rm(",
     "library": "var_list.r",
     "varRefreshCmd": "cat(var_dic_list()) "
    }
   },
   "types_to_exclude": [
    "module",
    "function",
    "builtin_function_or_method",
    "instance",
    "_Feature"
   ],
   "window_display": false
  }
 },
 "nbformat": 4,
 "nbformat_minor": 4
}
