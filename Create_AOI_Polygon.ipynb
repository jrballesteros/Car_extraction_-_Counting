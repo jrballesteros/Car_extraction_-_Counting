{
 "cells": [
  {
   "cell_type": "code",
   "execution_count": 1,
   "metadata": {
    "ExecuteTime": {
     "end_time": "2021-09-15T22:38:18.839703Z",
     "start_time": "2021-09-15T22:38:17.521263Z"
    }
   },
   "outputs": [
    {
     "name": "stdout",
     "output_type": "stream",
     "text": [
      "0    POLYGON ((-75.43790 6.03131, -75.43790 6.03427...\n",
      "Name: geometry, dtype: geometry\n"
     ]
    },
    {
     "name": "stderr",
     "output_type": "stream",
     "text": [
      "C:\\Users\\john\\.conda\\envs\\py37\\lib\\site-packages\\pyproj\\crs\\crs.py:53: FutureWarning: '+init=<authority>:<code>' syntax is deprecated. '<authority>:<code>' is the preferred initialization method. When making the change, be mindful of axis order changes: https://pyproj4.github.io/pyproj/stable/gotchas.html#axis-order-changes-in-proj-6\n",
      "  return _prepare_from_string(\" \".join(pjargs))\n"
     ]
    }
   ],
   "source": [
    "# create a polygon from coordinates of a bounding box\n",
    "\n",
    "import geopandas as gpd\n",
    "from shapely.geometry import Polygon\n",
    "\n",
    "#outAOIGJ = r\"C:\\Users\\john\\Downloads\\AutoMap\\datos\\AOI.geojson\"\n",
    "outAOI = r\"C:\\Users\\john\\Downloads\\AutoMap\\datos\\1px\\AOI_El_Retiro_Clip.shp\"\n",
    "\n",
    "lat_points = [6.03130980895, 6.03426950193, 6.03426950193, 6.03130980895]\n",
    "lon_points = [-75.4379001837, -75.4379001837, -75.433296278, -75.433296278]\n",
    "\n",
    "\n",
    "polygon_geom = Polygon(zip(lon_points, lat_points))\n",
    "crs = {'init': 'epsg:4326'}\n",
    "polygon = gpd.GeoDataFrame(index=[0], crs=crs, geometry=[polygon_geom])       \n",
    "print(polygon.geometry)\n",
    "\n",
    "#polygon.to_file(filename = outAOIGJ, driver='GeoJSON')\n",
    "polygon.to_file(filename = outAOI, driver=\"ESRI Shapefile\")"
   ]
  },
  {
   "cell_type": "code",
   "execution_count": 5,
   "metadata": {
    "ExecuteTime": {
     "end_time": "2021-04-23T15:16:56.619380Z",
     "start_time": "2021-04-23T15:16:56.586526Z"
    }
   },
   "outputs": [
    {
     "data": {
      "text/html": [
       "<div style=\"width:100%;\"><div style=\"position:relative;width:100%;height:0;padding-bottom:60%;\"><iframe src=\"data:text/html;charset=utf-8;base64,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\" style=\"position:absolute;width:100%;height:100%;left:0;top:0;border:none !important;\" allowfullscreen webkitallowfullscreen mozallowfullscreen></iframe></div></div>"
      ],
      "text/plain": [
       "<folium.folium.Map at 0x1f415f860c8>"
      ]
     },
     "execution_count": 5,
     "metadata": {},
     "output_type": "execute_result"
    }
   ],
   "source": [
    "import folium\n",
    "m = folium.Map([6.0534443537329, -75.5057858485094], zoom_start=14, tiles='cartodbpositron')\n",
    "folium.GeoJson(polygon).add_to(m)\n",
    "folium.LatLngPopup().add_to(m)\n",
    "m"
   ]
  },
  {
   "cell_type": "code",
   "execution_count": 4,
   "metadata": {
    "ExecuteTime": {
     "end_time": "2021-05-09T16:19:21.656965Z",
     "start_time": "2021-05-09T16:19:21.577200Z"
    }
   },
   "outputs": [
    {
     "name": "stdout",
     "output_type": "stream",
     "text": [
      "0    POLYGON ((-75.50455 6.06002, -75.50455 6.05618...\n",
      "Name: geometry, dtype: geometry\n",
      "xmin,ymin -75.5045474604054 6.0561825395945945\n",
      "xmax,ymax -75.50071253959459 6.060017460405405\n"
     ]
    },
    {
     "data": {
      "text/html": [
       "<div style=\"width:100%;\"><div style=\"position:relative;width:100%;height:0;padding-bottom:60%;\"><iframe src=\"data:text/html;charset=utf-8;base64,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\" style=\"position:absolute;width:100%;height:100%;left:0;top:0;border:none !important;\" allowfullscreen webkitallowfullscreen mozallowfullscreen></iframe></div></div>"
      ],
      "text/plain": [
       "<folium.folium.Map at 0x1796010be08>"
      ]
     },
     "execution_count": 4,
     "metadata": {},
     "output_type": "execute_result"
    }
   ],
   "source": [
    "# create a polygon from a center(x,y) plus x distance, and y distance, numero de imagenes\n",
    "\n",
    "import geopandas as gpd\n",
    "from shapely.geometry import Polygon\n",
    "\n",
    "filejson = r\"C:\\Users\\john\\Downloads\\AutoMap\\datos\\area\\AoI.geojson\"\n",
    "fileshape = r\"C:\\Users\\john\\Downloads\\AutoMap\\datos\\area\\AoI.shp\"\n",
    "\n",
    "cx = -75.50263  # cx, cy son las coordenadas del centro del poligono\n",
    "cy = 6.0581\n",
    "gsd = 7.0946035  #cm/px tomada de la ortofoto para no tener error en el cálculo\n",
    "px_width = 600  # ancho de imagen en pixeles\n",
    "N_imagenes = 10 # numero de imagenes en x, es decir que el total sera esto al cuadrado !\n",
    "d = (px_width * N_imagenes * gsd)/(2*100) #d es la mitad del lado del poligono de corte en metros\n",
    "#d = 460  # d es la mitad del lado del poligono de corte\n",
    "\n",
    "#for i in range(4):\n",
    "x1 = cx - d*(1/111000.)\n",
    "x2 = cx + d*(1/111000.)\n",
    "y1 = cy - d*(1/111000.)\n",
    "y2 = cy + d*(1/111000.)\n",
    "    \n",
    "#lat_points = [6.0584, 6.0547, 6.0547, 6.0584]\n",
    "lat_points = [y2, y1, y1, y2]\n",
    "#lon_points = [-75.5028, -75.5028, -75.4964, -75.4964]\n",
    "lon_points = [x1, x1, x2, x2]\n",
    "\n",
    "polygon_geom = Polygon(zip(lon_points, lat_points))\n",
    "crs = {'init': 'epsg:4326'}\n",
    "polygon = gpd.GeoDataFrame(index=[0], crs=crs, geometry=[polygon_geom])       \n",
    "print(polygon.geometry)\n",
    "\n",
    "polygon.to_file(fileshape, driver=\"ESRI Shapefile\")\n",
    "polygon.to_file(filejson, driver='GeoJSON')\n",
    "\n",
    "print('xmin,ymin', x1,y1)\n",
    "print('xmax,ymax', x2,y2)\n",
    "\n",
    "import folium\n",
    "m = folium.Map([cy, cx], zoom_start=15, tiles='cartodbpositron')\n",
    "folium.GeoJson(filejson).add_to(m)\n",
    "folium.LatLngPopup().add_to(m)\n",
    "m"
   ]
  },
  {
   "cell_type": "code",
   "execution_count": 6,
   "metadata": {
    "ExecuteTime": {
     "end_time": "2020-09-23T09:47:58.001629Z",
     "start_time": "2020-09-23T09:47:57.979669Z"
    }
   },
   "outputs": [
    {
     "name": "stdout",
     "output_type": "stream",
     "text": [
      "505.6 50.0\n"
     ]
    }
   ],
   "source": [
    "# Algunos calculos para determinar el tamaño del poligono\n",
    "import math\n",
    "gsd = 0.079 # resolucion en m/pix\n",
    "N_pixels_tot = 2048\n",
    "N_chips = 2500\n",
    "tam_chip = 256\n",
    "L = math.sqrt(N_chips)\n",
    "d1 = gsd*N_pixels_tot/2\n",
    "d = gsd*tam_chip*L/2\n",
    "print(d, L)"
   ]
  },
  {
   "cell_type": "code",
   "execution_count": 73,
   "metadata": {
    "ExecuteTime": {
     "end_time": "2021-07-31T02:26:00.622403Z",
     "start_time": "2021-07-31T02:26:00.475238Z"
    }
   },
   "outputs": [
    {
     "name": "stdout",
     "output_type": "stream",
     "text": [
      "El tamaño de 1 imagen en m es: 36.474001200000004\n",
      "El numero de imagenes en x es: 9.006415232557485\n",
      "El numero de imagenes en y es: 14.009979250644976\n",
      "0    POLYGON ((-75.43790 6.03427, -75.43790 6.03131...\n",
      "Name: geometry, dtype: geometry\n",
      "xmin,ymin -75.4379 6.03131\n",
      "xmax,ymax -75.4332963963964 6.03426945945946\n"
     ]
    },
    {
     "name": "stderr",
     "output_type": "stream",
     "text": [
      "C:\\Users\\john\\.conda\\envs\\py37\\lib\\site-packages\\pyproj\\crs\\crs.py:53: FutureWarning: '+init=<authority>:<code>' syntax is deprecated. '<authority>:<code>' is the preferred initialization method. When making the change, be mindful of axis order changes: https://pyproj4.github.io/pyproj/stable/gotchas.html#axis-order-changes-in-proj-6\n",
      "  return _prepare_from_string(\" \".join(pjargs))\n"
     ]
    },
    {
     "data": {
      "text/html": [
       "<div style=\"width:100%;\"><div style=\"position:relative;width:100%;height:0;padding-bottom:60%;\"><iframe src=\"data:text/html;charset=utf-8;base64,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\" style=\"position:absolute;width:100%;height:100%;left:0;top:0;border:none !important;\" allowfullscreen webkitallowfullscreen mozallowfullscreen></iframe></div></div>"
      ],
      "text/plain": [
       "<folium.folium.Map at 0x1e2988f1608>"
      ]
     },
     "execution_count": 73,
     "metadata": {},
     "output_type": "execute_result"
    }
   ],
   "source": [
    "\n",
    "# create a polygon from a left point(x1,y1) plus x distance, and y distance, para que quepa en una region determinada\n",
    "\n",
    "import geopandas as gpd\n",
    "from shapely.geometry import Polygon\n",
    "\n",
    "filejson = r\"C:\\Users\\john\\Downloads\\AutoMap\\datos\\dataset600_DSM\\area\\AoI_600_DSM.geojson\"\n",
    "fileshape = r\"C:\\Users\\john\\Downloads\\AutoMap\\datos\\dataset600_DSM\\area\\AoI_600_DSM.shp\"\n",
    "\n",
    "\n",
    "#cx = -75.50263  # cx, cy son las coordenadas del centro del poligono\n",
    "#cy = 6.0581\n",
    "gsd = 0.060790002  #cm/px tomada de la ortofoto para no tener error en el cálculo\n",
    "pic_width = 600  # ancho de imagen en pixeles\n",
    "#N_imagenes = 10 # numero de imagenes en x, es decir que el total sera esto al cuadrado !\n",
    "#d = (px_width * N_imagenes * gsd)/(2*100) #d es la mitad del lado del poligono de corte en metros\n",
    "#d = 460  # d es la mitad del lado del poligono de corte\n",
    "\n",
    "d1 = 328.5 # lado tentativo en metros\n",
    "d2 = 511\n",
    "\n",
    "tam_img = pic_width * gsd  # tamaño de 1 imagen en metros\n",
    "im_Lx = d1 / tam_img\n",
    "im_Ly = d2 / tam_img\n",
    "\n",
    "print(\"El tamaño de 1 imagen en m es:\", tam_img)\n",
    "print(\"El numero de imagenes en x es:\", im_Lx)\n",
    "print(\"El numero de imagenes en y es:\", im_Ly)\n",
    "print(\"El numero total de imagenes es:\", im_Lx*im_Ly)\n",
    "\n",
    "#for i in range(4):\n",
    "x1 = -75.4379 \n",
    "y1 = 6.03131\n",
    "x2 = x1 + d2*(1/111000.)\n",
    "y2 = y1 + d1*(1/111000.)\n",
    " \n",
    "#lat_points = [6.0584, 6.0547, 6.0547, 6.0584]\n",
    "lat_points = [y2, y1, y1, y2]\n",
    "#lon_points = [-75.5028, -75.5028, -75.4964, -75.4964]\n",
    "lon_points = [x1, x1, x2, x2]\n",
    "\n",
    "polygon_geom = Polygon(zip(lon_points, lat_points))\n",
    "crs = {'init': 'epsg:4326'}\n",
    "polygon = gpd.GeoDataFrame(index=[0], crs=crs, geometry=[polygon_geom])       \n",
    "print(polygon.geometry)\n",
    "\n",
    "polygon.to_file(fileshape, driver=\"ESRI Shapefile\")\n",
    "polygon.to_file(filejson, driver='GeoJSON')\n",
    "\n",
    "print('xmin,ymin', x1,y1)\n",
    "print('xmax,ymax', x2,y2)\n",
    "\n",
    "import folium\n",
    "m = folium.Map([y1, x1], zoom_start=15, tiles='cartodbpositron')\n",
    "folium.GeoJson(filejson).add_to(m)\n",
    "folium.LatLngPopup().add_to(m)\n",
    "m\n"
   ]
  },
  {
   "cell_type": "code",
   "execution_count": 14,
   "metadata": {
    "ExecuteTime": {
     "end_time": "2020-09-23T10:12:54.477957Z",
     "start_time": "2020-09-23T10:12:54.456341Z"
    }
   },
   "outputs": [],
   "source": [
    "import math\n",
    "import geopandas as gpd\n",
    "from shapely.geometry import Polygon\n",
    "\n",
    "def area_interes(gsd, cx, cy, N_chips, tam_chip):\n",
    "    \n",
    "    '''obtiene una capa en shape o geojson para cortar los datos de entrenamiento\n",
    "    sean edificios, vias, etc, a partir de la resolucion espacial en m/pix, las coordenadas del centro desde el que se\n",
    "    quiera partir, el tamaño de chip y el numero de chips'''\n",
    "    \n",
    "    L = math.sqrt(N_chips) # lado del cuadrado\n",
    "    d = gsd*tam_chip*L/2\n",
    "    x1 = cx - d*(1/111000.)\n",
    "    x2 = cx + d*(1/111000.)\n",
    "    y1 = cy - d*(1/111000.)\n",
    "    y2 = cy + d*(1/111000.)\n",
    "    \n",
    "    #lat_points = [6.0584, 6.0547, 6.0547, 6.0584]\n",
    "    lat_points = [y2, y1, y1, y2]\n",
    "\n",
    "    #lon_points = [-75.5028, -75.5028, -75.4964, -75.4964]\n",
    "    lon_points = [x1, x1, x2, x2]\n",
    "\n",
    "    polygon_geom = Polygon(zip(lon_points, lat_points))\n",
    "    crs = {'init': 'epsg:4326'}\n",
    "    polygon = gpd.GeoDataFrame(index=[0], crs=crs, geometry=[polygon_geom])       \n",
    "    print(polygon.geometry)\n",
    "\n",
    "    polygon.to_file(filename='Area_interes2.geojson', driver='GeoJSON')\n",
    "    polygon.to_file(filename='Area_interes2.shp', driver=\"ESRI Shapefile\")\n",
    "    print('se creo un shape con tamaño de lado:', 2*d)\n",
    "\n",
    "    import folium\n",
    "    m = folium.Map([cy, cx], zoom_start=15, tiles='cartodbpositron')\n",
    "    folium.GeoJson(polygon).add_to(m)\n",
    "    folium.LatLngPopup().add_to(m)\n",
    "    m\n"
   ]
  },
  {
   "cell_type": "code",
   "execution_count": 19,
   "metadata": {
    "ExecuteTime": {
     "end_time": "2020-09-23T10:23:59.235050Z",
     "start_time": "2020-09-23T10:23:59.136576Z"
    }
   },
   "outputs": [
    {
     "name": "stdout",
     "output_type": "stream",
     "text": [
      "0    POLYGON ((-75.50692 6.06192, -75.50692 6.05408...\n",
      "Name: geometry, dtype: geometry\n",
      "se creo un shape con tamaño de lado: 869.6320000000001\n"
     ]
    }
   ],
   "source": [
    "area_interes(0.079, -75.503, 6.058, 1849, 256)"
   ]
  }
 ],
 "metadata": {
  "kernelspec": {
   "display_name": "Python 3",
   "language": "python",
   "name": "python3"
  },
  "language_info": {
   "codemirror_mode": {
    "name": "ipython",
    "version": 3
   },
   "file_extension": ".py",
   "mimetype": "text/x-python",
   "name": "python",
   "nbconvert_exporter": "python",
   "pygments_lexer": "ipython3",
   "version": "3.7.4"
  },
  "latex_envs": {
   "LaTeX_envs_menu_present": true,
   "autoclose": false,
   "autocomplete": true,
   "bibliofile": "biblio.bib",
   "cite_by": "apalike",
   "current_citInitial": 1,
   "eqLabelWithNumbers": true,
   "eqNumInitial": 1,
   "hotkeys": {
    "equation": "Ctrl-E",
    "itemize": "Ctrl-I"
   },
   "labels_anchors": false,
   "latex_user_defs": false,
   "report_style_numbering": false,
   "user_envs_cfg": false
  },
  "toc": {
   "base_numbering": 1,
   "nav_menu": {},
   "number_sections": true,
   "sideBar": true,
   "skip_h1_title": false,
   "title_cell": "Table of Contents",
   "title_sidebar": "Contents",
   "toc_cell": false,
   "toc_position": {},
   "toc_section_display": true,
   "toc_window_display": false
  },
  "varInspector": {
   "cols": {
    "lenName": 16,
    "lenType": 16,
    "lenVar": 40
   },
   "kernels_config": {
    "python": {
     "delete_cmd_postfix": "",
     "delete_cmd_prefix": "del ",
     "library": "var_list.py",
     "varRefreshCmd": "print(var_dic_list())"
    },
    "r": {
     "delete_cmd_postfix": ") ",
     "delete_cmd_prefix": "rm(",
     "library": "var_list.r",
     "varRefreshCmd": "cat(var_dic_list()) "
    }
   },
   "types_to_exclude": [
    "module",
    "function",
    "builtin_function_or_method",
    "instance",
    "_Feature"
   ],
   "window_display": false
  }
 },
 "nbformat": 4,
 "nbformat_minor": 4
}
