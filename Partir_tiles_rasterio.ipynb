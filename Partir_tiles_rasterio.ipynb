{
 "cells": [
  {
   "cell_type": "code",
   "execution_count": 5,
   "metadata": {
    "ExecuteTime": {
     "end_time": "2020-08-20T19:26:11.395113Z",
     "start_time": "2020-08-20T19:23:11.307916Z"
    }
   },
   "outputs": [
    {
     "name": "stderr",
     "output_type": "stream",
     "text": [
      "C:\\Users\\john\\AppData\\Roaming\\Python\\Python37\\site-packages\\ipykernel_launcher.py:27: DeprecationWarning: Right multiplication will be prohibited in version 3.0\n",
      "C:\\Users\\john\\AppData\\Roaming\\Python\\Python37\\site-packages\\ipykernel_launcher.py:28: DeprecationWarning: Right multiplication will be prohibited in version 3.0\n"
     ]
    }
   ],
   "source": [
    "import rasterio\n",
    "from shapely import geometry\n",
    "from rasterio.mask import mask\n",
    "\n",
    "source = 'C:/Users/john/Documents/Masks/RoadsDrone/myimg/'\n",
    "\n",
    "my_file_name = 'Retiro.tif'\n",
    "\n",
    "myReadImage = rasterio.open(source+my_file_name)\n",
    "\n",
    "# Takes a Rasterio dataset and splits it into squares of dimensions squareDim * squareDim\n",
    "def splitImageIntoCells(img, filename, squareDim):\n",
    "    numberOfCellsWide = img.shape[1] // squareDim\n",
    "    numberOfCellsHigh = img.shape[0] // squareDim\n",
    "    x, y = 0, 0\n",
    "    count = 0\n",
    "    for hc in range(numberOfCellsHigh):\n",
    "        y = hc * squareDim\n",
    "        for wc in range(numberOfCellsWide):\n",
    "            x = wc * squareDim\n",
    "            geom = getTileGeom(img.transform, x, y, squareDim)\n",
    "            getCellFromGeom(img, geom, filename, count)\n",
    "            count = count + 1\n",
    "\n",
    "# Generate a bounding box from the pixel-wise coordinates using the original datasets transform property\n",
    "def getTileGeom(transform, x, y, squareDim):\n",
    "    corner1 = (x, y) * transform\n",
    "    corner2 = (x + squareDim, y + squareDim) * transform\n",
    "    return geometry.box(corner1[0], corner1[1],\n",
    "                        corner2[0], corner2[1])\n",
    "\n",
    "# Crop the dataset using the generated box and write it out as a GeoTIFF\n",
    "def getCellFromGeom(img, geom, filename, count):\n",
    "    crop, cropTransform = mask(img, [geom], crop=True)\n",
    "    writeImageAsGeoTIFF(crop,\n",
    "                        cropTransform,\n",
    "                        img.meta,\n",
    "                        img.crs,\n",
    "                        filename+\"_\"+str(count))\n",
    "\n",
    "# Write the passed in dataset as a GeoTIFF\n",
    "def writeImageAsGeoTIFF(img, transform, metadata, crs, filename):\n",
    "    metadata.update({\"driver\":\"GTiff\",\n",
    "                     \"height\":img.shape[1],\n",
    "                     \"width\":img.shape[2],\n",
    "                     \"transform\": transform,\n",
    "                     \"crs\": crs})\n",
    "    with rasterio.open(filename+\".tif\", \"w\", **metadata) as dest:\n",
    "        dest.write(img)\n",
    "         \n",
    "            \n",
    "splitImageIntoCells(myReadImage, my_file_name, 256)"
   ]
  }
 ],
 "metadata": {
  "kernelspec": {
   "display_name": "Python 3",
   "language": "python",
   "name": "python3"
  },
  "language_info": {
   "codemirror_mode": {
    "name": "ipython",
    "version": 3
   },
   "file_extension": ".py",
   "mimetype": "text/x-python",
   "name": "python",
   "nbconvert_exporter": "python",
   "pygments_lexer": "ipython3",
   "version": "3.7.4"
  },
  "latex_envs": {
   "LaTeX_envs_menu_present": true,
   "autoclose": false,
   "autocomplete": true,
   "bibliofile": "biblio.bib",
   "cite_by": "apalike",
   "current_citInitial": 1,
   "eqLabelWithNumbers": true,
   "eqNumInitial": 1,
   "hotkeys": {
    "equation": "Ctrl-E",
    "itemize": "Ctrl-I"
   },
   "labels_anchors": false,
   "latex_user_defs": false,
   "report_style_numbering": false,
   "user_envs_cfg": false
  },
  "toc": {
   "base_numbering": 1,
   "nav_menu": {},
   "number_sections": true,
   "sideBar": true,
   "skip_h1_title": false,
   "title_cell": "Table of Contents",
   "title_sidebar": "Contents",
   "toc_cell": false,
   "toc_position": {},
   "toc_section_display": true,
   "toc_window_display": false
  },
  "varInspector": {
   "cols": {
    "lenName": 16,
    "lenType": 16,
    "lenVar": 40
   },
   "kernels_config": {
    "python": {
     "delete_cmd_postfix": "",
     "delete_cmd_prefix": "del ",
     "library": "var_list.py",
     "varRefreshCmd": "print(var_dic_list())"
    },
    "r": {
     "delete_cmd_postfix": ") ",
     "delete_cmd_prefix": "rm(",
     "library": "var_list.r",
     "varRefreshCmd": "cat(var_dic_list()) "
    }
   },
   "types_to_exclude": [
    "module",
    "function",
    "builtin_function_or_method",
    "instance",
    "_Feature"
   ],
   "window_display": false
  }
 },
 "nbformat": 4,
 "nbformat_minor": 4
}
