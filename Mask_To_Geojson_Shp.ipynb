{
 "cells": [
  {
   "cell_type": "code",
   "execution_count": null,
   "metadata": {},
   "outputs": [],
   "source": [
    "## Convert georeferenced result inference masks, i.e buildings, roads into geojson, shapefile"
   ]
  },
  {
   "cell_type": "code",
   "execution_count": 4,
   "metadata": {
    "ExecuteTime": {
     "end_time": "2020-10-03T16:25:44.157347Z",
     "start_time": "2020-10-03T16:25:44.152359Z"
    }
   },
   "outputs": [],
   "source": [
    "import rasterio\n",
    "from rasterio.features import shapes\n",
    "import geopandas as gp"
   ]
  },
  {
   "cell_type": "code",
   "execution_count": 11,
   "metadata": {
    "ExecuteTime": {
     "end_time": "2020-10-13T02:06:08.026927Z",
     "start_time": "2020-10-13T02:06:07.905206Z"
    }
   },
   "outputs": [
    {
     "data": {
      "image/png": "[encoded data removed]",
      "text/plain": [
       "<Figure size 432x288 with 1 Axes>"
      ]
     },
     "metadata": {
      "needs_background": "light"
     },
     "output_type": "display_data"
    }
   ],
   "source": [
    "import matplotlib.pyplot as plt\n",
    "import matplotlib.image as mpimg\n",
    "path4 = r'C:\\Users\\john\\Downloads\\cv2projects\\4312pred2.jpg'\n",
    "img = mpimg.imread(path4)\n",
    "plt.axis('off')\n",
    "imgplot = plt.imshow(img)\n",
    "plt.show()"
   ]
  },
  {
   "cell_type": "code",
   "execution_count": 17,
   "metadata": {
    "ExecuteTime": {
     "end_time": "2020-10-03T17:50:42.919110Z",
     "start_time": "2020-10-03T17:50:42.871355Z"
    }
   },
   "outputs": [],
   "source": [
    "\n",
    "#myraster = 'C:/Users/john/Downloads/mass_buildings/ens/23579050_15WGS.tif'\n",
    "#myraster = 'C:/Users/john/Downloads/mass_buildings/ens/10378675_15WGS.tif'\n",
    "myraster = 'C:/Users/john/Documents/Masks/4312_predict3.jpg'\n",
    "#myoutfile = 'C:/Users/john/Downloads/mass_buildings/ens/mygeojson1.GeoJSON'\n",
    "myoutfile = 'C:/Users/john/Documents/Masks/myshapeout3.shp'\n"
   ]
  },
  {
   "cell_type": "code",
   "execution_count": 18,
   "metadata": {
    "ExecuteTime": {
     "end_time": "2020-10-03T17:50:48.598226Z",
     "start_time": "2020-10-03T17:50:45.819110Z"
    }
   },
   "outputs": [
    {
     "name": "stderr",
     "output_type": "stream",
     "text": [
      "c:\\users\\john\\.conda\\envs\\py37\\lib\\site-packages\\rasterio\\__init__.py:216: NotGeoreferencedWarning: Dataset has no geotransform set. The identity matrix may be returned.\n",
      "  s = DatasetReader(path, driver=driver, **kwargs)\n"
     ]
    },
    {
     "name": "stdout",
     "output_type": "stream",
     "text": [
      "{'properties': {'raster_val': 6.0}, 'geometry': {'type': 'Polygon', 'coordinates': [[(0.0, 0.0), (0.0, 1.0), (1.0, 1.0), (1.0, 0.0), (0.0, 0.0)]]}}\n",
      "Archivo convertido con éxito\n"
     ]
    }
   ],
   "source": [
    "# mask to json or shapefile\n",
    "\n",
    "mask = None\n",
    "with rasterio.Env():\n",
    "    with rasterio.open(myraster) as src:\n",
    "        image = src.read(1) # first band\n",
    "        results = (\n",
    "        {'properties': {'raster_val': v}, 'geometry': s}\n",
    "        for i, (s, v) \n",
    "        in enumerate(\n",
    "            shapes(image, mask=mask, transform=src.transform)))\n",
    "        \n",
    "# The result is a generator of GeoJSON features\n",
    "        \n",
    "geoms = list(results)\n",
    "\n",
    "# print the very first feature\n",
    "print(geoms[0])\n",
    "#{'geometry': {'type': 'Polygon', 'coordinates': [[(202086.577, 90534.3504440678), (202086.577, 90498.96207),\n",
    " #                                                  (202121.96537406777, 90498.96207), (202121.96537406777, 90534.3504440678),\n",
    "  #                                                 (202086.577, 90534.3504440678)]]}, 'properties': {'raster_val': 170.52000427246094}}\n",
    "    \n",
    "\n",
    "# Create geopandas Dataframe and enable easy to save as geojson, ESRI shapefile etc.\n",
    "gpd_polygonized_raster  = gp.GeoDataFrame.from_features(geoms[:-6])\n",
    "\n",
    "# Ensayo de geodataframe a geojson\n",
    "#gpd_polygonized_raster.to_file(myoutfile, driver='GeoJSON')\n",
    "\n",
    "gpd_polygonized_raster.to_file(myoutfile, driver='ESRI Shapefile')\n",
    "\n",
    "print(\"Archivo convertido con éxito\")\n"
   ]
  },
  {
   "cell_type": "code",
   "execution_count": null,
   "metadata": {},
   "outputs": [],
   "source": [
    "# once in raster it should be dissolved\n",
    "\n",
    "from shapely.geometry import shape, mapping\n",
    "from shapely.ops import unary_union\n",
    "import fiona\n",
    "import itertools\n",
    "with fiona.open('cb_2013_us_county_20m.shp') as input:\n",
    "    # preserve the schema of the original shapefile, including the crs\n",
    "    meta = input.meta\n",
    "    with fiona.open('dissolve.shp', 'w', **meta) as output:\n",
    "        # groupby clusters consecutive elements of an iterable which have the same key so you must first sort the features by the 'STATEFP' field\n",
    "        e = sorted(input, key=lambda k: k['properties']['STATEFP'])\n",
    "        # group by the 'STATEFP' field \n",
    "        for key, group in itertools.groupby(e, key=lambda x:x['properties']['STATEFP']):\n",
    "            properties, geom = zip(*[(feature['properties'],shape(feature['geometry'])) for feature in group])\n",
    "            # write the feature, computing the unary_union of the elements in the group with the properties of the first element in the group\n",
    "            output.write({'geometry': mapping(unary_union(geom)), 'properties': properties[0]})\n",
    "            \n"
   ]
  },
  {
   "cell_type": "code",
   "execution_count": 12,
   "metadata": {
    "ExecuteTime": {
     "end_time": "2020-10-02T11:39:26.338043Z",
     "start_time": "2020-10-02T11:39:24.646304Z"
    }
   },
   "outputs": [
    {
     "name": "stdout",
     "output_type": "stream",
     "text": [
      "se ha generado el archivo simplificado con éxito\n"
     ]
    }
   ],
   "source": [
    "# Simplify and smooth polygons and polylines\n",
    "\n",
    "import rasterio\n",
    "from rasterio.features import shapes\n",
    "import geopandas as gp\n",
    "\n",
    "#simplified_shp = 'C:/Users/john/Downloads/mass_buildings/ens/simplifiedpolygon.shp'\n",
    "simplified_shp = 'C:/Users/john/Documents/Masks/simplifiedpolygon2.shp'\n",
    "\n",
    "d = gp.read_file(myoutfile)\n",
    "x = d.buffer(0.0001)\n",
    "\n",
    "tolerance = 0.00005\n",
    "simplified = x.simplify(tolerance, preserve_topology=True)\n",
    "simplified.to_file(simplified_shp)\n",
    "print(\"se ha generado el archivo simplificado con éxito\")\n"
   ]
  },
  {
   "cell_type": "code",
   "execution_count": 34,
   "metadata": {
    "ExecuteTime": {
     "end_time": "2020-06-18T03:10:03.008547Z",
     "start_time": "2020-06-18T03:10:02.963565Z"
    }
   },
   "outputs": [
    {
     "ename": "AttributeError",
     "evalue": "'str' object has no attribute 'dtype'",
     "output_type": "error",
     "traceback": [
      "\u001b[1;31m---------------------------------------------------------------------------\u001b[0m",
      "\u001b[1;31mAttributeError\u001b[0m                            Traceback (most recent call last)",
      "\u001b[1;32m<ipython-input-34-e1368a4de2dd>\u001b[0m in \u001b[0;36m<module>\u001b[1;34m\u001b[0m\n\u001b[0;32m      7\u001b[0m results = ({'geometry':s, 'properties': {'id': v}}\n\u001b[0;32m      8\u001b[0m for i, (s, v) in enumerate(shapes(bin_closing, mask=None, connectivity=8, transform=src.transform)))\n\u001b[1;32m----> 9\u001b[1;33m \u001b[0mgeoms\u001b[0m \u001b[1;33m=\u001b[0m \u001b[0mlist\u001b[0m\u001b[1;33m(\u001b[0m\u001b[0mresults\u001b[0m\u001b[1;33m)\u001b[0m\u001b[1;33m\u001b[0m\u001b[1;33m\u001b[0m\u001b[0m\n\u001b[0m\u001b[0;32m     10\u001b[0m schema= {\n\u001b[0;32m     11\u001b[0m       \u001b[1;34m'geometry'\u001b[0m\u001b[1;33m:\u001b[0m \u001b[1;34m'LineString'\u001b[0m\u001b[1;33m,\u001b[0m\u001b[1;33m\u001b[0m\u001b[1;33m\u001b[0m\u001b[0m\n",
      "\u001b[1;32m<ipython-input-34-e1368a4de2dd>\u001b[0m in \u001b[0;36m<genexpr>\u001b[1;34m(.0)\u001b[0m\n\u001b[0;32m      5\u001b[0m \u001b[1;33m\u001b[0m\u001b[0m\n\u001b[0;32m      6\u001b[0m \u001b[1;33m\u001b[0m\u001b[0m\n\u001b[1;32m----> 7\u001b[1;33m results = ({'geometry':s, 'properties': {'id': v}}\n\u001b[0m\u001b[0;32m      8\u001b[0m for i, (s, v) in enumerate(shapes(bin_closing, mask=None, connectivity=8, transform=src.transform)))\n\u001b[0;32m      9\u001b[0m \u001b[0mgeoms\u001b[0m \u001b[1;33m=\u001b[0m \u001b[0mlist\u001b[0m\u001b[1;33m(\u001b[0m\u001b[0mresults\u001b[0m\u001b[1;33m)\u001b[0m\u001b[1;33m\u001b[0m\u001b[1;33m\u001b[0m\u001b[0m\n",
      "\u001b[1;32mc:\\users\\john\\.conda\\envs\\py37\\lib\\site-packages\\rasterio\\features.py\u001b[0m in \u001b[0;36mshapes\u001b[1;34m(source, mask, connectivity, transform)\u001b[0m\n\u001b[0;32m    114\u001b[0m \u001b[1;33m\u001b[0m\u001b[0m\n\u001b[0;32m    115\u001b[0m     \u001b[0mtransform\u001b[0m \u001b[1;33m=\u001b[0m \u001b[0mguard_transform\u001b[0m\u001b[1;33m(\u001b[0m\u001b[0mtransform\u001b[0m\u001b[1;33m)\u001b[0m\u001b[1;33m\u001b[0m\u001b[1;33m\u001b[0m\u001b[0m\n\u001b[1;32m--> 116\u001b[1;33m     \u001b[1;32mfor\u001b[0m \u001b[0ms\u001b[0m\u001b[1;33m,\u001b[0m \u001b[0mv\u001b[0m \u001b[1;32min\u001b[0m \u001b[0m_shapes\u001b[0m\u001b[1;33m(\u001b[0m\u001b[0msource\u001b[0m\u001b[1;33m,\u001b[0m \u001b[0mmask\u001b[0m\u001b[1;33m,\u001b[0m \u001b[0mconnectivity\u001b[0m\u001b[1;33m,\u001b[0m \u001b[0mtransform\u001b[0m\u001b[1;33m)\u001b[0m\u001b[1;33m:\u001b[0m\u001b[1;33m\u001b[0m\u001b[1;33m\u001b[0m\u001b[0m\n\u001b[0m\u001b[0;32m    117\u001b[0m         \u001b[1;32myield\u001b[0m \u001b[0ms\u001b[0m\u001b[1;33m,\u001b[0m \u001b[0mv\u001b[0m\u001b[1;33m\u001b[0m\u001b[1;33m\u001b[0m\u001b[0m\n\u001b[0;32m    118\u001b[0m \u001b[1;33m\u001b[0m\u001b[0m\n",
      "\u001b[1;32mrasterio\\_features.pyx\u001b[0m in \u001b[0;36m_shapes\u001b[1;34m()\u001b[0m\n",
      "\u001b[1;31mAttributeError\u001b[0m: 'str' object has no attribute 'dtype'"
     ]
    }
   ],
   "source": [
    "\n",
    "import fiona\n",
    "\n",
    "bin_closing = 'C:/Users/john/Downloads/mass_buildings/ens/10378675_15WGS.tif'\n",
    "outshapefile = 'C:/Users/john/Downloads/mass_buildings/ens/outshapeLine.shp'\n",
    "\n",
    "\n",
    "results = ({'geometry':s, 'properties': {'id': v}}\n",
    "for i, (s, v) in enumerate(shapes(bin_closing, mask=None, connectivity=8, transform=src.transform)))\n",
    "geoms = list(results)\n",
    "schema= {\n",
    "      'geometry': 'LineString', \n",
    "      'properties': {'id': 'int'}\n",
    "        }\n",
    "\n",
    "with fiona.open(outshapefile, 'w', crs=src.crs, driver='ESRI Shapefile', schema = schema) as output:\n",
    "        for i, g in enumerate(geoms):\n",
    "            poly = shapes(g['geometry'])\n",
    "\n",
    "            # id 1 is actually masked (black part) of bitmap, dont consider it\n",
    "            if g['properties']['id'] == 1.0 and poly.is_valid:                \n",
    "\n",
    "                # dont process small polygons\n",
    "                if len(poly.exterior.coords) < 10:\n",
    "                    continue\n",
    "\n",
    "                newline = {}\n",
    "\n",
    "                # try smoothing polygon\n",
    "                fx = poly.buffer(50, 2).buffer(-50, 3)\n",
    "\n",
    "                if fx.is_empty:\n",
    "                    continue\n",
    "\n",
    "                # create centerline from smoothen polygon\n",
    "                geo = Centerline(fx, 10).createCenterline()\n",
    "\n",
    "                if geo.is_empty:\n",
    "                    continue                              \n",
    "\n",
    "                newline['geometry'] = mapping(geo)\n",
    "                newline['properties'] = {'id': i + 1}\n",
    "                output.write(newline)\n",
    "                \n",
    "                "
   ]
  },
  {
   "cell_type": "code",
   "execution_count": 6,
   "metadata": {
    "ExecuteTime": {
     "end_time": "2020-06-15T01:13:36.995036Z",
     "start_time": "2020-06-15T01:13:36.906300Z"
    }
   },
   "outputs": [],
   "source": [
    "## Not georeferenced mask\n",
    "from PIL import Image # (pip install Pillow)\n",
    "\n",
    "def create_sub_masks(mask_image):\n",
    "    width, height = mask_image.size\n",
    "\n",
    "    # Initialize a dictionary of sub-masks indexed by RGB colors\n",
    "    sub_masks = {}\n",
    "    for x in range(width):\n",
    "        for y in range(height):\n",
    "            # Get the RGB values of the pixel\n",
    "            pixel = mask_image.getpixel((x,y))[:3]\n",
    "\n",
    "            # If the pixel is not black...\n",
    "            if pixel != (0, 0, 0):\n",
    "                # Check to see if we've created a sub-mask...\n",
    "                pixel_str = str(pixel)\n",
    "                sub_mask = sub_masks.get(pixel_str)\n",
    "                if sub_mask is None:\n",
    "                   # Create a sub-mask (one bit per pixel) and add to the dictionary\n",
    "                    # Note: we add 1 pixel of padding in each direction\n",
    "                    # because the contours module doesn't handle cases\n",
    "                    # where pixels bleed to the edge of the image\n",
    "                    sub_masks[pixel_str] = Image.new('1', (width+2, height+2))\n",
    "\n",
    "                # Set the pixel value to 1 (default is 0), accounting for padding\n",
    "                sub_masks[pixel_str].putpixel((x+1, y+1), 1)\n",
    "\n",
    "    return sub_masks\n",
    "\n"
   ]
  },
  {
   "cell_type": "code",
   "execution_count": 8,
   "metadata": {
    "ExecuteTime": {
     "end_time": "2020-06-15T01:16:28.532554Z",
     "start_time": "2020-06-15T01:16:28.506622Z"
    }
   },
   "outputs": [
    {
     "ename": "TypeError",
     "evalue": "'int' object is not subscriptable",
     "output_type": "error",
     "traceback": [
      "\u001b[1;31m---------------------------------------------------------------------------\u001b[0m",
      "\u001b[1;31mTypeError\u001b[0m                                 Traceback (most recent call last)",
      "\u001b[1;32m<ipython-input-8-799bcf168a17>\u001b[0m in \u001b[0;36m<module>\u001b[1;34m\u001b[0m\n\u001b[0;32m      4\u001b[0m \u001b[1;31m#mask_result.show()\u001b[0m\u001b[1;33m\u001b[0m\u001b[1;33m\u001b[0m\u001b[1;33m\u001b[0m\u001b[0m\n\u001b[0;32m      5\u001b[0m \u001b[1;33m\u001b[0m\u001b[0m\n\u001b[1;32m----> 6\u001b[1;33m \u001b[0mcreate_sub_masks\u001b[0m\u001b[1;33m(\u001b[0m\u001b[0mmask_result\u001b[0m\u001b[1;33m)\u001b[0m\u001b[1;33m\u001b[0m\u001b[1;33m\u001b[0m\u001b[0m\n\u001b[0m",
      "\u001b[1;32m<ipython-input-6-0d10d5dd67f4>\u001b[0m in \u001b[0;36mcreate_sub_masks\u001b[1;34m(mask_image)\u001b[0m\n\u001b[0;32m     12\u001b[0m         \u001b[1;32mfor\u001b[0m \u001b[0my\u001b[0m \u001b[1;32min\u001b[0m \u001b[0mrange\u001b[0m\u001b[1;33m(\u001b[0m\u001b[0mheight\u001b[0m\u001b[1;33m)\u001b[0m\u001b[1;33m:\u001b[0m\u001b[1;33m\u001b[0m\u001b[1;33m\u001b[0m\u001b[0m\n\u001b[0;32m     13\u001b[0m             \u001b[1;31m# Get the RGB values of the pixel\u001b[0m\u001b[1;33m\u001b[0m\u001b[1;33m\u001b[0m\u001b[1;33m\u001b[0m\u001b[0m\n\u001b[1;32m---> 14\u001b[1;33m             \u001b[0mpixel\u001b[0m \u001b[1;33m=\u001b[0m \u001b[0mmask_image\u001b[0m\u001b[1;33m.\u001b[0m\u001b[0mgetpixel\u001b[0m\u001b[1;33m(\u001b[0m\u001b[1;33m(\u001b[0m\u001b[0mx\u001b[0m\u001b[1;33m,\u001b[0m\u001b[0my\u001b[0m\u001b[1;33m)\u001b[0m\u001b[1;33m)\u001b[0m\u001b[1;33m[\u001b[0m\u001b[1;33m:\u001b[0m\u001b[1;36m3\u001b[0m\u001b[1;33m]\u001b[0m\u001b[1;33m\u001b[0m\u001b[1;33m\u001b[0m\u001b[0m\n\u001b[0m\u001b[0;32m     15\u001b[0m \u001b[1;33m\u001b[0m\u001b[0m\n\u001b[0;32m     16\u001b[0m             \u001b[1;31m# If the pixel is not black...\u001b[0m\u001b[1;33m\u001b[0m\u001b[1;33m\u001b[0m\u001b[1;33m\u001b[0m\u001b[0m\n",
      "\u001b[1;31mTypeError\u001b[0m: 'int' object is not subscriptable"
     ]
    }
   ],
   "source": [
    "mymask = 'C:/Users/john/Downloads/mass_roads/train/results/10078705_15.tif'\n",
    "\n",
    "mask_result = Image.open(mymask)\n",
    "#mask_result.show()\n",
    "\n",
    "create_sub_masks(mask_result)"
   ]
  },
  {
   "cell_type": "code",
   "execution_count": 31,
   "metadata": {
    "ExecuteTime": {
     "end_time": "2020-10-03T20:45:02.730980Z",
     "start_time": "2020-10-03T20:45:02.713032Z"
    }
   },
   "outputs": [
    {
     "ename": "ModuleNotFoundError",
     "evalue": "No module named 'centerline.geometry'; 'centerline' is not a package",
     "output_type": "error",
     "traceback": [
      "\u001b[1;31m---------------------------------------------------------------------------\u001b[0m",
      "\u001b[1;31mModuleNotFoundError\u001b[0m                       Traceback (most recent call last)",
      "\u001b[1;32m<ipython-input-31-7ca3ec2d8cc4>\u001b[0m in \u001b[0;36m<module>\u001b[1;34m\u001b[0m\n\u001b[0;32m      2\u001b[0m \u001b[1;32mimport\u001b[0m \u001b[0mfiona\u001b[0m\u001b[1;33m\u001b[0m\u001b[1;33m\u001b[0m\u001b[0m\n\u001b[0;32m      3\u001b[0m \u001b[1;32mfrom\u001b[0m \u001b[0mshapely\u001b[0m\u001b[1;33m.\u001b[0m\u001b[0mgeometry\u001b[0m \u001b[1;32mimport\u001b[0m \u001b[0mPolygon\u001b[0m\u001b[1;33m\u001b[0m\u001b[1;33m\u001b[0m\u001b[0m\n\u001b[1;32m----> 4\u001b[1;33m \u001b[1;32mfrom\u001b[0m \u001b[0mcenterline\u001b[0m\u001b[1;33m.\u001b[0m\u001b[0mgeometry\u001b[0m \u001b[1;32mimport\u001b[0m \u001b[0mCenterline\u001b[0m\u001b[1;33m\u001b[0m\u001b[1;33m\u001b[0m\u001b[0m\n\u001b[0m\u001b[0;32m      5\u001b[0m \u001b[1;33m\u001b[0m\u001b[0m\n\u001b[0;32m      6\u001b[0m \u001b[0mmyshp\u001b[0m \u001b[1;33m=\u001b[0m \u001b[1;34m'C:/Users/john/Documents/Masks/dissolve2.shp'\u001b[0m\u001b[1;33m\u001b[0m\u001b[1;33m\u001b[0m\u001b[0m\n",
      "\u001b[1;31mModuleNotFoundError\u001b[0m: No module named 'centerline.geometry'; 'centerline' is not a package"
     ]
    }
   ],
   "source": [
    "import shp2centerline\n",
    "import fiona\n",
    "from shapely.geometry import Polygon\n",
    "from centerline.geometry import Centerline\n",
    "\n",
    "myshp = 'C:/Users/john/Documents/Masks/dissolve2.shp'\n",
    "\n",
    "polygon = fiona.open(myshp)\n",
    "print(shape.schema)\n",
    "\n",
    "#polygon = Polygon([[0, 0], [0, 4], [4, 4], [4, 0]])\n",
    "#>>> attributes = {\"id\": 1, \"name\": \"polygon\", \"valid\": True}\n",
    "centerline = Centerline(polygon, **attributes)\n",
    "#>>> centerline.id == 1\n"
   ]
  }
 ],
 "metadata": {
  "kernelspec": {
   "display_name": "Python 3",
   "language": "python",
   "name": "python3"
  },
  "language_info": {
   "codemirror_mode": {
    "name": "ipython",
    "version": 3
   },
   "file_extension": ".py",
   "mimetype": "text/x-python",
   "name": "python",
   "nbconvert_exporter": "python",
   "pygments_lexer": "ipython3",
   "version": "3.7.4"
  },
  "latex_envs": {
   "LaTeX_envs_menu_present": true,
   "autoclose": false,
   "autocomplete": true,
   "bibliofile": "biblio.bib",
   "cite_by": "apalike",
   "current_citInitial": 1,
   "eqLabelWithNumbers": true,
   "eqNumInitial": 1,
   "hotkeys": {
    "equation": "Ctrl-E",
    "itemize": "Ctrl-I"
   },
   "labels_anchors": false,
   "latex_user_defs": false,
   "report_style_numbering": false,
   "user_envs_cfg": false
  },
  "toc": {
   "base_numbering": 1,
   "nav_menu": {},
   "number_sections": true,
   "sideBar": true,
   "skip_h1_title": false,
   "title_cell": "Table of Contents",
   "title_sidebar": "Contents",
   "toc_cell": false,
   "toc_position": {},
   "toc_section_display": true,
   "toc_window_display": false
  },
  "varInspector": {
   "cols": {
    "lenName": 16,
    "lenType": 16,
    "lenVar": 40
   },
   "kernels_config": {
    "python": {
     "delete_cmd_postfix": "",
     "delete_cmd_prefix": "del ",
     "library": "var_list.py",
     "varRefreshCmd": "print(var_dic_list())"
    },
    "r": {
     "delete_cmd_postfix": ") ",
     "delete_cmd_prefix": "rm(",
     "library": "var_list.r",
     "varRefreshCmd": "cat(var_dic_list()) "
    }
   },
   "types_to_exclude": [
    "module",
    "function",
    "builtin_function_or_method",
    "instance",
    "_Feature"
   ],
   "window_display": false
  }
 },
 "nbformat": 4,
 "nbformat_minor": 4
}
