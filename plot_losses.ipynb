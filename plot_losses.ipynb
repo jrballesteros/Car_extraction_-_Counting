{
 "cells": [
  {
   "cell_type": "code",
   "execution_count": 31,
   "metadata": {
    "ExecuteTime": {
     "end_time": "2021-08-04T01:01:02.492028Z",
     "start_time": "2021-08-04T01:01:02.362650Z"
    }
   },
   "outputs": [
    {
     "data": {
      "text/html": [
       "<div>\n",
       "<style scoped>\n",
       "    .dataframe tbody tr th:only-of-type {\n",
       "        vertical-align: middle;\n",
       "    }\n",
       "\n",
       "    .dataframe tbody tr th {\n",
       "        vertical-align: top;\n",
       "    }\n",
       "\n",
       "    .dataframe thead th {\n",
       "        text-align: right;\n",
       "    }\n",
       "</style>\n",
       "<table border=\"1\" class=\"dataframe\">\n",
       "  <thead>\n",
       "    <tr style=\"text-align: right;\">\n",
       "      <th></th>\n",
       "      <th>date</th>\n",
       "      <th>step</th>\n",
       "      <th>d1loss</th>\n",
       "      <th>d2loss</th>\n",
       "      <th>ganloss</th>\n",
       "    </tr>\n",
       "  </thead>\n",
       "  <tbody>\n",
       "    <tr>\n",
       "      <th>0</th>\n",
       "      <td>2021-08-02 21:42:11.524576</td>\n",
       "      <td>2</td>\n",
       "      <td>0.526938</td>\n",
       "      <td>0.601442</td>\n",
       "      <td>100.203468</td>\n",
       "    </tr>\n",
       "    <tr>\n",
       "      <th>1</th>\n",
       "      <td>2021-08-02 21:42:11.696517</td>\n",
       "      <td>3</td>\n",
       "      <td>0.609711</td>\n",
       "      <td>0.514746</td>\n",
       "      <td>98.042244</td>\n",
       "    </tr>\n",
       "    <tr>\n",
       "      <th>2</th>\n",
       "      <td>2021-08-02 21:42:11.872022</td>\n",
       "      <td>4</td>\n",
       "      <td>0.651328</td>\n",
       "      <td>0.610696</td>\n",
       "      <td>95.108070</td>\n",
       "    </tr>\n",
       "    <tr>\n",
       "      <th>3</th>\n",
       "      <td>2021-08-02 21:42:12.039470</td>\n",
       "      <td>5</td>\n",
       "      <td>0.549510</td>\n",
       "      <td>0.747470</td>\n",
       "      <td>95.823067</td>\n",
       "    </tr>\n",
       "    <tr>\n",
       "      <th>4</th>\n",
       "      <td>2021-08-02 21:42:12.205153</td>\n",
       "      <td>6</td>\n",
       "      <td>0.416261</td>\n",
       "      <td>0.426267</td>\n",
       "      <td>92.223709</td>\n",
       "    </tr>\n",
       "  </tbody>\n",
       "</table>\n",
       "</div>"
      ],
      "text/plain": [
       "                         date  step    d1loss    d2loss     ganloss\n",
       "0  2021-08-02 21:42:11.524576     2  0.526938  0.601442  100.203468\n",
       "1  2021-08-02 21:42:11.696517     3  0.609711  0.514746   98.042244\n",
       "2  2021-08-02 21:42:11.872022     4  0.651328  0.610696   95.108070\n",
       "3  2021-08-02 21:42:12.039470     5  0.549510  0.747470   95.823067\n",
       "4  2021-08-02 21:42:12.205153     6  0.416261  0.426267   92.223709"
      ]
     },
     "execution_count": 31,
     "metadata": {},
     "output_type": "execute_result"
    }
   ],
   "source": [
    "import pandas as pd\n",
    "#from datetime import datetime\n",
    "import csv\n",
    "import matplotlib.pyplot as plt\n",
    "#import matplotlib.dates as mdates\n",
    "\n",
    "\n",
    "#headers = ['step', 'd1loss', 'd2loss', 'ganloss']\n",
    "#df = pd.read_csv(r'C:\\Users\\john\\Downloads\\AutoMap\\datos\\losses2.csv',names=headers)\n",
    "df = pd.read_csv(r'C:\\Users\\john\\Downloads\\AutoMap\\datos\\losses.csv',skiprows=[1])\n",
    "#df = df.sort_values(by='ganloss')\n",
    "#print (df)\n",
    "df.head()\n",
    "\n",
    "#df['Date'] = df['Date'].map(lambda x: datetime.strptime(str(x), '%Y/%m/%d %H:%M:%S.%f'))\n",
    "#x = df['step']\n",
    "#y = df['ganloss']\n",
    "\n",
    "#plt.xlabel(\"epochs\", fontsize=7)\n",
    "#plt.ylabel(\"Losses\", fontsize=7)\n",
    "\n",
    "# plot\n",
    "#plt.plot(x,y)\n",
    "# beautify the x-labels\n",
    "#plt.gcf().autofmt_xdate()\n",
    "\n",
    "#plt.show()\n",
    "\n",
    "ax = df.plot(x='step', y='ganloss')\n",
    "df.plot(x='step', y='d1loss', ax = ax)\n",
    "df.plot(x='step', y='d2loss', ax = ax)"
   ]
  },
  {
   "cell_type": "code",
   "execution_count": 37,
   "metadata": {
    "ExecuteTime": {
     "end_time": "2021-08-04T01:05:16.391422Z",
     "start_time": "2021-08-04T01:05:16.281213Z"
    }
   },
   "outputs": [
    {
     "data": {
      "text/html": [
       "<div>\n",
       "<style scoped>\n",
       "    .dataframe tbody tr th:only-of-type {\n",
       "        vertical-align: middle;\n",
       "    }\n",
       "\n",
       "    .dataframe tbody tr th {\n",
       "        vertical-align: top;\n",
       "    }\n",
       "\n",
       "    .dataframe thead th {\n",
       "        text-align: right;\n",
       "    }\n",
       "</style>\n",
       "<table border=\"1\" class=\"dataframe\">\n",
       "  <thead>\n",
       "    <tr style=\"text-align: right;\">\n",
       "      <th></th>\n",
       "      <th>date</th>\n",
       "      <th>step</th>\n",
       "      <th>d1loss</th>\n",
       "      <th>d2loss</th>\n",
       "      <th>ganloss</th>\n",
       "      <th>epochs</th>\n",
       "    </tr>\n",
       "  </thead>\n",
       "  <tbody>\n",
       "    <tr>\n",
       "      <th>0</th>\n",
       "      <td>2021-08-02 21:42:11.524576</td>\n",
       "      <td>2</td>\n",
       "      <td>0.526938</td>\n",
       "      <td>0.601442</td>\n",
       "      <td>100.203468</td>\n",
       "      <td>0.006920</td>\n",
       "    </tr>\n",
       "    <tr>\n",
       "      <th>1</th>\n",
       "      <td>2021-08-02 21:42:11.696517</td>\n",
       "      <td>3</td>\n",
       "      <td>0.609711</td>\n",
       "      <td>0.514746</td>\n",
       "      <td>98.042244</td>\n",
       "      <td>0.010381</td>\n",
       "    </tr>\n",
       "    <tr>\n",
       "      <th>2</th>\n",
       "      <td>2021-08-02 21:42:11.872022</td>\n",
       "      <td>4</td>\n",
       "      <td>0.651328</td>\n",
       "      <td>0.610696</td>\n",
       "      <td>95.108070</td>\n",
       "      <td>0.013841</td>\n",
       "    </tr>\n",
       "    <tr>\n",
       "      <th>3</th>\n",
       "      <td>2021-08-02 21:42:12.039470</td>\n",
       "      <td>5</td>\n",
       "      <td>0.549510</td>\n",
       "      <td>0.747470</td>\n",
       "      <td>95.823067</td>\n",
       "      <td>0.017301</td>\n",
       "    </tr>\n",
       "    <tr>\n",
       "      <th>4</th>\n",
       "      <td>2021-08-02 21:42:12.205153</td>\n",
       "      <td>6</td>\n",
       "      <td>0.416261</td>\n",
       "      <td>0.426267</td>\n",
       "      <td>92.223709</td>\n",
       "      <td>0.020761</td>\n",
       "    </tr>\n",
       "  </tbody>\n",
       "</table>\n",
       "</div>"
      ],
      "text/plain": [
       "                         date  step    d1loss    d2loss     ganloss    epochs\n",
       "0  2021-08-02 21:42:11.524576     2  0.526938  0.601442  100.203468  0.006920\n",
       "1  2021-08-02 21:42:11.696517     3  0.609711  0.514746   98.042244  0.010381\n",
       "2  2021-08-02 21:42:11.872022     4  0.651328  0.610696   95.108070  0.013841\n",
       "3  2021-08-02 21:42:12.039470     5  0.549510  0.747470   95.823067  0.017301\n",
       "4  2021-08-02 21:42:12.205153     6  0.416261  0.426267   92.223709  0.020761"
      ]
     },
     "execution_count": 37,
     "metadata": {},
     "output_type": "execute_result"
    }
   ],
   "source": [
    "df['epochs'] = df['step']/289\n",
    "df.head()"
   ]
  },
  {
   "cell_type": "code",
   "execution_count": 39,
   "metadata": {
    "ExecuteTime": {
     "end_time": "2021-08-04T01:09:28.774694Z",
     "start_time": "2021-08-04T01:09:28.730069Z"
    }
   },
   "outputs": [
    {
     "data": {
      "text/html": [
       "<div>\n",
       "<style scoped>\n",
       "    .dataframe tbody tr th:only-of-type {\n",
       "        vertical-align: middle;\n",
       "    }\n",
       "\n",
       "    .dataframe tbody tr th {\n",
       "        vertical-align: top;\n",
       "    }\n",
       "\n",
       "    .dataframe thead th {\n",
       "        text-align: right;\n",
       "    }\n",
       "</style>\n",
       "<table border=\"1\" class=\"dataframe\">\n",
       "  <thead>\n",
       "    <tr style=\"text-align: right;\">\n",
       "      <th></th>\n",
       "      <th>date</th>\n",
       "      <th>step</th>\n",
       "      <th>d1_loss</th>\n",
       "      <th>d2_loss</th>\n",
       "      <th>gan_loss</th>\n",
       "      <th>epochs</th>\n",
       "    </tr>\n",
       "  </thead>\n",
       "  <tbody>\n",
       "    <tr>\n",
       "      <th>0</th>\n",
       "      <td>2021-08-02 21:42:11.524576</td>\n",
       "      <td>2</td>\n",
       "      <td>0.526938</td>\n",
       "      <td>0.601442</td>\n",
       "      <td>100.203468</td>\n",
       "      <td>0.006920</td>\n",
       "    </tr>\n",
       "    <tr>\n",
       "      <th>1</th>\n",
       "      <td>2021-08-02 21:42:11.696517</td>\n",
       "      <td>3</td>\n",
       "      <td>0.609711</td>\n",
       "      <td>0.514746</td>\n",
       "      <td>98.042244</td>\n",
       "      <td>0.010381</td>\n",
       "    </tr>\n",
       "    <tr>\n",
       "      <th>2</th>\n",
       "      <td>2021-08-02 21:42:11.872022</td>\n",
       "      <td>4</td>\n",
       "      <td>0.651328</td>\n",
       "      <td>0.610696</td>\n",
       "      <td>95.108070</td>\n",
       "      <td>0.013841</td>\n",
       "    </tr>\n",
       "    <tr>\n",
       "      <th>3</th>\n",
       "      <td>2021-08-02 21:42:12.039470</td>\n",
       "      <td>5</td>\n",
       "      <td>0.549510</td>\n",
       "      <td>0.747470</td>\n",
       "      <td>95.823067</td>\n",
       "      <td>0.017301</td>\n",
       "    </tr>\n",
       "    <tr>\n",
       "      <th>4</th>\n",
       "      <td>2021-08-02 21:42:12.205153</td>\n",
       "      <td>6</td>\n",
       "      <td>0.416261</td>\n",
       "      <td>0.426267</td>\n",
       "      <td>92.223709</td>\n",
       "      <td>0.020761</td>\n",
       "    </tr>\n",
       "  </tbody>\n",
       "</table>\n",
       "</div>"
      ],
      "text/plain": [
       "                         date  step   d1_loss   d2_loss    gan_loss    epochs\n",
       "0  2021-08-02 21:42:11.524576     2  0.526938  0.601442  100.203468  0.006920\n",
       "1  2021-08-02 21:42:11.696517     3  0.609711  0.514746   98.042244  0.010381\n",
       "2  2021-08-02 21:42:11.872022     4  0.651328  0.610696   95.108070  0.013841\n",
       "3  2021-08-02 21:42:12.039470     5  0.549510  0.747470   95.823067  0.017301\n",
       "4  2021-08-02 21:42:12.205153     6  0.416261  0.426267   92.223709  0.020761"
      ]
     },
     "execution_count": 39,
     "metadata": {},
     "output_type": "execute_result"
    }
   ],
   "source": [
    "df = df.rename(columns={'d1loss':'d1_loss', 'd2loss':'d2_loss', 'ganloss':'gan_loss'})\n",
    "df.head()"
   ]
  },
  {
   "cell_type": "code",
   "execution_count": 40,
   "metadata": {
    "ExecuteTime": {
     "end_time": "2021-08-04T01:10:57.412869Z",
     "start_time": "2021-08-04T01:10:56.905589Z"
    }
   },
   "outputs": [
    {
     "data": {
      "text/plain": [
       "<AxesSubplot:xlabel='epochs'>"
      ]
     },
     "execution_count": 40,
     "metadata": {},
     "output_type": "execute_result"
    },
    {
     "data": {
      "image/png": "[encoded data removed]",
      "text/plain": [
       "<Figure size 432x288 with 1 Axes>"
      ]
     },
     "metadata": {
      "needs_background": "light"
     },
     "output_type": "display_data"
    }
   ],
   "source": [
    "ax = df.plot(x='epochs', y='gan_loss')\n",
    "df.plot(x='epochs', y='d1_loss', ax = ax)\n",
    "df.plot(x='epochs', y='d2_loss', ax = ax)"
   ]
  },
  {
   "cell_type": "code",
   "execution_count": 68,
   "metadata": {
    "ExecuteTime": {
     "end_time": "2021-08-04T02:08:43.621210Z",
     "start_time": "2021-08-04T02:08:43.506062Z"
    }
   },
   "outputs": [
    {
     "data": {
      "text/html": [
       "<div>\n",
       "<style scoped>\n",
       "    .dataframe tbody tr th:only-of-type {\n",
       "        vertical-align: middle;\n",
       "    }\n",
       "\n",
       "    .dataframe tbody tr th {\n",
       "        vertical-align: top;\n",
       "    }\n",
       "\n",
       "    .dataframe thead th {\n",
       "        text-align: right;\n",
       "    }\n",
       "</style>\n",
       "<table border=\"1\" class=\"dataframe\">\n",
       "  <thead>\n",
       "    <tr style=\"text-align: right;\">\n",
       "      <th></th>\n",
       "      <th>step</th>\n",
       "      <th>d1_loss</th>\n",
       "      <th>d2_loss</th>\n",
       "      <th>gan_loss</th>\n",
       "      <th>epochs</th>\n",
       "    </tr>\n",
       "  </thead>\n",
       "  <tbody>\n",
       "    <tr>\n",
       "      <th>0</th>\n",
       "      <td>1</td>\n",
       "      <td>0.572295</td>\n",
       "      <td>0.644312</td>\n",
       "      <td>96.894768</td>\n",
       "      <td>0.003559</td>\n",
       "    </tr>\n",
       "    <tr>\n",
       "      <th>1</th>\n",
       "      <td>2</td>\n",
       "      <td>0.641952</td>\n",
       "      <td>0.716151</td>\n",
       "      <td>94.345497</td>\n",
       "      <td>0.007117</td>\n",
       "    </tr>\n",
       "    <tr>\n",
       "      <th>2</th>\n",
       "      <td>3</td>\n",
       "      <td>0.449186</td>\n",
       "      <td>0.430124</td>\n",
       "      <td>91.856583</td>\n",
       "      <td>0.010676</td>\n",
       "    </tr>\n",
       "    <tr>\n",
       "      <th>3</th>\n",
       "      <td>4</td>\n",
       "      <td>0.450339</td>\n",
       "      <td>0.431831</td>\n",
       "      <td>89.494003</td>\n",
       "      <td>0.014235</td>\n",
       "    </tr>\n",
       "    <tr>\n",
       "      <th>4</th>\n",
       "      <td>5</td>\n",
       "      <td>0.474579</td>\n",
       "      <td>0.472750</td>\n",
       "      <td>88.212074</td>\n",
       "      <td>0.017794</td>\n",
       "    </tr>\n",
       "  </tbody>\n",
       "</table>\n",
       "</div>"
      ],
      "text/plain": [
       "   step   d1_loss   d2_loss   gan_loss    epochs\n",
       "0     1  0.572295  0.644312  96.894768  0.003559\n",
       "1     2  0.641952  0.716151  94.345497  0.007117\n",
       "2     3  0.449186  0.430124  91.856583  0.010676\n",
       "3     4  0.450339  0.431831  89.494003  0.014235\n",
       "4     5  0.474579  0.472750  88.212074  0.017794"
      ]
     },
     "execution_count": 68,
     "metadata": {},
     "output_type": "execute_result"
    }
   ],
   "source": [
    "headers = ['step', 'd1_loss', 'd2_loss', 'gan_loss']\n",
    "df = pd.read_csv(r'C:\\Users\\john\\Downloads\\losses_dataset256_DSM_50cmV2.txt',delimiter = ',')\n",
    "df['epochs'] = df['step']/281\n",
    "del df['date'] \n",
    "df.head()"
   ]
  },
  {
   "cell_type": "code",
   "execution_count": 69,
   "metadata": {
    "ExecuteTime": {
     "end_time": "2021-08-04T02:09:11.073848Z",
     "start_time": "2021-08-04T02:09:10.584462Z"
    }
   },
   "outputs": [
    {
     "data": {
      "text/plain": [
       "<AxesSubplot:xlabel='epochs'>"
      ]
     },
     "execution_count": 69,
     "metadata": {},
     "output_type": "execute_result"
    },
    {
     "data": {
      "image/png": "[encoded data removed]",
      "text/plain": [
       "<Figure size 432x288 with 1 Axes>"
      ]
     },
     "metadata": {
      "needs_background": "light"
     },
     "output_type": "display_data"
    }
   ],
   "source": [
    "ax = df.plot(x='epochs', y='gan_loss')\n",
    "df.plot(x='epochs', y='d1_loss', ax = ax)\n",
    "df.plot(x='epochs', y='d2_loss', ax = ax)"
   ]
  },
  {
   "cell_type": "code",
   "execution_count": 5,
   "metadata": {
    "ExecuteTime": {
     "end_time": "2021-08-09T14:14:00.018046Z",
     "start_time": "2021-08-09T14:13:59.989147Z"
    }
   },
   "outputs": [
    {
     "name": "stdout",
     "output_type": "stream",
     "text": [
      "1400\n"
     ]
    },
    {
     "data": {
      "text/html": [
       "<div>\n",
       "<style scoped>\n",
       "    .dataframe tbody tr th:only-of-type {\n",
       "        vertical-align: middle;\n",
       "    }\n",
       "\n",
       "    .dataframe tbody tr th {\n",
       "        vertical-align: top;\n",
       "    }\n",
       "\n",
       "    .dataframe thead th {\n",
       "        text-align: right;\n",
       "    }\n",
       "</style>\n",
       "<table border=\"1\" class=\"dataframe\">\n",
       "  <thead>\n",
       "    <tr style=\"text-align: right;\">\n",
       "      <th></th>\n",
       "      <th>step</th>\n",
       "      <th>d_loss1</th>\n",
       "      <th>d_loss2</th>\n",
       "      <th>g_loss</th>\n",
       "    </tr>\n",
       "  </thead>\n",
       "  <tbody>\n",
       "    <tr>\n",
       "      <th>0</th>\n",
       "      <td>2</td>\n",
       "      <td>0.828323</td>\n",
       "      <td>0.425289</td>\n",
       "      <td>96.470345</td>\n",
       "    </tr>\n",
       "    <tr>\n",
       "      <th>1</th>\n",
       "      <td>3</td>\n",
       "      <td>0.413763</td>\n",
       "      <td>0.532267</td>\n",
       "      <td>94.562378</td>\n",
       "    </tr>\n",
       "    <tr>\n",
       "      <th>2</th>\n",
       "      <td>4</td>\n",
       "      <td>0.436266</td>\n",
       "      <td>0.403161</td>\n",
       "      <td>92.054932</td>\n",
       "    </tr>\n",
       "    <tr>\n",
       "      <th>3</th>\n",
       "      <td>5</td>\n",
       "      <td>0.428320</td>\n",
       "      <td>0.356351</td>\n",
       "      <td>88.919121</td>\n",
       "    </tr>\n",
       "    <tr>\n",
       "      <th>4</th>\n",
       "      <td>6</td>\n",
       "      <td>0.222647</td>\n",
       "      <td>0.375461</td>\n",
       "      <td>85.934029</td>\n",
       "    </tr>\n",
       "  </tbody>\n",
       "</table>\n",
       "</div>"
      ],
      "text/plain": [
       "   step   d_loss1   d_loss2     g_loss\n",
       "0     2  0.828323  0.425289  96.470345\n",
       "1     3  0.413763  0.532267  94.562378\n",
       "2     4  0.436266  0.403161  92.054932\n",
       "3     5  0.428320  0.356351  88.919121\n",
       "4     6  0.222647  0.375461  85.934029"
      ]
     },
     "execution_count": 5,
     "metadata": {},
     "output_type": "execute_result"
    }
   ],
   "source": [
    "import pandas as pd\n",
    "\n",
    "df = pd.read_csv(r'C:\\Users\\john\\Downloads\\losses_dataset1500_DSM_50cm.log',delimiter = ',')\n",
    "#df['epochs'] = df['step']/281\n",
    "del df['date']\n",
    "print(len(df)+1)\n",
    "df.head()"
   ]
  },
  {
   "cell_type": "code",
   "execution_count": 9,
   "metadata": {
    "ExecuteTime": {
     "end_time": "2021-08-09T14:15:31.889640Z",
     "start_time": "2021-08-09T14:15:31.646145Z"
    }
   },
   "outputs": [
    {
     "data": {
      "text/plain": [
       "<AxesSubplot:xlabel='step'>"
      ]
     },
     "execution_count": 9,
     "metadata": {},
     "output_type": "execute_result"
    },
    {
     "data": {
      "image/png": "[encoded data removed]",
      "text/plain": [
       "<Figure size 432x288 with 1 Axes>"
      ]
     },
     "metadata": {
      "needs_background": "light"
     },
     "output_type": "display_data"
    }
   ],
   "source": [
    "ax = df.plot(x='step', y='g_loss')\n",
    "df.plot(x='step', y='d_loss1', ax = ax)\n",
    "df.plot(x='step', y='d_loss2', ax = ax)"
   ]
  },
  {
   "cell_type": "code",
   "execution_count": 15,
   "metadata": {
    "ExecuteTime": {
     "end_time": "2021-08-09T14:21:33.037861Z",
     "start_time": "2021-08-09T14:21:33.007940Z"
    }
   },
   "outputs": [
    {
     "name": "stdout",
     "output_type": "stream",
     "text": [
      "1400\n"
     ]
    },
    {
     "data": {
      "text/html": [
       "<div>\n",
       "<style scoped>\n",
       "    .dataframe tbody tr th:only-of-type {\n",
       "        vertical-align: middle;\n",
       "    }\n",
       "\n",
       "    .dataframe tbody tr th {\n",
       "        vertical-align: top;\n",
       "    }\n",
       "\n",
       "    .dataframe thead th {\n",
       "        text-align: right;\n",
       "    }\n",
       "</style>\n",
       "<table border=\"1\" class=\"dataframe\">\n",
       "  <thead>\n",
       "    <tr style=\"text-align: right;\">\n",
       "      <th></th>\n",
       "      <th>step</th>\n",
       "      <th>d_loss1</th>\n",
       "      <th>d_loss2</th>\n",
       "      <th>g_loss</th>\n",
       "      <th>epochs</th>\n",
       "    </tr>\n",
       "  </thead>\n",
       "  <tbody>\n",
       "    <tr>\n",
       "      <th>0</th>\n",
       "      <td>2</td>\n",
       "      <td>0.828323</td>\n",
       "      <td>0.425289</td>\n",
       "      <td>96.470345</td>\n",
       "      <td>0.142857</td>\n",
       "    </tr>\n",
       "    <tr>\n",
       "      <th>1</th>\n",
       "      <td>3</td>\n",
       "      <td>0.413763</td>\n",
       "      <td>0.532267</td>\n",
       "      <td>94.562378</td>\n",
       "      <td>0.214286</td>\n",
       "    </tr>\n",
       "    <tr>\n",
       "      <th>2</th>\n",
       "      <td>4</td>\n",
       "      <td>0.436266</td>\n",
       "      <td>0.403161</td>\n",
       "      <td>92.054932</td>\n",
       "      <td>0.285714</td>\n",
       "    </tr>\n",
       "    <tr>\n",
       "      <th>3</th>\n",
       "      <td>5</td>\n",
       "      <td>0.428320</td>\n",
       "      <td>0.356351</td>\n",
       "      <td>88.919121</td>\n",
       "      <td>0.357143</td>\n",
       "    </tr>\n",
       "    <tr>\n",
       "      <th>4</th>\n",
       "      <td>6</td>\n",
       "      <td>0.222647</td>\n",
       "      <td>0.375461</td>\n",
       "      <td>85.934029</td>\n",
       "      <td>0.428571</td>\n",
       "    </tr>\n",
       "  </tbody>\n",
       "</table>\n",
       "</div>"
      ],
      "text/plain": [
       "   step   d_loss1   d_loss2     g_loss    epochs\n",
       "0     2  0.828323  0.425289  96.470345  0.142857\n",
       "1     3  0.413763  0.532267  94.562378  0.214286\n",
       "2     4  0.436266  0.403161  92.054932  0.285714\n",
       "3     5  0.428320  0.356351  88.919121  0.357143\n",
       "4     6  0.222647  0.375461  85.934029  0.428571"
      ]
     },
     "execution_count": 15,
     "metadata": {},
     "output_type": "execute_result"
    }
   ],
   "source": [
    "df = pd.read_csv(r'C:\\Users\\john\\Downloads\\losses_dataset256_DSM_50cm.log',delimiter = ',')\n",
    "dataset_size = 14\n",
    "df['epochs'] = df['step']/dataset_size\n",
    "del df['date']\n",
    "print(len(df)+1)\n",
    "df.head()"
   ]
  },
  {
   "cell_type": "code",
   "execution_count": 16,
   "metadata": {
    "ExecuteTime": {
     "end_time": "2021-08-09T14:21:44.429929Z",
     "start_time": "2021-08-09T14:21:44.236784Z"
    }
   },
   "outputs": [
    {
     "data": {
      "text/plain": [
       "<AxesSubplot:xlabel='epochs'>"
      ]
     },
     "execution_count": 16,
     "metadata": {},
     "output_type": "execute_result"
    },
    {
     "data": {
      "image/png": "[encoded data removed]",
      "text/plain": [
       "<Figure size 432x288 with 1 Axes>"
      ]
     },
     "metadata": {
      "needs_background": "light"
     },
     "output_type": "display_data"
    }
   ],
   "source": [
    "ax = df.plot(x='epochs', y='g_loss')\n",
    "df.plot(x='epochs', y='d_loss1', ax = ax)\n",
    "df.plot(x='epochs', y='d_loss2', ax = ax)"
   ]
  },
  {
   "cell_type": "code",
   "execution_count": 17,
   "metadata": {
    "ExecuteTime": {
     "end_time": "2021-08-09T17:03:28.220231Z",
     "start_time": "2021-08-09T17:03:27.967298Z"
    }
   },
   "outputs": [
    {
     "name": "stdout",
     "output_type": "stream",
     "text": [
      "1500\n"
     ]
    },
    {
     "data": {
      "text/html": [
       "<div>\n",
       "<style scoped>\n",
       "    .dataframe tbody tr th:only-of-type {\n",
       "        vertical-align: middle;\n",
       "    }\n",
       "\n",
       "    .dataframe tbody tr th {\n",
       "        vertical-align: top;\n",
       "    }\n",
       "\n",
       "    .dataframe thead th {\n",
       "        text-align: right;\n",
       "    }\n",
       "</style>\n",
       "<table border=\"1\" class=\"dataframe\">\n",
       "  <thead>\n",
       "    <tr style=\"text-align: right;\">\n",
       "      <th></th>\n",
       "      <th>step</th>\n",
       "      <th>d1_loss</th>\n",
       "      <th>d2_loss</th>\n",
       "      <th>gan_loss</th>\n",
       "      <th>epochs</th>\n",
       "    </tr>\n",
       "  </thead>\n",
       "  <tbody>\n",
       "    <tr>\n",
       "      <th>0</th>\n",
       "      <td>2</td>\n",
       "      <td>0.129013</td>\n",
       "      <td>0.920251</td>\n",
       "      <td>97.819489</td>\n",
       "      <td>0.133333</td>\n",
       "    </tr>\n",
       "    <tr>\n",
       "      <th>1</th>\n",
       "      <td>3</td>\n",
       "      <td>0.295264</td>\n",
       "      <td>0.603622</td>\n",
       "      <td>95.128967</td>\n",
       "      <td>0.200000</td>\n",
       "    </tr>\n",
       "    <tr>\n",
       "      <th>2</th>\n",
       "      <td>4</td>\n",
       "      <td>0.349766</td>\n",
       "      <td>0.785327</td>\n",
       "      <td>92.476662</td>\n",
       "      <td>0.266667</td>\n",
       "    </tr>\n",
       "    <tr>\n",
       "      <th>3</th>\n",
       "      <td>5</td>\n",
       "      <td>0.355399</td>\n",
       "      <td>0.767410</td>\n",
       "      <td>89.442184</td>\n",
       "      <td>0.333333</td>\n",
       "    </tr>\n",
       "    <tr>\n",
       "      <th>4</th>\n",
       "      <td>6</td>\n",
       "      <td>0.368924</td>\n",
       "      <td>0.489892</td>\n",
       "      <td>87.948242</td>\n",
       "      <td>0.400000</td>\n",
       "    </tr>\n",
       "  </tbody>\n",
       "</table>\n",
       "</div>"
      ],
      "text/plain": [
       "   step   d1_loss   d2_loss   gan_loss    epochs\n",
       "0     2  0.129013  0.920251  97.819489  0.133333\n",
       "1     3  0.295264  0.603622  95.128967  0.200000\n",
       "2     4  0.349766  0.785327  92.476662  0.266667\n",
       "3     5  0.355399  0.767410  89.442184  0.333333\n",
       "4     6  0.368924  0.489892  87.948242  0.400000"
      ]
     },
     "execution_count": 17,
     "metadata": {},
     "output_type": "execute_result"
    }
   ],
   "source": [
    "df = pd.read_csv(r'C:\\Users\\john\\Downloads\\losses_dataset1500_DSM_1px_RGB.log',delimiter = ',')\n",
    "dataset_size = 15\n",
    "df['epochs'] = df['step']/dataset_size\n",
    "del df['date']\n",
    "print(len(df)+1)\n",
    "df.head()"
   ]
  },
  {
   "cell_type": "code",
   "execution_count": 18,
   "metadata": {
    "ExecuteTime": {
     "end_time": "2021-08-09T17:03:57.258794Z",
     "start_time": "2021-08-09T17:03:56.916349Z"
    }
   },
   "outputs": [
    {
     "data": {
      "text/plain": [
       "<AxesSubplot:xlabel='epochs'>"
      ]
     },
     "execution_count": 18,
     "metadata": {},
     "output_type": "execute_result"
    },
    {
     "data": {
      "image/png": "[encoded data removed]",
      "text/plain": [
       "<Figure size 432x288 with 1 Axes>"
      ]
     },
     "metadata": {
      "needs_background": "light"
     },
     "output_type": "display_data"
    }
   ],
   "source": [
    "ax = df.plot(x='epochs', y='gan_loss')\n",
    "df.plot(x='epochs', y='d1_loss', ax = ax)\n",
    "df.plot(x='epochs', y='d2_loss', ax = ax)"
   ]
  },
  {
   "cell_type": "code",
   "execution_count": 19,
   "metadata": {
    "ExecuteTime": {
     "end_time": "2021-08-09T17:07:14.355497Z",
     "start_time": "2021-08-09T17:07:14.260663Z"
    }
   },
   "outputs": [
    {
     "name": "stdout",
     "output_type": "stream",
     "text": [
      "1500\n"
     ]
    },
    {
     "data": {
      "text/html": [
       "<div>\n",
       "<style scoped>\n",
       "    .dataframe tbody tr th:only-of-type {\n",
       "        vertical-align: middle;\n",
       "    }\n",
       "\n",
       "    .dataframe tbody tr th {\n",
       "        vertical-align: top;\n",
       "    }\n",
       "\n",
       "    .dataframe thead th {\n",
       "        text-align: right;\n",
       "    }\n",
       "</style>\n",
       "<table border=\"1\" class=\"dataframe\">\n",
       "  <thead>\n",
       "    <tr style=\"text-align: right;\">\n",
       "      <th></th>\n",
       "      <th>step</th>\n",
       "      <th>d1_loss</th>\n",
       "      <th>d2_loss</th>\n",
       "      <th>gan_loss</th>\n",
       "      <th>epochs</th>\n",
       "    </tr>\n",
       "  </thead>\n",
       "  <tbody>\n",
       "    <tr>\n",
       "      <th>0</th>\n",
       "      <td>2</td>\n",
       "      <td>0.414531</td>\n",
       "      <td>0.502072</td>\n",
       "      <td>96.070114</td>\n",
       "      <td>0.133333</td>\n",
       "    </tr>\n",
       "    <tr>\n",
       "      <th>1</th>\n",
       "      <td>3</td>\n",
       "      <td>0.452409</td>\n",
       "      <td>0.443600</td>\n",
       "      <td>93.516258</td>\n",
       "      <td>0.200000</td>\n",
       "    </tr>\n",
       "    <tr>\n",
       "      <th>2</th>\n",
       "      <td>4</td>\n",
       "      <td>0.419938</td>\n",
       "      <td>0.505789</td>\n",
       "      <td>90.760284</td>\n",
       "      <td>0.266667</td>\n",
       "    </tr>\n",
       "    <tr>\n",
       "      <th>3</th>\n",
       "      <td>5</td>\n",
       "      <td>0.403840</td>\n",
       "      <td>0.706484</td>\n",
       "      <td>87.918266</td>\n",
       "      <td>0.333333</td>\n",
       "    </tr>\n",
       "    <tr>\n",
       "      <th>4</th>\n",
       "      <td>6</td>\n",
       "      <td>0.323881</td>\n",
       "      <td>0.354133</td>\n",
       "      <td>85.248993</td>\n",
       "      <td>0.400000</td>\n",
       "    </tr>\n",
       "  </tbody>\n",
       "</table>\n",
       "</div>"
      ],
      "text/plain": [
       "   step   d1_loss   d2_loss   gan_loss    epochs\n",
       "0     2  0.414531  0.502072  96.070114  0.133333\n",
       "1     3  0.452409  0.443600  93.516258  0.200000\n",
       "2     4  0.419938  0.505789  90.760284  0.266667\n",
       "3     5  0.403840  0.706484  87.918266  0.333333\n",
       "4     6  0.323881  0.354133  85.248993  0.400000"
      ]
     },
     "execution_count": 19,
     "metadata": {},
     "output_type": "execute_result"
    }
   ],
   "source": [
    "df = pd.read_csv(r'C:\\Users\\john\\Downloads\\losses_dataset1500_DSM_50cm_RGB.log',delimiter = ',')\n",
    "dataset_size = 15\n",
    "df['epochs'] = df['step']/dataset_size\n",
    "del df['date']\n",
    "print(len(df)+1)\n",
    "df.head()"
   ]
  },
  {
   "cell_type": "code",
   "execution_count": 20,
   "metadata": {
    "ExecuteTime": {
     "end_time": "2021-08-09T17:07:27.728850Z",
     "start_time": "2021-08-09T17:07:27.488345Z"
    }
   },
   "outputs": [
    {
     "data": {
      "text/plain": [
       "<AxesSubplot:xlabel='epochs'>"
      ]
     },
     "execution_count": 20,
     "metadata": {},
     "output_type": "execute_result"
    },
    {
     "data": {
      "image/png": "[encoded data removed]",
      "text/plain": [
       "<Figure size 432x288 with 1 Axes>"
      ]
     },
     "metadata": {
      "needs_background": "light"
     },
     "output_type": "display_data"
    }
   ],
   "source": [
    "ax = df.plot(x='epochs', y='gan_loss')\n",
    "df.plot(x='epochs', y='d1_loss', ax = ax)\n",
    "df.plot(x='epochs', y='d2_loss', ax = ax)"
   ]
  },
  {
   "cell_type": "code",
   "execution_count": 45,
   "metadata": {
    "ExecuteTime": {
     "end_time": "2021-08-09T17:53:07.584653Z",
     "start_time": "2021-08-09T17:53:07.498857Z"
    }
   },
   "outputs": [
    {
     "name": "stdout",
     "output_type": "stream",
     "text": [
      "3750\n"
     ]
    },
    {
     "data": {
      "text/html": [
       "<div>\n",
       "<style scoped>\n",
       "    .dataframe tbody tr th:only-of-type {\n",
       "        vertical-align: middle;\n",
       "    }\n",
       "\n",
       "    .dataframe tbody tr th {\n",
       "        vertical-align: top;\n",
       "    }\n",
       "\n",
       "    .dataframe thead th {\n",
       "        text-align: right;\n",
       "    }\n",
       "</style>\n",
       "<table border=\"1\" class=\"dataframe\">\n",
       "  <thead>\n",
       "    <tr style=\"text-align: right;\">\n",
       "      <th></th>\n",
       "      <th>step</th>\n",
       "      <th>d1_loss</th>\n",
       "      <th>d2_loss</th>\n",
       "      <th>gan_loss</th>\n",
       "      <th>epochs</th>\n",
       "    </tr>\n",
       "  </thead>\n",
       "  <tbody>\n",
       "    <tr>\n",
       "      <th>0</th>\n",
       "      <td>2.0</td>\n",
       "      <td>0.414531</td>\n",
       "      <td>0.502072</td>\n",
       "      <td>96.070114</td>\n",
       "      <td>0.133333</td>\n",
       "    </tr>\n",
       "    <tr>\n",
       "      <th>1</th>\n",
       "      <td>3.0</td>\n",
       "      <td>0.452409</td>\n",
       "      <td>0.443600</td>\n",
       "      <td>93.516258</td>\n",
       "      <td>0.200000</td>\n",
       "    </tr>\n",
       "    <tr>\n",
       "      <th>2</th>\n",
       "      <td>4.0</td>\n",
       "      <td>0.419938</td>\n",
       "      <td>0.505789</td>\n",
       "      <td>90.760284</td>\n",
       "      <td>0.266667</td>\n",
       "    </tr>\n",
       "    <tr>\n",
       "      <th>3</th>\n",
       "      <td>5.0</td>\n",
       "      <td>0.403840</td>\n",
       "      <td>0.706484</td>\n",
       "      <td>87.918266</td>\n",
       "      <td>0.333333</td>\n",
       "    </tr>\n",
       "    <tr>\n",
       "      <th>4</th>\n",
       "      <td>6.0</td>\n",
       "      <td>0.323881</td>\n",
       "      <td>0.354133</td>\n",
       "      <td>85.248993</td>\n",
       "      <td>0.400000</td>\n",
       "    </tr>\n",
       "  </tbody>\n",
       "</table>\n",
       "</div>"
      ],
      "text/plain": [
       "   step   d1_loss   d2_loss   gan_loss    epochs\n",
       "0   2.0  0.414531  0.502072  96.070114  0.133333\n",
       "1   3.0  0.452409  0.443600  93.516258  0.200000\n",
       "2   4.0  0.419938  0.505789  90.760284  0.266667\n",
       "3   5.0  0.403840  0.706484  87.918266  0.333333\n",
       "4   6.0  0.323881  0.354133  85.248993  0.400000"
      ]
     },
     "execution_count": 45,
     "metadata": {},
     "output_type": "execute_result"
    }
   ],
   "source": [
    "df = pd.read_csv(r'C:\\Users\\john\\Downloads\\losses_dataset1500_DSM_50cm_RGB_150_epocas.log',delimiter = ',')\n",
    "dataset_size = 15\n",
    "df['step'] = pd.to_numeric(df['step'], errors='coerce')\n",
    "df['d1_loss'] = pd.to_numeric(df['d1_loss'], errors='coerce')\n",
    "df['d2_loss'] = pd.to_numeric(df['d2_loss'], errors='coerce')\n",
    "df['gan_loss'] = pd.to_numeric(df['gan_loss'], errors='coerce')\n",
    "df['epochs'] = df['step']/dataset_size\n",
    "del df['date']\n",
    "print(len(df)+1)\n",
    "df.head()\n"
   ]
  },
  {
   "cell_type": "code",
   "execution_count": 46,
   "metadata": {
    "ExecuteTime": {
     "end_time": "2021-08-09T17:53:11.464926Z",
     "start_time": "2021-08-09T17:53:11.006125Z"
    }
   },
   "outputs": [
    {
     "data": {
      "text/plain": [
       "<AxesSubplot:xlabel='epochs'>"
      ]
     },
     "execution_count": 46,
     "metadata": {},
     "output_type": "execute_result"
    },
    {
     "data": {
      "image/png": "[encoded data removed]",
      "text/plain": [
       "<Figure size 432x288 with 1 Axes>"
      ]
     },
     "metadata": {
      "needs_background": "light"
     },
     "output_type": "display_data"
    }
   ],
   "source": [
    "ax = df.plot(x='epochs', y='gan_loss')\n",
    "df.plot(x='epochs', y='d1_loss', ax = ax)\n",
    "df.plot(x='epochs', y='d2_loss', ax = ax)"
   ]
  },
  {
   "cell_type": "code",
   "execution_count": 7,
   "metadata": {
    "ExecuteTime": {
     "end_time": "2021-08-10T16:38:44.213172Z",
     "start_time": "2021-08-10T16:38:44.066707Z"
    }
   },
   "outputs": [
    {
     "name": "stdout",
     "output_type": "stream",
     "text": [
      "13200\n"
     ]
    },
    {
     "data": {
      "text/html": [
       "<div>\n",
       "<style scoped>\n",
       "    .dataframe tbody tr th:only-of-type {\n",
       "        vertical-align: middle;\n",
       "    }\n",
       "\n",
       "    .dataframe tbody tr th {\n",
       "        vertical-align: top;\n",
       "    }\n",
       "\n",
       "    .dataframe thead th {\n",
       "        text-align: right;\n",
       "    }\n",
       "</style>\n",
       "<table border=\"1\" class=\"dataframe\">\n",
       "  <thead>\n",
       "    <tr style=\"text-align: right;\">\n",
       "      <th></th>\n",
       "      <th>step</th>\n",
       "      <th>d1_loss</th>\n",
       "      <th>d2_loss</th>\n",
       "      <th>gan_loss</th>\n",
       "      <th>epochs</th>\n",
       "    </tr>\n",
       "  </thead>\n",
       "  <tbody>\n",
       "    <tr>\n",
       "      <th>0</th>\n",
       "      <td>2</td>\n",
       "      <td>0.714045</td>\n",
       "      <td>1.090740</td>\n",
       "      <td>97.969124</td>\n",
       "      <td>0.022727</td>\n",
       "    </tr>\n",
       "    <tr>\n",
       "      <th>1</th>\n",
       "      <td>3</td>\n",
       "      <td>0.732386</td>\n",
       "      <td>0.708578</td>\n",
       "      <td>95.635994</td>\n",
       "      <td>0.034091</td>\n",
       "    </tr>\n",
       "    <tr>\n",
       "      <th>2</th>\n",
       "      <td>4</td>\n",
       "      <td>0.491674</td>\n",
       "      <td>0.562597</td>\n",
       "      <td>94.455704</td>\n",
       "      <td>0.045455</td>\n",
       "    </tr>\n",
       "    <tr>\n",
       "      <th>3</th>\n",
       "      <td>5</td>\n",
       "      <td>0.409736</td>\n",
       "      <td>0.572484</td>\n",
       "      <td>91.024544</td>\n",
       "      <td>0.056818</td>\n",
       "    </tr>\n",
       "    <tr>\n",
       "      <th>4</th>\n",
       "      <td>6</td>\n",
       "      <td>0.396893</td>\n",
       "      <td>0.556530</td>\n",
       "      <td>87.575500</td>\n",
       "      <td>0.068182</td>\n",
       "    </tr>\n",
       "  </tbody>\n",
       "</table>\n",
       "</div>"
      ],
      "text/plain": [
       "   step   d1_loss   d2_loss   gan_loss    epochs\n",
       "0     2  0.714045  1.090740  97.969124  0.022727\n",
       "1     3  0.732386  0.708578  95.635994  0.034091\n",
       "2     4  0.491674  0.562597  94.455704  0.045455\n",
       "3     5  0.409736  0.572484  91.024544  0.056818\n",
       "4     6  0.396893  0.556530  87.575500  0.068182"
      ]
     },
     "execution_count": 7,
     "metadata": {},
     "output_type": "execute_result"
    }
   ],
   "source": [
    "import pandas as pd\n",
    "\n",
    "df = pd.read_csv(r'C:\\Users\\john\\Downloads\\losses_dataset256_DSM_50cm_RGB_150epochs.log',delimiter = ',')\n",
    "dataset_size = 88\n",
    "df['step'] = pd.to_numeric(df['step'], errors='coerce')\n",
    "df['d1_loss'] = pd.to_numeric(df['d1_loss'], errors='coerce')\n",
    "df['d2_loss'] = pd.to_numeric(df['d2_loss'], errors='coerce')\n",
    "df['gan_loss'] = pd.to_numeric(df['gan_loss'], errors='coerce')\n",
    "df['epochs'] = df['step']/dataset_size\n",
    "del df['date']\n",
    "print(len(df)+1)\n",
    "df.head()"
   ]
  },
  {
   "cell_type": "code",
   "execution_count": 8,
   "metadata": {
    "ExecuteTime": {
     "end_time": "2021-08-10T16:38:48.292245Z",
     "start_time": "2021-08-10T16:38:47.912722Z"
    }
   },
   "outputs": [
    {
     "data": {
      "text/plain": [
       "<AxesSubplot:title={'center':'Influence of DSM data'}, xlabel='epochs'>"
      ]
     },
     "execution_count": 8,
     "metadata": {},
     "output_type": "execute_result"
    },
    {
     "data": {
      "image/png": "[encoded data removed]",
      "text/plain": [
       "<Figure size 432x288 with 1 Axes>"
      ]
     },
     "metadata": {
      "needs_background": "light"
     },
     "output_type": "display_data"
    }
   ],
   "source": [
    "ax = df.plot(x='epochs', y='gan_loss', title=\"Influence of DSM data\")\n",
    "df.plot(x='epochs', y='d1_loss', ax = ax)\n",
    "df.plot(x='epochs', y='d2_loss', ax = ax)"
   ]
  },
  {
   "cell_type": "code",
   "execution_count": 9,
   "metadata": {
    "ExecuteTime": {
     "end_time": "2021-08-10T16:38:52.306774Z",
     "start_time": "2021-08-10T16:38:52.218217Z"
    }
   },
   "outputs": [
    {
     "name": "stdout",
     "output_type": "stream",
     "text": [
      "13200\n"
     ]
    },
    {
     "data": {
      "text/html": [
       "<div>\n",
       "<style scoped>\n",
       "    .dataframe tbody tr th:only-of-type {\n",
       "        vertical-align: middle;\n",
       "    }\n",
       "\n",
       "    .dataframe tbody tr th {\n",
       "        vertical-align: top;\n",
       "    }\n",
       "\n",
       "    .dataframe thead th {\n",
       "        text-align: right;\n",
       "    }\n",
       "</style>\n",
       "<table border=\"1\" class=\"dataframe\">\n",
       "  <thead>\n",
       "    <tr style=\"text-align: right;\">\n",
       "      <th></th>\n",
       "      <th>step</th>\n",
       "      <th>d1_loss</th>\n",
       "      <th>d2_loss</th>\n",
       "      <th>gan_loss</th>\n",
       "      <th>epochs</th>\n",
       "    </tr>\n",
       "  </thead>\n",
       "  <tbody>\n",
       "    <tr>\n",
       "      <th>0</th>\n",
       "      <td>2</td>\n",
       "      <td>0.374317</td>\n",
       "      <td>0.697032</td>\n",
       "      <td>95.243263</td>\n",
       "      <td>0.022727</td>\n",
       "    </tr>\n",
       "    <tr>\n",
       "      <th>1</th>\n",
       "      <td>3</td>\n",
       "      <td>0.385545</td>\n",
       "      <td>1.004036</td>\n",
       "      <td>93.620293</td>\n",
       "      <td>0.034091</td>\n",
       "    </tr>\n",
       "    <tr>\n",
       "      <th>2</th>\n",
       "      <td>4</td>\n",
       "      <td>0.467993</td>\n",
       "      <td>0.587765</td>\n",
       "      <td>90.859398</td>\n",
       "      <td>0.045455</td>\n",
       "    </tr>\n",
       "    <tr>\n",
       "      <th>3</th>\n",
       "      <td>5</td>\n",
       "      <td>0.622283</td>\n",
       "      <td>0.543303</td>\n",
       "      <td>88.591293</td>\n",
       "      <td>0.056818</td>\n",
       "    </tr>\n",
       "    <tr>\n",
       "      <th>4</th>\n",
       "      <td>6</td>\n",
       "      <td>0.401104</td>\n",
       "      <td>0.434696</td>\n",
       "      <td>87.093513</td>\n",
       "      <td>0.068182</td>\n",
       "    </tr>\n",
       "  </tbody>\n",
       "</table>\n",
       "</div>"
      ],
      "text/plain": [
       "   step   d1_loss   d2_loss   gan_loss    epochs\n",
       "0     2  0.374317  0.697032  95.243263  0.022727\n",
       "1     3  0.385545  1.004036  93.620293  0.034091\n",
       "2     4  0.467993  0.587765  90.859398  0.045455\n",
       "3     5  0.622283  0.543303  88.591293  0.056818\n",
       "4     6  0.401104  0.434696  87.093513  0.068182"
      ]
     },
     "execution_count": 9,
     "metadata": {},
     "output_type": "execute_result"
    }
   ],
   "source": [
    "import pandas as pd\n",
    "\n",
    "df = pd.read_csv(r'C:\\Users\\john\\Downloads\\losses_dataset256_50cm_RGB_150epochs.log',delimiter = ',')\n",
    "dataset_size = 88\n",
    "df['step'] = pd.to_numeric(df['step'], errors='coerce')\n",
    "df['d1_loss'] = pd.to_numeric(df['d1_loss'], errors='coerce')\n",
    "df['d2_loss'] = pd.to_numeric(df['d2_loss'], errors='coerce')\n",
    "df['gan_loss'] = pd.to_numeric(df['gan_loss'], errors='coerce')\n",
    "df['epochs'] = df['step']/dataset_size\n",
    "del df['date']\n",
    "print(len(df)+1)\n",
    "df.head()"
   ]
  },
  {
   "cell_type": "code",
   "execution_count": 10,
   "metadata": {
    "ExecuteTime": {
     "end_time": "2021-08-10T16:38:55.441588Z",
     "start_time": "2021-08-10T16:38:55.150841Z"
    }
   },
   "outputs": [
    {
     "data": {
      "text/plain": [
       "<AxesSubplot:title={'center':'No DSM data'}, xlabel='epochs'>"
      ]
     },
     "execution_count": 10,
     "metadata": {},
     "output_type": "execute_result"
    },
    {
     "data": {
      "image/png": "[encoded data removed]",
      "text/plain": [
       "<Figure size 432x288 with 1 Axes>"
      ]
     },
     "metadata": {
      "needs_background": "light"
     },
     "output_type": "display_data"
    }
   ],
   "source": [
    "ax = df.plot(x='epochs', y='gan_loss', title=\"No DSM data\")\n",
    "df.plot(x='epochs', y='d1_loss', ax = ax)\n",
    "df.plot(x='epochs', y='d2_loss', ax = ax)"
   ]
  },
  {
   "cell_type": "code",
   "execution_count": 20,
   "metadata": {
    "ExecuteTime": {
     "end_time": "2021-08-10T23:57:13.014957Z",
     "start_time": "2021-08-10T23:57:12.627581Z"
    }
   },
   "outputs": [
    {
     "name": "stdout",
     "output_type": "stream",
     "text": [
      "45442\n"
     ]
    },
    {
     "data": {
      "text/html": [
       "<div>\n",
       "<style scoped>\n",
       "    .dataframe tbody tr th:only-of-type {\n",
       "        vertical-align: middle;\n",
       "    }\n",
       "\n",
       "    .dataframe tbody tr th {\n",
       "        vertical-align: top;\n",
       "    }\n",
       "\n",
       "    .dataframe thead th {\n",
       "        text-align: right;\n",
       "    }\n",
       "</style>\n",
       "<table border=\"1\" class=\"dataframe\">\n",
       "  <thead>\n",
       "    <tr style=\"text-align: right;\">\n",
       "      <th></th>\n",
       "      <th>step</th>\n",
       "      <th>d1_loss</th>\n",
       "      <th>d2_loss</th>\n",
       "      <th>gan_loss</th>\n",
       "      <th>epochs</th>\n",
       "    </tr>\n",
       "  </thead>\n",
       "  <tbody>\n",
       "    <tr>\n",
       "      <th>0</th>\n",
       "      <td>2.0</td>\n",
       "      <td>0.312906</td>\n",
       "      <td>0.717678</td>\n",
       "      <td>98.016083</td>\n",
       "      <td>0.009901</td>\n",
       "    </tr>\n",
       "    <tr>\n",
       "      <th>1</th>\n",
       "      <td>3.0</td>\n",
       "      <td>0.428703</td>\n",
       "      <td>0.515837</td>\n",
       "      <td>95.876671</td>\n",
       "      <td>0.014851</td>\n",
       "    </tr>\n",
       "    <tr>\n",
       "      <th>2</th>\n",
       "      <td>4.0</td>\n",
       "      <td>0.465295</td>\n",
       "      <td>0.424298</td>\n",
       "      <td>93.035011</td>\n",
       "      <td>0.019802</td>\n",
       "    </tr>\n",
       "    <tr>\n",
       "      <th>3</th>\n",
       "      <td>5.0</td>\n",
       "      <td>0.645637</td>\n",
       "      <td>0.479992</td>\n",
       "      <td>90.520706</td>\n",
       "      <td>0.024752</td>\n",
       "    </tr>\n",
       "    <tr>\n",
       "      <th>4</th>\n",
       "      <td>6.0</td>\n",
       "      <td>0.356150</td>\n",
       "      <td>0.515676</td>\n",
       "      <td>87.711304</td>\n",
       "      <td>0.029703</td>\n",
       "    </tr>\n",
       "  </tbody>\n",
       "</table>\n",
       "</div>"
      ],
      "text/plain": [
       "   step   d1_loss   d2_loss   gan_loss    epochs\n",
       "0   2.0  0.312906  0.717678  98.016083  0.009901\n",
       "1   3.0  0.428703  0.515837  95.876671  0.014851\n",
       "2   4.0  0.465295  0.424298  93.035011  0.019802\n",
       "3   5.0  0.645637  0.479992  90.520706  0.024752\n",
       "4   6.0  0.356150  0.515676  87.711304  0.029703"
      ]
     },
     "execution_count": 20,
     "metadata": {},
     "output_type": "execute_result"
    }
   ],
   "source": [
    "import pandas as pd\n",
    "\n",
    "df = pd.read_csv(r'C:\\Users\\john\\Downloads\\losses_dataset256_10cm_RGB.log',delimiter = ',')\n",
    "dataset_size = 202\n",
    "df['step'] = pd.to_numeric(df['step'], errors='coerce')\n",
    "df['d1_loss'] = pd.to_numeric(df['d1_loss'], errors='coerce')\n",
    "df['d2_loss'] = pd.to_numeric(df['d2_loss'], errors='coerce')\n",
    "df['gan_loss'] = pd.to_numeric(df['gan_loss'], errors='coerce')\n",
    "df['epochs'] = df['step']/dataset_size\n",
    "del df['date']\n",
    "print(len(df)+1)\n",
    "df.head()"
   ]
  },
  {
   "cell_type": "code",
   "execution_count": 21,
   "metadata": {
    "ExecuteTime": {
     "end_time": "2021-08-10T23:57:20.833995Z",
     "start_time": "2021-08-10T23:57:20.438952Z"
    }
   },
   "outputs": [
    {
     "data": {
      "text/plain": [
       "<AxesSubplot:title={'center':'10cm buffer - Not Learning'}, xlabel='epochs'>"
      ]
     },
     "execution_count": 21,
     "metadata": {},
     "output_type": "execute_result"
    },
    {
     "data": {
      "image/png": "[encoded data removed]",
      "text/plain": [
       "<Figure size 432x288 with 1 Axes>"
      ]
     },
     "metadata": {
      "needs_background": "light"
     },
     "output_type": "display_data"
    }
   ],
   "source": [
    "ax = df.plot(x='epochs', y='gan_loss', title=\"10cm buffer roads - Not Learning\")\n",
    "df.plot(x='epochs', y='d1_loss', ax = ax)\n",
    "df.plot(x='epochs', y='d2_loss', ax = ax)"
   ]
  },
  {
   "cell_type": "code",
   "execution_count": 93,
   "metadata": {
    "ExecuteTime": {
     "end_time": "2021-08-11T17:58:58.514305Z",
     "start_time": "2021-08-11T17:58:58.451772Z"
    }
   },
   "outputs": [
    {
     "name": "stdout",
     "output_type": "stream",
     "text": [
      "9591\n"
     ]
    },
    {
     "data": {
      "text/html": [
       "<div>\n",
       "<style scoped>\n",
       "    .dataframe tbody tr th:only-of-type {\n",
       "        vertical-align: middle;\n",
       "    }\n",
       "\n",
       "    .dataframe tbody tr th {\n",
       "        vertical-align: top;\n",
       "    }\n",
       "\n",
       "    .dataframe thead th {\n",
       "        text-align: right;\n",
       "    }\n",
       "</style>\n",
       "<table border=\"1\" class=\"dataframe\">\n",
       "  <thead>\n",
       "    <tr style=\"text-align: right;\">\n",
       "      <th></th>\n",
       "      <th>step</th>\n",
       "      <th>d1_loss</th>\n",
       "      <th>d2_loss</th>\n",
       "      <th>gan_loss</th>\n",
       "      <th>epochs</th>\n",
       "    </tr>\n",
       "  </thead>\n",
       "  <tbody>\n",
       "    <tr>\n",
       "      <th>1</th>\n",
       "      <td>3</td>\n",
       "      <td>0.255768</td>\n",
       "      <td>0.679484</td>\n",
       "      <td>98.985451</td>\n",
       "      <td>0.031250</td>\n",
       "    </tr>\n",
       "    <tr>\n",
       "      <th>2</th>\n",
       "      <td>4</td>\n",
       "      <td>0.303597</td>\n",
       "      <td>0.670078</td>\n",
       "      <td>95.059669</td>\n",
       "      <td>0.041667</td>\n",
       "    </tr>\n",
       "    <tr>\n",
       "      <th>3</th>\n",
       "      <td>5</td>\n",
       "      <td>0.619778</td>\n",
       "      <td>0.529047</td>\n",
       "      <td>93.411530</td>\n",
       "      <td>0.052083</td>\n",
       "    </tr>\n",
       "    <tr>\n",
       "      <th>4</th>\n",
       "      <td>6</td>\n",
       "      <td>0.285274</td>\n",
       "      <td>0.481055</td>\n",
       "      <td>90.513268</td>\n",
       "      <td>0.062500</td>\n",
       "    </tr>\n",
       "    <tr>\n",
       "      <th>5</th>\n",
       "      <td>7</td>\n",
       "      <td>0.206771</td>\n",
       "      <td>0.507484</td>\n",
       "      <td>87.326851</td>\n",
       "      <td>0.072917</td>\n",
       "    </tr>\n",
       "  </tbody>\n",
       "</table>\n",
       "</div>"
      ],
      "text/plain": [
       "   step   d1_loss   d2_loss   gan_loss    epochs\n",
       "1     3  0.255768  0.679484  98.985451  0.031250\n",
       "2     4  0.303597  0.670078  95.059669  0.041667\n",
       "3     5  0.619778  0.529047  93.411530  0.052083\n",
       "4     6  0.285274  0.481055  90.513268  0.062500\n",
       "5     7  0.206771  0.507484  87.326851  0.072917"
      ]
     },
     "execution_count": 93,
     "metadata": {},
     "output_type": "execute_result"
    }
   ],
   "source": [
    "import pandas as pd\n",
    "\n",
    "df = pd.read_csv(r'C:\\Users\\john\\Downloads\\losses_dataset256_100cm_RGB_Cars.log',delimiter = ',')\n",
    "dataset_size = 96\n",
    "df['step'] = pd.to_numeric(df['step'], errors='coerce')\n",
    "df['d1_loss'] = pd.to_numeric(df['d1_loss'], errors='coerce')\n",
    "df['d2_loss'] = pd.to_numeric(df['d2_loss'], errors='coerce')\n",
    "df['gan_loss'] = pd.to_numeric(df['gan_loss'], errors='coerce')\n",
    "df['epochs'] = df['step']/dataset_size\n",
    "del df['date']\n",
    "df = df[df.gan_loss <= 100]\n",
    "print(len(df)+1)\n",
    "df.head()"
   ]
  },
  {
   "cell_type": "code",
   "execution_count": 94,
   "metadata": {
    "ExecuteTime": {
     "end_time": "2021-08-11T17:59:02.165801Z",
     "start_time": "2021-08-11T17:59:01.940958Z"
    }
   },
   "outputs": [
    {
     "data": {
      "text/plain": [
       "<AxesSubplot:title={'center':'1m buffer for cars detection'}, xlabel='epochs'>"
      ]
     },
     "execution_count": 94,
     "metadata": {},
     "output_type": "execute_result"
    },
    {
     "data": {
      "image/png": "[encoded data removed]",
      "text/plain": [
       "<Figure size 432x288 with 1 Axes>"
      ]
     },
     "metadata": {
      "needs_background": "light"
     },
     "output_type": "display_data"
    }
   ],
   "source": [
    "ax = df.plot(x='epochs', y='gan_loss', title=\"1m buffer for vehicles detection\")\n",
    "df.plot(x='epochs', y='d1_loss', ax = ax)\n",
    "df.plot(x='epochs', y='d2_loss', ax = ax)"
   ]
  },
  {
   "cell_type": "code",
   "execution_count": 95,
   "metadata": {
    "ExecuteTime": {
     "end_time": "2021-08-11T19:01:02.549120Z",
     "start_time": "2021-08-11T19:01:02.125935Z"
    }
   },
   "outputs": [
    {
     "name": "stdout",
     "output_type": "stream",
     "text": [
      "9597\n"
     ]
    },
    {
     "data": {
      "text/html": [
       "<div>\n",
       "<style scoped>\n",
       "    .dataframe tbody tr th:only-of-type {\n",
       "        vertical-align: middle;\n",
       "    }\n",
       "\n",
       "    .dataframe tbody tr th {\n",
       "        vertical-align: top;\n",
       "    }\n",
       "\n",
       "    .dataframe thead th {\n",
       "        text-align: right;\n",
       "    }\n",
       "</style>\n",
       "<table border=\"1\" class=\"dataframe\">\n",
       "  <thead>\n",
       "    <tr style=\"text-align: right;\">\n",
       "      <th></th>\n",
       "      <th>step</th>\n",
       "      <th>d1_loss</th>\n",
       "      <th>d2_loss</th>\n",
       "      <th>gan_loss</th>\n",
       "      <th>epochs</th>\n",
       "    </tr>\n",
       "  </thead>\n",
       "  <tbody>\n",
       "    <tr>\n",
       "      <th>0</th>\n",
       "      <td>2</td>\n",
       "      <td>0.483636</td>\n",
       "      <td>0.517901</td>\n",
       "      <td>98.240143</td>\n",
       "      <td>0.020833</td>\n",
       "    </tr>\n",
       "    <tr>\n",
       "      <th>1</th>\n",
       "      <td>3</td>\n",
       "      <td>0.558293</td>\n",
       "      <td>0.598213</td>\n",
       "      <td>95.119232</td>\n",
       "      <td>0.031250</td>\n",
       "    </tr>\n",
       "    <tr>\n",
       "      <th>2</th>\n",
       "      <td>4</td>\n",
       "      <td>0.385708</td>\n",
       "      <td>0.441613</td>\n",
       "      <td>93.035217</td>\n",
       "      <td>0.041667</td>\n",
       "    </tr>\n",
       "    <tr>\n",
       "      <th>3</th>\n",
       "      <td>5</td>\n",
       "      <td>0.306932</td>\n",
       "      <td>0.542850</td>\n",
       "      <td>90.580322</td>\n",
       "      <td>0.052083</td>\n",
       "    </tr>\n",
       "    <tr>\n",
       "      <th>4</th>\n",
       "      <td>6</td>\n",
       "      <td>0.535989</td>\n",
       "      <td>0.350637</td>\n",
       "      <td>90.850433</td>\n",
       "      <td>0.062500</td>\n",
       "    </tr>\n",
       "  </tbody>\n",
       "</table>\n",
       "</div>"
      ],
      "text/plain": [
       "   step   d1_loss   d2_loss   gan_loss    epochs\n",
       "0     2  0.483636  0.517901  98.240143  0.020833\n",
       "1     3  0.558293  0.598213  95.119232  0.031250\n",
       "2     4  0.385708  0.441613  93.035217  0.041667\n",
       "3     5  0.306932  0.542850  90.580322  0.052083\n",
       "4     6  0.535989  0.350637  90.850433  0.062500"
      ]
     },
     "execution_count": 95,
     "metadata": {},
     "output_type": "execute_result"
    }
   ],
   "source": [
    "import pandas as pd\n",
    "\n",
    "df = pd.read_csv(r'C:\\Users\\john\\Downloads\\losses_dataset256_200cm_RGB_Cars.log',delimiter = ',')\n",
    "dataset_size = 96\n",
    "df['step'] = pd.to_numeric(df['step'], errors='coerce')\n",
    "df['d1_loss'] = pd.to_numeric(df['d1_loss'], errors='coerce')\n",
    "df['d2_loss'] = pd.to_numeric(df['d2_loss'], errors='coerce')\n",
    "df['gan_loss'] = pd.to_numeric(df['gan_loss'], errors='coerce')\n",
    "df['epochs'] = df['step']/dataset_size\n",
    "del df['date']\n",
    "df = df[df.gan_loss <= 100]\n",
    "print(len(df)+1)\n",
    "df.head()"
   ]
  },
  {
   "cell_type": "code",
   "execution_count": 96,
   "metadata": {
    "ExecuteTime": {
     "end_time": "2021-08-11T19:01:09.374454Z",
     "start_time": "2021-08-11T19:01:08.950579Z"
    }
   },
   "outputs": [
    {
     "data": {
      "text/plain": [
       "<AxesSubplot:title={'center':'2m buffer for cars detection'}, xlabel='epochs'>"
      ]
     },
     "execution_count": 96,
     "metadata": {},
     "output_type": "execute_result"
    },
    {
     "data": {
      "image/png": "[encoded data removed]",
      "text/plain": [
       "<Figure size 432x288 with 1 Axes>"
      ]
     },
     "metadata": {
      "needs_background": "light"
     },
     "output_type": "display_data"
    }
   ],
   "source": [
    "ax = df.plot(x='epochs', y='gan_loss', title=\"2m buffer for vehicles detection\")\n",
    "df.plot(x='epochs', y='d1_loss', ax = ax)\n",
    "df.plot(x='epochs', y='d2_loss', ax = ax)"
   ]
  },
  {
   "cell_type": "code",
   "execution_count": 113,
   "metadata": {
    "ExecuteTime": {
     "end_time": "2021-08-11T22:11:33.892435Z",
     "start_time": "2021-08-11T22:11:33.847582Z"
    }
   },
   "outputs": [
    {
     "name": "stdout",
     "output_type": "stream",
     "text": [
      "11095\n"
     ]
    }
   ],
   "source": [
    "import pandas as pd\n",
    "\n",
    "df = pd.read_csv(r'C:\\Users\\john\\Downloads\\losses_dataset256_150cm_RGB_Cars.log',delimiter = ',')\n",
    "dataset_size = 111\n",
    "df['step'] = pd.to_numeric(df['step'], errors='coerce')\n",
    "df['d1_loss'] = pd.to_numeric(df['d1_loss'], errors='coerce')\n",
    "df['d2_loss'] = pd.to_numeric(df['d2_loss'], errors='coerce')\n",
    "df['gan_loss'] = pd.to_numeric(df['gan_loss'], errors='coerce')\n",
    "df['epochs'] = df['step']/dataset_size\n",
    "del df['date']\n",
    "#s=df.max()\n",
    "#print('%s, %s' % (s['step'], s['gan_loss']))\n",
    "#df.drop(df.index[df['step'] == 2167.0], inplace = True)\n",
    "#df.drop(df[df['gan_loss'] == df['gan_loss'].max()].index, inplace = True)\n",
    "#print(df[df['gan_loss']==df['gan_loss'].max()])\n",
    "#df = df[df.gan_loss != 263.544556]\n",
    "#df.drop(df.index[2163])\n",
    "df = df[df.gan_loss <= 100]\n",
    "df.head()\n",
    "print(len(df)+1)\n",
    "\n",
    "dfDSM = df[df.epochs >= 90]"
   ]
  },
  {
   "cell_type": "code",
   "execution_count": 87,
   "metadata": {
    "ExecuteTime": {
     "end_time": "2021-08-11T17:49:36.724267Z",
     "start_time": "2021-08-11T17:49:36.461856Z"
    }
   },
   "outputs": [
    {
     "data": {
      "text/plain": [
       "<AxesSubplot:title={'center':'1.5m buffer for cars detection'}, xlabel='epochs'>"
      ]
     },
     "execution_count": 87,
     "metadata": {},
     "output_type": "execute_result"
    },
    {
     "data": {
      "image/png": "[encoded data removed]",
      "text/plain": [
       "<Figure size 432x288 with 1 Axes>"
      ]
     },
     "metadata": {
      "needs_background": "light"
     },
     "output_type": "display_data"
    }
   ],
   "source": [
    "ax = df.plot(x='epochs', y='gan_loss', title=\"1.5m buffer for vehicles detection\")\n",
    "df.plot(x='epochs', y='d1_loss', ax = ax)\n",
    "df.plot(x='epochs', y='d2_loss', ax = ax)"
   ]
  },
  {
   "cell_type": "code",
   "execution_count": 114,
   "metadata": {
    "ExecuteTime": {
     "end_time": "2021-08-11T22:11:40.149283Z",
     "start_time": "2021-08-11T22:11:40.103384Z"
    }
   },
   "outputs": [
    {
     "name": "stdout",
     "output_type": "stream",
     "text": [
      "11399\n"
     ]
    }
   ],
   "source": [
    "import pandas as pd\n",
    "\n",
    "df = pd.read_csv(r'C:\\Users\\john\\Downloads\\losses_dataset256_150cm_RGB_Cars_NoDSM.log',delimiter = ',')\n",
    "dataset_size = 114\n",
    "df['step'] = pd.to_numeric(df['step'], errors='coerce')\n",
    "df['d1_loss'] = pd.to_numeric(df['d1_loss'], errors='coerce')\n",
    "df['d2_loss'] = pd.to_numeric(df['d2_loss'], errors='coerce')\n",
    "df['gan_loss'] = pd.to_numeric(df['gan_loss'], errors='coerce')\n",
    "df['epochs'] = df['step']/dataset_size\n",
    "del df['date']\n",
    "#s=df.max()\n",
    "#print('%s, %s' % (s['step'], s['gan_loss']))\n",
    "#df.drop(df.index[df['step'] == 2167.0], inplace = True)\n",
    "#df.drop(df[df['gan_loss'] == df['gan_loss'].max()].index, inplace = True)\n",
    "#print(df[df['gan_loss']==df['gan_loss'].max()])\n",
    "#df = df[df.gan_loss != 263.544556]\n",
    "#df.drop(df.index[2163])\n",
    "df = df[df.gan_loss <= 100]\n",
    "df.head()\n",
    "print(len(df)+1)\n",
    "dfNoDSM = df[df.epochs >= 90]"
   ]
  },
  {
   "cell_type": "code",
   "execution_count": 98,
   "metadata": {
    "ExecuteTime": {
     "end_time": "2021-08-11T21:50:14.598320Z",
     "start_time": "2021-08-11T21:50:14.268457Z"
    }
   },
   "outputs": [
    {
     "data": {
      "text/plain": [
       "<AxesSubplot:title={'center':'1.5m buffer for cars detection NoDSM Data'}, xlabel='epochs'>"
      ]
     },
     "execution_count": 98,
     "metadata": {},
     "output_type": "execute_result"
    },
    {
     "data": {
      "image/png": "[encoded data removed]",
      "text/plain": [
       "<Figure size 432x288 with 1 Axes>"
      ]
     },
     "metadata": {
      "needs_background": "light"
     },
     "output_type": "display_data"
    }
   ],
   "source": [
    "ax = df.plot(x='epochs', y='gan_loss', title=\"1.5m buffer for vehicle detection NoDSM Data\")\n",
    "df.plot(x='epochs', y='d1_loss', ax = ax)\n",
    "df.plot(x='epochs', y='d2_loss', ax = ax)"
   ]
  },
  {
   "cell_type": "code",
   "execution_count": 115,
   "metadata": {
    "ExecuteTime": {
     "end_time": "2021-08-11T22:11:48.139233Z",
     "start_time": "2021-08-11T22:11:47.688260Z"
    }
   },
   "outputs": [
    {
     "data": {
      "text/plain": [
       "<AxesSubplot:title={'center':'1.5m buffer for cars detection NoDSM Data'}, xlabel='epochs'>"
      ]
     },
     "execution_count": 115,
     "metadata": {},
     "output_type": "execute_result"
    },
    {
     "data": {
      "image/png": "[encoded data removed]",
      "text/plain": [
       "<Figure size 432x288 with 1 Axes>"
      ]
     },
     "metadata": {
      "needs_background": "light"
     },
     "output_type": "display_data"
    },
    {
     "data": {
      "image/png": "[encoded data removed]",
      "text/plain": [
       "<Figure size 432x288 with 1 Axes>"
      ]
     },
     "metadata": {
      "needs_background": "light"
     },
     "output_type": "display_data"
    }
   ],
   "source": [
    "ax = dfDSM.plot(x='epochs', y='gan_loss', title=\"1.5m buffer for veicles detection DSM Data\")\n",
    "dfDSM.plot(x='epochs', y='d1_loss', ax = ax)\n",
    "dfDSM.plot(x='epochs', y='d2_loss', ax = ax)\n",
    "\n",
    "ax = dfNoDSM.plot(x='epochs', y='gan_loss', title=\"1.5m buffer for vehicles detection NoDSM Data\")\n",
    "dfNoDSM.plot(x='epochs', y='d1_loss', ax = ax)\n",
    "dfNoDSM.plot(x='epochs', y='d2_loss', ax = ax)"
   ]
  },
  {
   "cell_type": "code",
   "execution_count": 6,
   "metadata": {
    "ExecuteTime": {
     "end_time": "2021-08-18T01:47:16.086103Z",
     "start_time": "2021-08-18T01:47:15.929666Z"
    }
   },
   "outputs": [
    {
     "name": "stdout",
     "output_type": "stream",
     "text": [
      "64900\n"
     ]
    },
    {
     "data": {
      "text/html": [
       "<div>\n",
       "<style scoped>\n",
       "    .dataframe tbody tr th:only-of-type {\n",
       "        vertical-align: middle;\n",
       "    }\n",
       "\n",
       "    .dataframe tbody tr th {\n",
       "        vertical-align: top;\n",
       "    }\n",
       "\n",
       "    .dataframe thead th {\n",
       "        text-align: right;\n",
       "    }\n",
       "</style>\n",
       "<table border=\"1\" class=\"dataframe\">\n",
       "  <thead>\n",
       "    <tr style=\"text-align: right;\">\n",
       "      <th></th>\n",
       "      <th>step</th>\n",
       "      <th>d1_loss</th>\n",
       "      <th>d2_loss</th>\n",
       "      <th>gan_loss</th>\n",
       "      <th>epochs</th>\n",
       "    </tr>\n",
       "  </thead>\n",
       "  <tbody>\n",
       "    <tr>\n",
       "      <th>0</th>\n",
       "      <td>2</td>\n",
       "      <td>0.393197</td>\n",
       "      <td>0.641593</td>\n",
       "      <td>105.769341</td>\n",
       "      <td>0.003082</td>\n",
       "    </tr>\n",
       "    <tr>\n",
       "      <th>1</th>\n",
       "      <td>3</td>\n",
       "      <td>0.269297</td>\n",
       "      <td>0.415844</td>\n",
       "      <td>103.256760</td>\n",
       "      <td>0.004622</td>\n",
       "    </tr>\n",
       "    <tr>\n",
       "      <th>2</th>\n",
       "      <td>4</td>\n",
       "      <td>0.369220</td>\n",
       "      <td>0.431850</td>\n",
       "      <td>101.753052</td>\n",
       "      <td>0.006163</td>\n",
       "    </tr>\n",
       "    <tr>\n",
       "      <th>3</th>\n",
       "      <td>5</td>\n",
       "      <td>0.562637</td>\n",
       "      <td>0.424581</td>\n",
       "      <td>96.814262</td>\n",
       "      <td>0.007704</td>\n",
       "    </tr>\n",
       "    <tr>\n",
       "      <th>4</th>\n",
       "      <td>6</td>\n",
       "      <td>0.473545</td>\n",
       "      <td>0.501275</td>\n",
       "      <td>96.613350</td>\n",
       "      <td>0.009245</td>\n",
       "    </tr>\n",
       "  </tbody>\n",
       "</table>\n",
       "</div>"
      ],
      "text/plain": [
       "   step   d1_loss   d2_loss    gan_loss    epochs\n",
       "0     2  0.393197  0.641593  105.769341  0.003082\n",
       "1     3  0.269297  0.415844  103.256760  0.004622\n",
       "2     4  0.369220  0.431850  101.753052  0.006163\n",
       "3     5  0.562637  0.424581   96.814262  0.007704\n",
       "4     6  0.473545  0.501275   96.613350  0.009245"
      ]
     },
     "execution_count": 6,
     "metadata": {},
     "output_type": "execute_result"
    }
   ],
   "source": [
    "import pandas as pd\n",
    "\n",
    "df = pd.read_csv(r'C:\\Users\\john\\Downloads\\losses_dataset_Mass_Buildings_256.log',delimiter = ',')\n",
    "dataset_size = 649\n",
    "df['step'] = pd.to_numeric(df['step'], errors='coerce')\n",
    "df['d1_loss'] = pd.to_numeric(df['d1_loss'], errors='coerce')\n",
    "df['d2_loss'] = pd.to_numeric(df['d2_loss'], errors='coerce')\n",
    "df['gan_loss'] = pd.to_numeric(df['gan_loss'], errors='coerce')\n",
    "df['epochs'] = df['step']/dataset_size\n",
    "del df['date']\n",
    "#df = df[df.gan_loss <= 100]\n",
    "print(len(df)+1)\n",
    "df.head()"
   ]
  },
  {
   "cell_type": "code",
   "execution_count": 7,
   "metadata": {
    "ExecuteTime": {
     "end_time": "2021-08-18T01:47:20.556212Z",
     "start_time": "2021-08-18T01:47:20.183880Z"
    }
   },
   "outputs": [
    {
     "data": {
      "text/plain": [
       "<AxesSubplot:title={'center':'Massachussets Building Dataset 256x256'}, xlabel='epochs'>"
      ]
     },
     "execution_count": 7,
     "metadata": {},
     "output_type": "execute_result"
    },
    {
     "data": {
      "image/png": "[encoded data removed]",
      "text/plain": [
       "<Figure size 432x288 with 1 Axes>"
      ]
     },
     "metadata": {
      "needs_background": "light"
     },
     "output_type": "display_data"
    }
   ],
   "source": [
    "ax = df.plot(x='epochs', y='gan_loss', title=\"Massachussets Building Dataset 256x256\")\n",
    "df.plot(x='epochs', y='d1_loss', ax = ax)\n",
    "df.plot(x='epochs', y='d2_loss', ax = ax)"
   ]
  },
  {
   "cell_type": "code",
   "execution_count": 2,
   "metadata": {
    "ExecuteTime": {
     "end_time": "2021-09-01T15:30:24.897033Z",
     "start_time": "2021-09-01T15:30:24.780374Z"
    }
   },
   "outputs": [
    {
     "name": "stdout",
     "output_type": "stream",
     "text": [
      "37100\n"
     ]
    },
    {
     "data": {
      "text/html": [
       "<div>\n",
       "<style scoped>\n",
       "    .dataframe tbody tr th:only-of-type {\n",
       "        vertical-align: middle;\n",
       "    }\n",
       "\n",
       "    .dataframe tbody tr th {\n",
       "        vertical-align: top;\n",
       "    }\n",
       "\n",
       "    .dataframe thead th {\n",
       "        text-align: right;\n",
       "    }\n",
       "</style>\n",
       "<table border=\"1\" class=\"dataframe\">\n",
       "  <thead>\n",
       "    <tr style=\"text-align: right;\">\n",
       "      <th></th>\n",
       "      <th>step</th>\n",
       "      <th>d1_loss</th>\n",
       "      <th>d2_loss</th>\n",
       "      <th>gan_loss</th>\n",
       "      <th>epochs</th>\n",
       "    </tr>\n",
       "  </thead>\n",
       "  <tbody>\n",
       "    <tr>\n",
       "      <th>0</th>\n",
       "      <td>2</td>\n",
       "      <td>0.413711</td>\n",
       "      <td>0.516075</td>\n",
       "      <td>98.500458</td>\n",
       "      <td>0.005391</td>\n",
       "    </tr>\n",
       "    <tr>\n",
       "      <th>1</th>\n",
       "      <td>3</td>\n",
       "      <td>0.421071</td>\n",
       "      <td>0.490693</td>\n",
       "      <td>94.881187</td>\n",
       "      <td>0.008086</td>\n",
       "    </tr>\n",
       "    <tr>\n",
       "      <th>2</th>\n",
       "      <td>4</td>\n",
       "      <td>0.361685</td>\n",
       "      <td>0.534056</td>\n",
       "      <td>93.513832</td>\n",
       "      <td>0.010782</td>\n",
       "    </tr>\n",
       "    <tr>\n",
       "      <th>3</th>\n",
       "      <td>5</td>\n",
       "      <td>0.329199</td>\n",
       "      <td>0.465591</td>\n",
       "      <td>90.694008</td>\n",
       "      <td>0.013477</td>\n",
       "    </tr>\n",
       "    <tr>\n",
       "      <th>4</th>\n",
       "      <td>6</td>\n",
       "      <td>0.279049</td>\n",
       "      <td>0.598442</td>\n",
       "      <td>86.692703</td>\n",
       "      <td>0.016173</td>\n",
       "    </tr>\n",
       "  </tbody>\n",
       "</table>\n",
       "</div>"
      ],
      "text/plain": [
       "   step   d1_loss   d2_loss   gan_loss    epochs\n",
       "0     2  0.413711  0.516075  98.500458  0.005391\n",
       "1     3  0.421071  0.490693  94.881187  0.008086\n",
       "2     4  0.361685  0.534056  93.513832  0.010782\n",
       "3     5  0.329199  0.465591  90.694008  0.013477\n",
       "4     6  0.279049  0.598442  86.692703  0.016173"
      ]
     },
     "execution_count": 2,
     "metadata": {},
     "output_type": "execute_result"
    }
   ],
   "source": [
    "import pandas as pd\n",
    "\n",
    "df = pd.read_csv(r'C:\\Users\\john\\Downloads\\losses_dataset256_Fire_spots.log',delimiter = ',')\n",
    "dataset_size = 371\n",
    "df['step'] = pd.to_numeric(df['step'], errors='coerce')\n",
    "df['d1_loss'] = pd.to_numeric(df['d1_loss'], errors='coerce')\n",
    "df['d2_loss'] = pd.to_numeric(df['d2_loss'], errors='coerce')\n",
    "df['gan_loss'] = pd.to_numeric(df['gan_loss'], errors='coerce')\n",
    "df['epochs'] = df['step']/dataset_size\n",
    "del df['date']\n",
    "#df = df[df.gan_loss <= 100]\n",
    "print(len(df)+1)\n",
    "df.head()"
   ]
  },
  {
   "cell_type": "code",
   "execution_count": 4,
   "metadata": {
    "ExecuteTime": {
     "end_time": "2021-09-01T15:34:50.014090Z",
     "start_time": "2021-09-01T15:34:49.686911Z"
    }
   },
   "outputs": [
    {
     "data": {
      "text/plain": [
       "<AxesSubplot:title={'center':'Fire_spots Dataset256x256'}, xlabel='epochs'>"
      ]
     },
     "execution_count": 4,
     "metadata": {},
     "output_type": "execute_result"
    },
    {
     "data": {
      "image/png": "[encoded data removed]",
      "text/plain": [
       "<Figure size 432x288 with 1 Axes>"
      ]
     },
     "metadata": {
      "needs_background": "light"
     },
     "output_type": "display_data"
    }
   ],
   "source": [
    "ax = df.plot(x='epochs', y='gan_loss', title=\"Fire_spots Dataset256x256\")\n",
    "df.plot(x='epochs', y='d1_loss', ax = ax)\n",
    "df.plot(x='epochs', y='d2_loss', ax = ax)"
   ]
  },
  {
   "cell_type": "code",
   "execution_count": 5,
   "metadata": {
    "ExecuteTime": {
     "end_time": "2021-09-13T16:19:06.237233Z",
     "start_time": "2021-09-13T16:19:06.019253Z"
    }
   },
   "outputs": [
    {
     "name": "stdout",
     "output_type": "stream",
     "text": [
      "41054\n"
     ]
    },
    {
     "data": {
      "text/html": [
       "<div>\n",
       "<style scoped>\n",
       "    .dataframe tbody tr th:only-of-type {\n",
       "        vertical-align: middle;\n",
       "    }\n",
       "\n",
       "    .dataframe tbody tr th {\n",
       "        vertical-align: top;\n",
       "    }\n",
       "\n",
       "    .dataframe thead th {\n",
       "        text-align: right;\n",
       "    }\n",
       "</style>\n",
       "<table border=\"1\" class=\"dataframe\">\n",
       "  <thead>\n",
       "    <tr style=\"text-align: right;\">\n",
       "      <th></th>\n",
       "      <th>step</th>\n",
       "      <th>d1_loss</th>\n",
       "      <th>d2_loss</th>\n",
       "      <th>gan_loss</th>\n",
       "      <th>g_loss</th>\n",
       "      <th>epochs</th>\n",
       "    </tr>\n",
       "  </thead>\n",
       "  <tbody>\n",
       "    <tr>\n",
       "      <th>0</th>\n",
       "      <td>2</td>\n",
       "      <td>0.425677</td>\n",
       "      <td>0.870104</td>\n",
       "      <td>91.973480</td>\n",
       "      <td>91.973480</td>\n",
       "      <td>0.004396</td>\n",
       "    </tr>\n",
       "    <tr>\n",
       "      <th>1</th>\n",
       "      <td>3</td>\n",
       "      <td>0.541712</td>\n",
       "      <td>0.549731</td>\n",
       "      <td>90.867470</td>\n",
       "      <td>90.867470</td>\n",
       "      <td>0.006593</td>\n",
       "    </tr>\n",
       "    <tr>\n",
       "      <th>2</th>\n",
       "      <td>4</td>\n",
       "      <td>0.508241</td>\n",
       "      <td>0.562714</td>\n",
       "      <td>87.832962</td>\n",
       "      <td>87.832962</td>\n",
       "      <td>0.008791</td>\n",
       "    </tr>\n",
       "    <tr>\n",
       "      <th>3</th>\n",
       "      <td>5</td>\n",
       "      <td>0.416472</td>\n",
       "      <td>0.484179</td>\n",
       "      <td>86.289978</td>\n",
       "      <td>86.289978</td>\n",
       "      <td>0.010989</td>\n",
       "    </tr>\n",
       "    <tr>\n",
       "      <th>4</th>\n",
       "      <td>6</td>\n",
       "      <td>0.479254</td>\n",
       "      <td>0.489187</td>\n",
       "      <td>83.605255</td>\n",
       "      <td>83.605255</td>\n",
       "      <td>0.013187</td>\n",
       "    </tr>\n",
       "  </tbody>\n",
       "</table>\n",
       "</div>"
      ],
      "text/plain": [
       "   step   d1_loss   d2_loss   gan_loss     g_loss    epochs\n",
       "0     2  0.425677  0.870104  91.973480  91.973480  0.004396\n",
       "1     3  0.541712  0.549731  90.867470  90.867470  0.006593\n",
       "2     4  0.508241  0.562714  87.832962  87.832962  0.008791\n",
       "3     5  0.416472  0.484179  86.289978  86.289978  0.010989\n",
       "4     6  0.479254  0.489187  83.605255  83.605255  0.013187"
      ]
     },
     "execution_count": 5,
     "metadata": {},
     "output_type": "execute_result"
    }
   ],
   "source": [
    "import pandas as pd\n",
    "\n",
    "df = pd.read_csv(r'C:\\Users\\john\\Downloads\\losses_dataset256_Roads_overlap20%.log',delimiter = ',')\n",
    "dataset_size = 455\n",
    "df['step'] = pd.to_numeric(df['step'], errors='coerce')\n",
    "df['d1_loss'] = pd.to_numeric(df['d1_loss'], errors='coerce')\n",
    "df['d2_loss'] = pd.to_numeric(df['d2_loss'], errors='coerce')\n",
    "df['g_loss'] = pd.to_numeric(df['gan_loss'], errors='coerce')\n",
    "df['epochs'] = df['step']/dataset_size\n",
    "del df['date']\n",
    "#df = df[df.gan_loss <= 100]\n",
    "print(len(df)+1)\n",
    "df.head()"
   ]
  },
  {
   "cell_type": "code",
   "execution_count": 6,
   "metadata": {
    "ExecuteTime": {
     "end_time": "2021-09-13T16:19:37.334136Z",
     "start_time": "2021-09-13T16:19:36.789149Z"
    }
   },
   "outputs": [
    {
     "data": {
      "text/plain": [
       "<AxesSubplot:title={'center':'Dataset256_DSM_Overlap20%_Roads'}, xlabel='epochs'>"
      ]
     },
     "execution_count": 6,
     "metadata": {},
     "output_type": "execute_result"
    },
    {
     "data": {
      "image/png": "[encoded data removed]",
      "text/plain": [
       "<Figure size 432x288 with 1 Axes>"
      ]
     },
     "metadata": {
      "needs_background": "light"
     },
     "output_type": "display_data"
    }
   ],
   "source": [
    "ax = df.plot(x='epochs', y='g_loss', title=\"Dataset256_DSM_Overlap20%_Roads\")\n",
    "df.plot(x='epochs', y='d1_loss', ax = ax)\n",
    "df.plot(x='epochs', y='d2_loss', ax = ax)"
   ]
  },
  {
   "cell_type": "code",
   "execution_count": 3,
   "metadata": {
    "ExecuteTime": {
     "end_time": "2021-09-21T10:58:05.954186Z",
     "start_time": "2021-09-21T10:58:05.896339Z"
    }
   },
   "outputs": [
    {
     "name": "stdout",
     "output_type": "stream",
     "text": [
      "10000\n"
     ]
    },
    {
     "data": {
      "text/html": [
       "<div>\n",
       "<style scoped>\n",
       "    .dataframe tbody tr th:only-of-type {\n",
       "        vertical-align: middle;\n",
       "    }\n",
       "\n",
       "    .dataframe tbody tr th {\n",
       "        vertical-align: top;\n",
       "    }\n",
       "\n",
       "    .dataframe thead th {\n",
       "        text-align: right;\n",
       "    }\n",
       "</style>\n",
       "<table border=\"1\" class=\"dataframe\">\n",
       "  <thead>\n",
       "    <tr style=\"text-align: right;\">\n",
       "      <th></th>\n",
       "      <th>step</th>\n",
       "      <th>d1_loss</th>\n",
       "      <th>d2_loss</th>\n",
       "      <th>g_loss</th>\n",
       "      <th>epochs</th>\n",
       "    </tr>\n",
       "  </thead>\n",
       "  <tbody>\n",
       "    <tr>\n",
       "      <th>0</th>\n",
       "      <td>2</td>\n",
       "      <td>0.550088</td>\n",
       "      <td>0.647144</td>\n",
       "      <td>99.498695</td>\n",
       "      <td>0.02</td>\n",
       "    </tr>\n",
       "    <tr>\n",
       "      <th>1</th>\n",
       "      <td>3</td>\n",
       "      <td>0.395553</td>\n",
       "      <td>0.698157</td>\n",
       "      <td>96.912361</td>\n",
       "      <td>0.03</td>\n",
       "    </tr>\n",
       "    <tr>\n",
       "      <th>2</th>\n",
       "      <td>4</td>\n",
       "      <td>0.300282</td>\n",
       "      <td>0.529754</td>\n",
       "      <td>95.171638</td>\n",
       "      <td>0.04</td>\n",
       "    </tr>\n",
       "    <tr>\n",
       "      <th>3</th>\n",
       "      <td>5</td>\n",
       "      <td>0.405920</td>\n",
       "      <td>0.509737</td>\n",
       "      <td>93.359497</td>\n",
       "      <td>0.05</td>\n",
       "    </tr>\n",
       "    <tr>\n",
       "      <th>4</th>\n",
       "      <td>6</td>\n",
       "      <td>0.333671</td>\n",
       "      <td>0.399174</td>\n",
       "      <td>89.697662</td>\n",
       "      <td>0.06</td>\n",
       "    </tr>\n",
       "  </tbody>\n",
       "</table>\n",
       "</div>"
      ],
      "text/plain": [
       "   step   d1_loss   d2_loss     g_loss  epochs\n",
       "0     2  0.550088  0.647144  99.498695    0.02\n",
       "1     3  0.395553  0.698157  96.912361    0.03\n",
       "2     4  0.300282  0.529754  95.171638    0.04\n",
       "3     5  0.405920  0.509737  93.359497    0.05\n",
       "4     6  0.333671  0.399174  89.697662    0.06"
      ]
     },
     "execution_count": 3,
     "metadata": {},
     "output_type": "execute_result"
    }
   ],
   "source": [
    "import pandas as pd\n",
    "\n",
    "df = pd.read_csv(r'C:\\Users\\john\\Downloads\\losses_dataset_dataset512_DSM_1m_RGB_NoAugmentation.log',delimiter = ',')\n",
    "dataset_size = 100\n",
    "df['step'] = pd.to_numeric(df['step'], errors='coerce')\n",
    "df['d1_loss'] = pd.to_numeric(df['d1_loss'], errors='coerce')\n",
    "df['d2_loss'] = pd.to_numeric(df['d2_loss'], errors='coerce')\n",
    "df['g_loss'] = pd.to_numeric(df['g_loss'], errors='coerce')\n",
    "df['epochs'] = df['step']/dataset_size\n",
    "del df['date']\n",
    "#df = df[df.gan_loss <= 100]\n",
    "print(len(df)+1)\n",
    "df.head()"
   ]
  },
  {
   "cell_type": "code",
   "execution_count": 5,
   "metadata": {
    "ExecuteTime": {
     "end_time": "2021-09-21T10:59:40.213872Z",
     "start_time": "2021-09-21T10:59:39.702415Z"
    }
   },
   "outputs": [
    {
     "data": {
      "text/plain": [
       "<AxesSubplot:title={'center':'Dataset512_DSM_RGB_Roads_100Ex_No Augmentation'}, xlabel='epochs'>"
      ]
     },
     "execution_count": 5,
     "metadata": {},
     "output_type": "execute_result"
    },
    {
     "data": {
      "image/png": "[encoded data removed]",
      "text/plain": [
       "<Figure size 432x288 with 1 Axes>"
      ]
     },
     "metadata": {
      "needs_background": "light"
     },
     "output_type": "display_data"
    }
   ],
   "source": [
    "ax = df.plot(x='epochs', y='g_loss', title=\"Dataset512_DSM_RGB_Roads_100Ex_No Augmentation\")\n",
    "df.plot(x='epochs', y='d1_loss', ax = ax)\n",
    "df.plot(x='epochs', y='d2_loss', ax = ax)"
   ]
  },
  {
   "cell_type": "code",
   "execution_count": 10,
   "metadata": {
    "ExecuteTime": {
     "end_time": "2021-09-21T11:15:44.234552Z",
     "start_time": "2021-09-21T11:15:44.118867Z"
    }
   },
   "outputs": [
    {
     "name": "stdout",
     "output_type": "stream",
     "text": [
      "41500\n"
     ]
    },
    {
     "data": {
      "text/html": [
       "<div>\n",
       "<style scoped>\n",
       "    .dataframe tbody tr th:only-of-type {\n",
       "        vertical-align: middle;\n",
       "    }\n",
       "\n",
       "    .dataframe tbody tr th {\n",
       "        vertical-align: top;\n",
       "    }\n",
       "\n",
       "    .dataframe thead th {\n",
       "        text-align: right;\n",
       "    }\n",
       "</style>\n",
       "<table border=\"1\" class=\"dataframe\">\n",
       "  <thead>\n",
       "    <tr style=\"text-align: right;\">\n",
       "      <th></th>\n",
       "      <th>step</th>\n",
       "      <th>d1_loss</th>\n",
       "      <th>d2_loss</th>\n",
       "      <th>g_loss</th>\n",
       "      <th>epochs</th>\n",
       "    </tr>\n",
       "  </thead>\n",
       "  <tbody>\n",
       "    <tr>\n",
       "      <th>0</th>\n",
       "      <td>2</td>\n",
       "      <td>0.387588</td>\n",
       "      <td>0.682101</td>\n",
       "      <td>103.383102</td>\n",
       "      <td>0.004819</td>\n",
       "    </tr>\n",
       "    <tr>\n",
       "      <th>1</th>\n",
       "      <td>3</td>\n",
       "      <td>0.462488</td>\n",
       "      <td>0.543221</td>\n",
       "      <td>100.349670</td>\n",
       "      <td>0.007229</td>\n",
       "    </tr>\n",
       "    <tr>\n",
       "      <th>2</th>\n",
       "      <td>4</td>\n",
       "      <td>0.718926</td>\n",
       "      <td>0.522018</td>\n",
       "      <td>98.066040</td>\n",
       "      <td>0.009639</td>\n",
       "    </tr>\n",
       "    <tr>\n",
       "      <th>3</th>\n",
       "      <td>5</td>\n",
       "      <td>0.471978</td>\n",
       "      <td>0.574881</td>\n",
       "      <td>95.867119</td>\n",
       "      <td>0.012048</td>\n",
       "    </tr>\n",
       "    <tr>\n",
       "      <th>4</th>\n",
       "      <td>6</td>\n",
       "      <td>0.474692</td>\n",
       "      <td>0.536828</td>\n",
       "      <td>92.575455</td>\n",
       "      <td>0.014458</td>\n",
       "    </tr>\n",
       "  </tbody>\n",
       "</table>\n",
       "</div>"
      ],
      "text/plain": [
       "   step   d1_loss   d2_loss      g_loss    epochs\n",
       "0     2  0.387588  0.682101  103.383102  0.004819\n",
       "1     3  0.462488  0.543221  100.349670  0.007229\n",
       "2     4  0.718926  0.522018   98.066040  0.009639\n",
       "3     5  0.471978  0.574881   95.867119  0.012048\n",
       "4     6  0.474692  0.536828   92.575455  0.014458"
      ]
     },
     "execution_count": 10,
     "metadata": {},
     "output_type": "execute_result"
    }
   ],
   "source": [
    "import pandas as pd\n",
    "\n",
    "df = pd.read_csv(r'C:\\Users\\john\\Downloads\\Automap\\Training_losses\\losses_dataset_dataset512_DSM_1m_RGB_400Ex_Augmentation.log',delimiter = ',')\n",
    "dataset_size = 415\n",
    "df['step'] = pd.to_numeric(df['step'], errors='coerce')\n",
    "df['d1_loss'] = pd.to_numeric(df['d1_loss'], errors='coerce')\n",
    "df['d2_loss'] = pd.to_numeric(df['d2_loss'], errors='coerce')\n",
    "df['g_loss'] = pd.to_numeric(df['g_loss'], errors='coerce')\n",
    "df['epochs'] = df['step']/dataset_size\n",
    "del df['date']\n",
    "#df = df[df.gan_loss <= 100]\n",
    "print(len(df)+1)\n",
    "df.head()"
   ]
  },
  {
   "cell_type": "code",
   "execution_count": 11,
   "metadata": {
    "ExecuteTime": {
     "end_time": "2021-09-21T11:15:55.526282Z",
     "start_time": "2021-09-21T11:15:54.998121Z"
    }
   },
   "outputs": [
    {
     "data": {
      "text/plain": [
       "<AxesSubplot:title={'center':'Dataset512_DSM_RGB_Roads_400Ex_Augmentation'}, xlabel='epochs'>"
      ]
     },
     "execution_count": 11,
     "metadata": {},
     "output_type": "execute_result"
    },
    {
     "data": {
      "image/png": "[encoded data removed]",
      "text/plain": [
       "<Figure size 432x288 with 1 Axes>"
      ]
     },
     "metadata": {
      "needs_background": "light"
     },
     "output_type": "display_data"
    }
   ],
   "source": [
    "ax = df.plot(x='epochs', y='g_loss', title=\"Dataset512_DSM_RGB_Roads_400Ex_Augmentation\")\n",
    "df.plot(x='epochs', y='d1_loss', ax = ax)\n",
    "df.plot(x='epochs', y='d2_loss', ax = ax)"
   ]
  },
  {
   "cell_type": "code",
   "execution_count": 15,
   "metadata": {
    "ExecuteTime": {
     "end_time": "2021-09-21T11:24:13.961900Z",
     "start_time": "2021-09-21T11:24:13.870147Z"
    }
   },
   "outputs": [
    {
     "name": "stdout",
     "output_type": "stream",
     "text": [
      "26000\n"
     ]
    },
    {
     "data": {
      "text/html": [
       "<div>\n",
       "<style scoped>\n",
       "    .dataframe tbody tr th:only-of-type {\n",
       "        vertical-align: middle;\n",
       "    }\n",
       "\n",
       "    .dataframe tbody tr th {\n",
       "        vertical-align: top;\n",
       "    }\n",
       "\n",
       "    .dataframe thead th {\n",
       "        text-align: right;\n",
       "    }\n",
       "</style>\n",
       "<table border=\"1\" class=\"dataframe\">\n",
       "  <thead>\n",
       "    <tr style=\"text-align: right;\">\n",
       "      <th></th>\n",
       "      <th>step</th>\n",
       "      <th>d1_loss</th>\n",
       "      <th>d2_loss</th>\n",
       "      <th>g_loss</th>\n",
       "      <th>epochs</th>\n",
       "    </tr>\n",
       "  </thead>\n",
       "  <tbody>\n",
       "    <tr>\n",
       "      <th>0</th>\n",
       "      <td>2</td>\n",
       "      <td>0.511149</td>\n",
       "      <td>0.886253</td>\n",
       "      <td>98.671112</td>\n",
       "      <td>0.007692</td>\n",
       "    </tr>\n",
       "    <tr>\n",
       "      <th>1</th>\n",
       "      <td>3</td>\n",
       "      <td>0.727169</td>\n",
       "      <td>0.659538</td>\n",
       "      <td>99.857384</td>\n",
       "      <td>0.011538</td>\n",
       "    </tr>\n",
       "    <tr>\n",
       "      <th>2</th>\n",
       "      <td>4</td>\n",
       "      <td>0.690588</td>\n",
       "      <td>0.737086</td>\n",
       "      <td>97.738220</td>\n",
       "      <td>0.015385</td>\n",
       "    </tr>\n",
       "    <tr>\n",
       "      <th>3</th>\n",
       "      <td>5</td>\n",
       "      <td>0.663237</td>\n",
       "      <td>0.496676</td>\n",
       "      <td>94.744720</td>\n",
       "      <td>0.019231</td>\n",
       "    </tr>\n",
       "    <tr>\n",
       "      <th>4</th>\n",
       "      <td>6</td>\n",
       "      <td>0.475737</td>\n",
       "      <td>0.608093</td>\n",
       "      <td>96.240158</td>\n",
       "      <td>0.023077</td>\n",
       "    </tr>\n",
       "  </tbody>\n",
       "</table>\n",
       "</div>"
      ],
      "text/plain": [
       "   step   d1_loss   d2_loss     g_loss    epochs\n",
       "0     2  0.511149  0.886253  98.671112  0.007692\n",
       "1     3  0.727169  0.659538  99.857384  0.011538\n",
       "2     4  0.690588  0.737086  97.738220  0.015385\n",
       "3     5  0.663237  0.496676  94.744720  0.019231\n",
       "4     6  0.475737  0.608093  96.240158  0.023077"
      ]
     },
     "execution_count": 15,
     "metadata": {},
     "output_type": "execute_result"
    }
   ],
   "source": [
    "import pandas as pd\n",
    "\n",
    "df = pd.read_csv(r'C:\\Users\\john\\Downloads\\Automap\\Training_losses\\losses_dataset_256_MultiBuffer6300_FColorRGDSM.log',delimiter = ',')\n",
    "dataset_size = 260\n",
    "df['step'] = pd.to_numeric(df['step'], errors='coerce')\n",
    "df['d1_loss'] = pd.to_numeric(df['d1_loss'], errors='coerce')\n",
    "df['d2_loss'] = pd.to_numeric(df['d2_loss'], errors='coerce')\n",
    "df['g_loss'] = pd.to_numeric(df['g_loss'], errors='coerce')\n",
    "df['epochs'] = df['step']/dataset_size\n",
    "del df['date']\n",
    "#df = df[df.gan_loss <= 100]\n",
    "print(len(df)+1)\n",
    "df.head()"
   ]
  },
  {
   "cell_type": "code",
   "execution_count": 18,
   "metadata": {
    "ExecuteTime": {
     "end_time": "2021-09-21T11:27:27.229248Z",
     "start_time": "2021-09-21T11:27:26.936299Z"
    }
   },
   "outputs": [
    {
     "data": {
      "text/plain": [
       "<AxesSubplot:title={'center':'256_RGDSM_Roads_200Ex_MultiRingBuffer'}, xlabel='epochs'>"
      ]
     },
     "execution_count": 18,
     "metadata": {},
     "output_type": "execute_result"
    },
    {
     "data": {
      "image/png": "[encoded data removed]",
      "text/plain": [
       "<Figure size 432x288 with 1 Axes>"
      ]
     },
     "metadata": {
      "needs_background": "light"
     },
     "output_type": "display_data"
    }
   ],
   "source": [
    "ax = df.plot(x='epochs', y='g_loss', title=\"256_RGDSM_Roads_200Ex_MultiRingBuffer6300\")\n",
    "df.plot(x='epochs', y='d1_loss', ax = ax)\n",
    "df.plot(x='epochs', y='d2_loss', ax = ax)"
   ]
  },
  {
   "cell_type": "code",
   "execution_count": 21,
   "metadata": {
    "ExecuteTime": {
     "end_time": "2021-09-21T11:32:08.655967Z",
     "start_time": "2021-09-21T11:32:08.546538Z"
    }
   },
   "outputs": [
    {
     "name": "stdout",
     "output_type": "stream",
     "text": [
      "29000\n"
     ]
    },
    {
     "data": {
      "text/html": [
       "<div>\n",
       "<style scoped>\n",
       "    .dataframe tbody tr th:only-of-type {\n",
       "        vertical-align: middle;\n",
       "    }\n",
       "\n",
       "    .dataframe tbody tr th {\n",
       "        vertical-align: top;\n",
       "    }\n",
       "\n",
       "    .dataframe thead th {\n",
       "        text-align: right;\n",
       "    }\n",
       "</style>\n",
       "<table border=\"1\" class=\"dataframe\">\n",
       "  <thead>\n",
       "    <tr style=\"text-align: right;\">\n",
       "      <th></th>\n",
       "      <th>step</th>\n",
       "      <th>d1_loss</th>\n",
       "      <th>d2_loss</th>\n",
       "      <th>g_loss</th>\n",
       "      <th>epochs</th>\n",
       "    </tr>\n",
       "  </thead>\n",
       "  <tbody>\n",
       "    <tr>\n",
       "      <th>0</th>\n",
       "      <td>2</td>\n",
       "      <td>0.596552</td>\n",
       "      <td>0.656454</td>\n",
       "      <td>96.252083</td>\n",
       "      <td>0.006897</td>\n",
       "    </tr>\n",
       "    <tr>\n",
       "      <th>1</th>\n",
       "      <td>3</td>\n",
       "      <td>0.634977</td>\n",
       "      <td>0.444370</td>\n",
       "      <td>93.759003</td>\n",
       "      <td>0.010345</td>\n",
       "    </tr>\n",
       "    <tr>\n",
       "      <th>2</th>\n",
       "      <td>4</td>\n",
       "      <td>0.738074</td>\n",
       "      <td>0.514287</td>\n",
       "      <td>91.697777</td>\n",
       "      <td>0.013793</td>\n",
       "    </tr>\n",
       "    <tr>\n",
       "      <th>3</th>\n",
       "      <td>5</td>\n",
       "      <td>0.623120</td>\n",
       "      <td>0.573836</td>\n",
       "      <td>89.058060</td>\n",
       "      <td>0.017241</td>\n",
       "    </tr>\n",
       "    <tr>\n",
       "      <th>4</th>\n",
       "      <td>6</td>\n",
       "      <td>0.501579</td>\n",
       "      <td>0.849532</td>\n",
       "      <td>86.971741</td>\n",
       "      <td>0.020690</td>\n",
       "    </tr>\n",
       "  </tbody>\n",
       "</table>\n",
       "</div>"
      ],
      "text/plain": [
       "   step   d1_loss   d2_loss     g_loss    epochs\n",
       "0     2  0.596552  0.656454  96.252083  0.006897\n",
       "1     3  0.634977  0.444370  93.759003  0.010345\n",
       "2     4  0.738074  0.514287  91.697777  0.013793\n",
       "3     5  0.623120  0.573836  89.058060  0.017241\n",
       "4     6  0.501579  0.849532  86.971741  0.020690"
      ]
     },
     "execution_count": 21,
     "metadata": {},
     "output_type": "execute_result"
    }
   ],
   "source": [
    "import pandas as pd\n",
    "\n",
    "df = pd.read_csv(r'C:\\Users\\john\\Downloads\\Automap\\Training_losses\\losses_dataset256_MultiBuffer10150_FColorRGDSM.log',delimiter = ',')\n",
    "dataset_size = 290\n",
    "df['step'] = pd.to_numeric(df['step'], errors='coerce')\n",
    "df['d1_loss'] = pd.to_numeric(df['d1_loss'], errors='coerce')\n",
    "df['d2_loss'] = pd.to_numeric(df['d2_loss'], errors='coerce')\n",
    "df['g_loss'] = pd.to_numeric(df['g_loss'], errors='coerce')\n",
    "df['epochs'] = df['step']/dataset_size\n",
    "del df['date']\n",
    "#df = df[df.gan_loss <= 100]\n",
    "print(len(df)+1)\n",
    "df.head()"
   ]
  },
  {
   "cell_type": "code",
   "execution_count": 23,
   "metadata": {
    "ExecuteTime": {
     "end_time": "2021-09-21T11:32:35.535010Z",
     "start_time": "2021-09-21T11:32:35.248424Z"
    }
   },
   "outputs": [
    {
     "data": {
      "text/plain": [
       "<AxesSubplot:title={'center':'256_RGDSM_Roads_250Ex_MultiRingBuffer10150'}, xlabel='epochs'>"
      ]
     },
     "execution_count": 23,
     "metadata": {},
     "output_type": "execute_result"
    },
    {
     "data": {
      "image/png": "[encoded data removed]",
      "text/plain": [
       "<Figure size 432x288 with 1 Axes>"
      ]
     },
     "metadata": {
      "needs_background": "light"
     },
     "output_type": "display_data"
    }
   ],
   "source": [
    "ax = df.plot(x='epochs', y='g_loss', title=\"256_RGDSM_Roads_250Ex_MultiRingBuffer10150\")\n",
    "df.plot(x='epochs', y='d1_loss', ax = ax)\n",
    "df.plot(x='epochs', y='d2_loss', ax = ax)"
   ]
  },
  {
   "cell_type": "code",
   "execution_count": 25,
   "metadata": {
    "ExecuteTime": {
     "end_time": "2021-09-21T11:37:31.205785Z",
     "start_time": "2021-09-21T11:37:31.099073Z"
    }
   },
   "outputs": [
    {
     "name": "stdout",
     "output_type": "stream",
     "text": [
      "27700\n"
     ]
    },
    {
     "data": {
      "text/html": [
       "<div>\n",
       "<style scoped>\n",
       "    .dataframe tbody tr th:only-of-type {\n",
       "        vertical-align: middle;\n",
       "    }\n",
       "\n",
       "    .dataframe tbody tr th {\n",
       "        vertical-align: top;\n",
       "    }\n",
       "\n",
       "    .dataframe thead th {\n",
       "        text-align: right;\n",
       "    }\n",
       "</style>\n",
       "<table border=\"1\" class=\"dataframe\">\n",
       "  <thead>\n",
       "    <tr style=\"text-align: right;\">\n",
       "      <th></th>\n",
       "      <th>step</th>\n",
       "      <th>d1_loss</th>\n",
       "      <th>d2_loss</th>\n",
       "      <th>g_loss</th>\n",
       "      <th>epochs</th>\n",
       "    </tr>\n",
       "  </thead>\n",
       "  <tbody>\n",
       "    <tr>\n",
       "      <th>0</th>\n",
       "      <td>2</td>\n",
       "      <td>0.899840</td>\n",
       "      <td>0.474998</td>\n",
       "      <td>95.421837</td>\n",
       "      <td>0.007220</td>\n",
       "    </tr>\n",
       "    <tr>\n",
       "      <th>1</th>\n",
       "      <td>3</td>\n",
       "      <td>0.348300</td>\n",
       "      <td>0.589363</td>\n",
       "      <td>92.926979</td>\n",
       "      <td>0.010830</td>\n",
       "    </tr>\n",
       "    <tr>\n",
       "      <th>2</th>\n",
       "      <td>4</td>\n",
       "      <td>0.444830</td>\n",
       "      <td>0.593938</td>\n",
       "      <td>90.242645</td>\n",
       "      <td>0.014440</td>\n",
       "    </tr>\n",
       "    <tr>\n",
       "      <th>3</th>\n",
       "      <td>5</td>\n",
       "      <td>0.339246</td>\n",
       "      <td>1.246949</td>\n",
       "      <td>87.963112</td>\n",
       "      <td>0.018051</td>\n",
       "    </tr>\n",
       "    <tr>\n",
       "      <th>4</th>\n",
       "      <td>6</td>\n",
       "      <td>0.452200</td>\n",
       "      <td>0.568495</td>\n",
       "      <td>84.720596</td>\n",
       "      <td>0.021661</td>\n",
       "    </tr>\n",
       "  </tbody>\n",
       "</table>\n",
       "</div>"
      ],
      "text/plain": [
       "   step   d1_loss   d2_loss     g_loss    epochs\n",
       "0     2  0.899840  0.474998  95.421837  0.007220\n",
       "1     3  0.348300  0.589363  92.926979  0.010830\n",
       "2     4  0.444830  0.593938  90.242645  0.014440\n",
       "3     5  0.339246  1.246949  87.963112  0.018051\n",
       "4     6  0.452200  0.568495  84.720596  0.021661"
      ]
     },
     "execution_count": 25,
     "metadata": {},
     "output_type": "execute_result"
    }
   ],
   "source": [
    "import pandas as pd\n",
    "\n",
    "df = pd.read_csv(r'C:\\Users\\john\\Downloads\\Automap\\Training_losses\\losses_dataset256_50cm_DSM_RGB_only.log',delimiter = ',')\n",
    "dataset_size = 277\n",
    "df['step'] = pd.to_numeric(df['step'], errors='coerce')\n",
    "df['d1_loss'] = pd.to_numeric(df['d1_loss'], errors='coerce')\n",
    "df['d2_loss'] = pd.to_numeric(df['d2_loss'], errors='coerce')\n",
    "df['g_loss'] = pd.to_numeric(df['g_loss'], errors='coerce')\n",
    "df['epochs'] = df['step']/dataset_size\n",
    "del df['date']\n",
    "#df = df[df.gan_loss <= 100]\n",
    "print(len(df)+1)\n",
    "df.head()"
   ]
  },
  {
   "cell_type": "code",
   "execution_count": 27,
   "metadata": {
    "ExecuteTime": {
     "end_time": "2021-09-21T11:38:41.011373Z",
     "start_time": "2021-09-21T11:38:40.696200Z"
    }
   },
   "outputs": [
    {
     "data": {
      "text/plain": [
       "<AxesSubplot:title={'center':'256_DSM_Only_Roads_250Ex_50cm'}, xlabel='epochs'>"
      ]
     },
     "execution_count": 27,
     "metadata": {},
     "output_type": "execute_result"
    },
    {
     "data": {
      "image/png": "[encoded data removed]",
      "text/plain": [
       "<Figure size 432x288 with 1 Axes>"
      ]
     },
     "metadata": {
      "needs_background": "light"
     },
     "output_type": "display_data"
    }
   ],
   "source": [
    "ax = df.plot(x='epochs', y='g_loss', title=\"256_DSM_Only_Roads_250Ex_50cm\")\n",
    "df.plot(x='epochs', y='d1_loss', ax = ax)\n",
    "df.plot(x='epochs', y='d2_loss', ax = ax)"
   ]
  }
 ],
 "metadata": {
  "kernelspec": {
   "display_name": "Python 3",
   "language": "python",
   "name": "python3"
  },
  "language_info": {
   "codemirror_mode": {
    "name": "ipython",
    "version": 3
   },
   "file_extension": ".py",
   "mimetype": "text/x-python",
   "name": "python",
   "nbconvert_exporter": "python",
   "pygments_lexer": "ipython3",
   "version": "3.7.4"
  },
  "latex_envs": {
   "LaTeX_envs_menu_present": true,
   "autoclose": false,
   "autocomplete": true,
   "bibliofile": "biblio.bib",
   "cite_by": "apalike",
   "current_citInitial": 1,
   "eqLabelWithNumbers": true,
   "eqNumInitial": 1,
   "hotkeys": {
    "equation": "Ctrl-E",
    "itemize": "Ctrl-I"
   },
   "labels_anchors": false,
   "latex_user_defs": false,
   "report_style_numbering": false,
   "user_envs_cfg": false
  },
  "toc": {
   "base_numbering": 1,
   "nav_menu": {},
   "number_sections": true,
   "sideBar": true,
   "skip_h1_title": false,
   "title_cell": "Table of Contents",
   "title_sidebar": "Contents",
   "toc_cell": false,
   "toc_position": {},
   "toc_section_display": true,
   "toc_window_display": false
  },
  "varInspector": {
   "cols": {
    "lenName": 16,
    "lenType": 16,
    "lenVar": 40
   },
   "kernels_config": {
    "python": {
     "delete_cmd_postfix": "",
     "delete_cmd_prefix": "del ",
     "library": "var_list.py",
     "varRefreshCmd": "print(var_dic_list())"
    },
    "r": {
     "delete_cmd_postfix": ") ",
     "delete_cmd_prefix": "rm(",
     "library": "var_list.r",
     "varRefreshCmd": "cat(var_dic_list()) "
    }
   },
   "types_to_exclude": [
    "module",
    "function",
    "builtin_function_or_method",
    "instance",
    "_Feature"
   ],
   "window_display": false
  }
 },
 "nbformat": 4,
 "nbformat_minor": 4
}
