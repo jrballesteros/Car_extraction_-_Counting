{
 "cells": [
  {
   "cell_type": "code",
   "execution_count": null,
   "metadata": {},
   "outputs": [],
   "source": [
    "# Extract mask from the inference model\n",
    "\n",
    "unet_resnet = UNetResNet(num_classes=2)\n",
    "model_path= './unet-99'\n",
    "pretrained_model = torch.load(model_path)\n",
    "for name, tensor in pretrained_model.items():\n",
    "    unet_resnet.state_dict()[name].copy_(tensor)\n",
    "unet_resnet.eval()\n",
    "softmax2d = torch.nn.Softmax2d()\n",
    "img = cv2.imread('./img.png')\n",
    "assert img.shape[0] % 64 == 0 and img.shape[1] % 64 == 0\n",
    "img = np.expand_dims(img, axis=0)\n",
    "img = (img / 255.0 - MEAN) / STD\n",
    "img = img.transpose(0, 3, 1, 2)\n",
    "img = torch.FloatTensor(img)\n",
    "img = img.cuda()\n",
    "with torch.no_grad():\n",
    "    pred = unet_resnet(img)\n",
    "    pred = softmax2d(pred)\n",
    "    pred = pred[0, 1, :, :] > 0.7\n",
    "pred = pred.data.cpu().numpy()\n",
    "mask = (pred * 255.0).astype(np.uint8)\n",
    "cv2.imwrite('./mask.png', mask)"
   ]
  }
 ],
 "metadata": {
  "kernelspec": {
   "display_name": "Python 3",
   "language": "python",
   "name": "python3"
  },
  "language_info": {
   "codemirror_mode": {
    "name": "ipython",
    "version": 3
   },
   "file_extension": ".py",
   "mimetype": "text/x-python",
   "name": "python",
   "nbconvert_exporter": "python",
   "pygments_lexer": "ipython3",
   "version": "3.7.4"
  },
  "toc": {
   "base_numbering": 1,
   "nav_menu": {},
   "number_sections": true,
   "sideBar": true,
   "skip_h1_title": false,
   "title_cell": "Table of Contents",
   "title_sidebar": "Contents",
   "toc_cell": false,
   "toc_position": {},
   "toc_section_display": true,
   "toc_window_display": false
  },
  "varInspector": {
   "cols": {
    "lenName": 16,
    "lenType": 16,
    "lenVar": 40
   },
   "kernels_config": {
    "python": {
     "delete_cmd_postfix": "",
     "delete_cmd_prefix": "del ",
     "library": "var_list.py",
     "varRefreshCmd": "print(var_dic_list())"
    },
    "r": {
     "delete_cmd_postfix": ") ",
     "delete_cmd_prefix": "rm(",
     "library": "var_list.r",
     "varRefreshCmd": "cat(var_dic_list()) "
    }
   },
   "types_to_exclude": [
    "module",
    "function",
    "builtin_function_or_method",
    "instance",
    "_Feature"
   ],
   "window_display": false
  }
 },
 "nbformat": 4,
 "nbformat_minor": 4
}
