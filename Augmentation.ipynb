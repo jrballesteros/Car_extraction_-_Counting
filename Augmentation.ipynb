{
 "cells": [
  {
   "cell_type": "code",
   "execution_count": null,
   "metadata": {},
   "outputs": [],
   "source": [
    "import numpy as np\n",
    "from PIL import Image\n",
    "import os\n",
    "import matplotlib.pyplot as plt\n",
    "import matplotlib.image as mpimg\n",
    "from matplotlib.pyplot import figure"
   ]
  },
  {
   "cell_type": "code",
   "execution_count": null,
   "metadata": {},
   "outputs": [],
   "source": [
    "# Functions to change illumination and contrast\n",
    "\n",
    "import sys\n",
    "from PIL import Image, ImageEnhance\n",
    "Image.MAX_IMAGE_PIXELS = None\n",
    "\n",
    "mypath = \" path to image \"\n",
    "myortomosaic = \" image name \"\n",
    "\n",
    "def illuminacion(path, ortomosaic, brightness = 2):\n",
    "    img = Image.open(os.path.join(path, ortomosaic))\n",
    "    print(img.size, img.mode)\n",
    "    enhancer = ImageEnhance.Brightness(img)\n",
    "    print(\"Se produjo una ortofoto con iluminacion de: \"+ str(brightness))\n",
    "        \n",
    "    return enhancer.enhance(brightness).save(os.path.join(path,'Ilum_{}'.format(ortomosaic)))\n",
    "        \n",
    "\n",
    "def contraste(path, ortomosaic, contrast = 1.5):\n",
    "    img = Image.open(os.path.join(path, ortomosaic))\n",
    "    print(img.size, img.mode)\n",
    "    enhancer = ImageEnhance.Contrast(img)\n",
    "    print(\"Se produjo una ortofoto con contraste de: \"+ str(contrast))\n",
    "    \n",
    "    return enhancer.enhance(contrast).save(os.path.join(path,'Cont_{}'.format(ortomosaic)))\n",
    "        \n",
    "\n",
    "illuminacion(mypath,myortomosaic)\n",
    "contraste(mypath,myortomosaic)\n"
   ]
  },
  {
   "cell_type": "code",
   "execution_count": null,
   "metadata": {},
   "outputs": [],
   "source": [
    "\n",
    "mypath = \" path to image \"\n",
    "\n",
    "imagenes = 1\n",
    "\n",
    "for f in os.listdir(mypath):\n",
    "    i = Image.open(os.path.join(mypath, f))\n",
    "    print(f, i.size, i.mode)\n",
    "    fname, fext = os.path.splitext(f)\n",
    "    i.rotate(10).convert('RGB').save(os.path.join(mypath,'n{}.tif'.format(fname)))\n",
    "    i.transpose(Image.ROTATE_90).convert('RGB').save(os.path.join(mypath,'r{}.tif'.format(fname))) # rotation of 90 degrees (anti clock wise)\n",
    "    i.transpose(Image.FLIP_TOP_BOTTOM).convert('RGB').save(os.path.join(mypath,'v{}.tif'.format(fname)))\n",
    "    i.transpose(Image.FLIP_LEFT_RIGHT).convert('RGB').save(os.path.join(mypath,'h{}.tif'.format(fname)))\n",
    "    \n",
    "    imagenes = imagenes + 1\n",
    "\n",
    "print(\"number of processed images: \"+ str((imagenes-1)*4))\n"
   ]
  }
 ],
 "metadata": {
  "kernelspec": {
   "display_name": "Python 3",
   "language": "python",
   "name": "python3"
  },
  "language_info": {
   "codemirror_mode": {
    "name": "ipython",
    "version": 3
   },
   "file_extension": ".py",
   "mimetype": "text/x-python",
   "name": "python",
   "nbconvert_exporter": "python",
   "pygments_lexer": "ipython3",
   "version": "3.7.4"
  },
  "latex_envs": {
   "LaTeX_envs_menu_present": true,
   "autoclose": false,
   "autocomplete": true,
   "bibliofile": "biblio.bib",
   "cite_by": "apalike",
   "current_citInitial": 1,
   "eqLabelWithNumbers": true,
   "eqNumInitial": 1,
   "hotkeys": {
    "equation": "Ctrl-E",
    "itemize": "Ctrl-I"
   },
   "labels_anchors": false,
   "latex_user_defs": false,
   "report_style_numbering": false,
   "user_envs_cfg": false
  },
  "toc": {
   "base_numbering": 1,
   "nav_menu": {},
   "number_sections": true,
   "sideBar": true,
   "skip_h1_title": false,
   "title_cell": "Table of Contents",
   "title_sidebar": "Contents",
   "toc_cell": false,
   "toc_position": {},
   "toc_section_display": true,
   "toc_window_display": false
  },
  "varInspector": {
   "cols": {
    "lenName": 16,
    "lenType": 16,
    "lenVar": 40
   },
   "kernels_config": {
    "python": {
     "delete_cmd_postfix": "",
     "delete_cmd_prefix": "del ",
     "library": "var_list.py",
     "varRefreshCmd": "print(var_dic_list())"
    },
    "r": {
     "delete_cmd_postfix": ") ",
     "delete_cmd_prefix": "rm(",
     "library": "var_list.r",
     "varRefreshCmd": "cat(var_dic_list()) "
    }
   },
   "types_to_exclude": [
    "module",
    "function",
    "builtin_function_or_method",
    "instance",
    "_Feature"
   ],
   "window_display": false
  }
 },
 "nbformat": 4,
 "nbformat_minor": 4
}
