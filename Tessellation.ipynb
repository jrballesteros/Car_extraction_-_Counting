{
 "cells": [
  {
   "cell_type": "code",
   "execution_count": null,
   "metadata": {},
   "outputs": [],
   "source": [
    "# This script cuts RG-NDSM and Multi-Class mask images into tiles of a specific size\n",
    "\n",
    "import os\n",
    "from osgeo import gdal\n",
    "import math\n",
    "\n",
    "rasterin_folder = ' path of RG-NDSM and Multi-Class Raster Layer images '\n",
    "out_path = ' folder to save tessellated images '\n",
    "\n",
    "tile_width = 2048\n",
    "tile_height = 2048\n",
    "\n",
    "for rasterin in os.listdir(rasterin_folder):\n",
    "    if rasterin.endswith('.tif'):\n",
    "        #print(rasterin_folder + '/' + rasterin)\n",
    "        dset = gdal.Open(rasterin_folder + '/' + rasterin)\n",
    "        print(\"La ortofoto de entrada es\", dset.GetProjection())  #dset.GetGeoTransform(),\n",
    "        img_width = dset.RasterXSize\n",
    "        img_height = dset.RasterYSize\n",
    "        print('img_size:',img_width, 'x', img_height, ', tilesize:', tile_width,'x',tile_height)\n",
    "\n",
    "for rasterin in os.listdir(rasterin_folder):\n",
    "    if rasterin.endswith('.tif'):\n",
    "        gdaltranString = 'gdal_retile.py -v -r bilinear -ps ' + str(tile_width) + ' ' \\\n",
    "        + str(tile_height) + ' -co ' + 'tiled=YES' + ' -targetDir ' + out_path + ' ' \\\n",
    "        + rasterin_folder + '/' + rasterin\n",
    "        os.system(gdaltranString)\n",
    "\n",
    "print('El numero de imagenes completas es de:', (int(img_width/tile_width))*(int(img_height/tile_height)))        \n",
    "print('El numero total de imagenes producidas es de:', (math.ceil(img_width/tile_width))*(math.ceil(img_height/tile_height)))\n"
   ]
  }
 ],
 "metadata": {
  "kernelspec": {
   "display_name": "Python 3",
   "language": "python",
   "name": "python3"
  },
  "language_info": {
   "codemirror_mode": {
    "name": "ipython",
    "version": 3
   },
   "file_extension": ".py",
   "mimetype": "text/x-python",
   "name": "python",
   "nbconvert_exporter": "python",
   "pygments_lexer": "ipython3",
   "version": "3.7.4"
  },
  "latex_envs": {
   "LaTeX_envs_menu_present": true,
   "autoclose": false,
   "autocomplete": true,
   "bibliofile": "biblio.bib",
   "cite_by": "apalike",
   "current_citInitial": 1,
   "eqLabelWithNumbers": true,
   "eqNumInitial": 1,
   "hotkeys": {
    "equation": "Ctrl-E",
    "itemize": "Ctrl-I"
   },
   "labels_anchors": false,
   "latex_user_defs": false,
   "report_style_numbering": false,
   "user_envs_cfg": false
  },
  "toc": {
   "base_numbering": 1,
   "nav_menu": {},
   "number_sections": true,
   "sideBar": true,
   "skip_h1_title": false,
   "title_cell": "Table of Contents",
   "title_sidebar": "Contents",
   "toc_cell": false,
   "toc_position": {},
   "toc_section_display": true,
   "toc_window_display": false
  },
  "varInspector": {
   "cols": {
    "lenName": 16,
    "lenType": 16,
    "lenVar": 40
   },
   "kernels_config": {
    "python": {
     "delete_cmd_postfix": "",
     "delete_cmd_prefix": "del ",
     "library": "var_list.py",
     "varRefreshCmd": "print(var_dic_list())"
    },
    "r": {
     "delete_cmd_postfix": ") ",
     "delete_cmd_prefix": "rm(",
     "library": "var_list.r",
     "varRefreshCmd": "cat(var_dic_list()) "
    }
   },
   "types_to_exclude": [
    "module",
    "function",
    "builtin_function_or_method",
    "instance",
    "_Feature"
   ],
   "window_display": false
  }
 },
 "nbformat": 4,
 "nbformat_minor": 4
}
